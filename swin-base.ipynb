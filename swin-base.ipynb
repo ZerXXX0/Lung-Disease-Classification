{
 "cells": [
  {
   "cell_type": "code",
   "execution_count": 1,
   "id": "3c4c5a78",
   "metadata": {
    "_cell_guid": "b1076dfc-b9ad-4769-8c92-a6c4dae69d19",
    "_uuid": "8f2839f25d086af736a60e9eeb907d3b93b6e0e5",
    "execution": {
     "iopub.execute_input": "2025-09-23T15:29:42.726909Z",
     "iopub.status.busy": "2025-09-23T15:29:42.726623Z",
     "iopub.status.idle": "2025-09-23T15:29:59.549283Z",
     "shell.execute_reply": "2025-09-23T15:29:59.548390Z"
    },
    "papermill": {
     "duration": 16.829366,
     "end_time": "2025-09-23T15:29:59.551160",
     "exception": false,
     "start_time": "2025-09-23T15:29:42.721794",
     "status": "completed"
    },
    "tags": []
   },
   "outputs": [],
   "source": [
    "from urllib.request import urlopen\n",
    "import timm\n",
    "import torch\n",
    "import zipfile,os\n",
    "from PIL import Image\n",
    "from pathlib import Path\n",
    "from torchvision.datasets import ImageFolder\n",
    "from torchvision import transforms\n",
    "from torch.utils.data import DataLoader,Dataset\n",
    "from sklearn.metrics import accuracy_score\n",
    "from tqdm import tqdm\n",
    "import torch.nn as nn\n",
    "import torch.optim as optim"
   ]
  },
  {
   "cell_type": "code",
   "execution_count": 2,
   "id": "e62a686a",
   "metadata": {
    "execution": {
     "iopub.execute_input": "2025-09-23T15:29:59.559044Z",
     "iopub.status.busy": "2025-09-23T15:29:59.558277Z",
     "iopub.status.idle": "2025-09-23T15:30:09.313616Z",
     "shell.execute_reply": "2025-09-23T15:30:09.312543Z"
    },
    "papermill": {
     "duration": 9.760424,
     "end_time": "2025-09-23T15:30:09.315087",
     "exception": false,
     "start_time": "2025-09-23T15:29:59.554663",
     "status": "completed"
    },
    "tags": []
   },
   "outputs": [
    {
     "name": "stdout",
     "output_type": "stream",
     "text": [
      "Collecting roboflow\r\n",
      "  Downloading roboflow-1.2.9-py3-none-any.whl.metadata (9.7 kB)\r\n",
      "Requirement already satisfied: certifi in /usr/local/lib/python3.11/dist-packages (from roboflow) (2025.6.15)\r\n",
      "Collecting idna==3.7 (from roboflow)\r\n",
      "  Downloading idna-3.7-py3-none-any.whl.metadata (9.9 kB)\r\n",
      "Requirement already satisfied: cycler in /usr/local/lib/python3.11/dist-packages (from roboflow) (0.12.1)\r\n",
      "Requirement already satisfied: kiwisolver>=1.3.1 in /usr/local/lib/python3.11/dist-packages (from roboflow) (1.4.8)\r\n",
      "Requirement already satisfied: matplotlib in /usr/local/lib/python3.11/dist-packages (from roboflow) (3.7.2)\r\n",
      "Requirement already satisfied: numpy>=1.18.5 in /usr/local/lib/python3.11/dist-packages (from roboflow) (1.26.4)\r\n",
      "Collecting opencv-python-headless==4.10.0.84 (from roboflow)\r\n",
      "  Downloading opencv_python_headless-4.10.0.84-cp37-abi3-manylinux_2_17_x86_64.manylinux2014_x86_64.whl.metadata (20 kB)\r\n",
      "Requirement already satisfied: Pillow>=7.1.2 in /usr/local/lib/python3.11/dist-packages (from roboflow) (11.2.1)\r\n",
      "Collecting pi-heif<2 (from roboflow)\r\n",
      "  Downloading pi_heif-1.1.0-cp311-cp311-manylinux_2_27_x86_64.manylinux_2_28_x86_64.whl.metadata (6.5 kB)\r\n",
      "Collecting pillow-avif-plugin<2 (from roboflow)\r\n",
      "  Downloading pillow_avif_plugin-1.5.2-cp311-cp311-manylinux_2_28_x86_64.whl.metadata (2.1 kB)\r\n",
      "Requirement already satisfied: python-dateutil in /usr/local/lib/python3.11/dist-packages (from roboflow) (2.9.0.post0)\r\n",
      "Collecting python-dotenv (from roboflow)\r\n",
      "  Downloading python_dotenv-1.1.1-py3-none-any.whl.metadata (24 kB)\r\n",
      "Requirement already satisfied: requests in /usr/local/lib/python3.11/dist-packages (from roboflow) (2.32.4)\r\n",
      "Requirement already satisfied: six in /usr/local/lib/python3.11/dist-packages (from roboflow) (1.17.0)\r\n",
      "Requirement already satisfied: urllib3>=1.26.6 in /usr/local/lib/python3.11/dist-packages (from roboflow) (2.5.0)\r\n",
      "Requirement already satisfied: tqdm>=4.41.0 in /usr/local/lib/python3.11/dist-packages (from roboflow) (4.67.1)\r\n",
      "Requirement already satisfied: PyYAML>=5.3.1 in /usr/local/lib/python3.11/dist-packages (from roboflow) (6.0.2)\r\n",
      "Requirement already satisfied: requests-toolbelt in /usr/local/lib/python3.11/dist-packages (from roboflow) (1.0.0)\r\n",
      "Collecting filetype (from roboflow)\r\n",
      "  Downloading filetype-1.2.0-py2.py3-none-any.whl.metadata (6.5 kB)\r\n",
      "Requirement already satisfied: mkl_fft in /usr/local/lib/python3.11/dist-packages (from numpy>=1.18.5->roboflow) (1.3.8)\r\n",
      "Requirement already satisfied: mkl_random in /usr/local/lib/python3.11/dist-packages (from numpy>=1.18.5->roboflow) (1.2.4)\r\n",
      "Requirement already satisfied: mkl_umath in /usr/local/lib/python3.11/dist-packages (from numpy>=1.18.5->roboflow) (0.1.1)\r\n",
      "Requirement already satisfied: mkl in /usr/local/lib/python3.11/dist-packages (from numpy>=1.18.5->roboflow) (2025.2.0)\r\n",
      "Requirement already satisfied: tbb4py in /usr/local/lib/python3.11/dist-packages (from numpy>=1.18.5->roboflow) (2022.2.0)\r\n",
      "Requirement already satisfied: mkl-service in /usr/local/lib/python3.11/dist-packages (from numpy>=1.18.5->roboflow) (2.4.1)\r\n",
      "Requirement already satisfied: contourpy>=1.0.1 in /usr/local/lib/python3.11/dist-packages (from matplotlib->roboflow) (1.3.2)\r\n",
      "Requirement already satisfied: fonttools>=4.22.0 in /usr/local/lib/python3.11/dist-packages (from matplotlib->roboflow) (4.58.4)\r\n",
      "Requirement already satisfied: packaging>=20.0 in /usr/local/lib/python3.11/dist-packages (from matplotlib->roboflow) (25.0)\r\n",
      "Requirement already satisfied: pyparsing<3.1,>=2.3.1 in /usr/local/lib/python3.11/dist-packages (from matplotlib->roboflow) (3.0.9)\r\n",
      "Requirement already satisfied: charset_normalizer<4,>=2 in /usr/local/lib/python3.11/dist-packages (from requests->roboflow) (3.4.2)\r\n",
      "Requirement already satisfied: intel-openmp<2026,>=2024 in /usr/local/lib/python3.11/dist-packages (from mkl->numpy>=1.18.5->roboflow) (2024.2.0)\r\n",
      "Requirement already satisfied: tbb==2022.* in /usr/local/lib/python3.11/dist-packages (from mkl->numpy>=1.18.5->roboflow) (2022.2.0)\r\n",
      "Requirement already satisfied: tcmlib==1.* in /usr/local/lib/python3.11/dist-packages (from tbb==2022.*->mkl->numpy>=1.18.5->roboflow) (1.4.0)\r\n",
      "Requirement already satisfied: intel-cmplr-lib-rt in /usr/local/lib/python3.11/dist-packages (from mkl_umath->numpy>=1.18.5->roboflow) (2024.2.0)\r\n",
      "Requirement already satisfied: intel-cmplr-lib-ur==2024.2.0 in /usr/local/lib/python3.11/dist-packages (from intel-openmp<2026,>=2024->mkl->numpy>=1.18.5->roboflow) (2024.2.0)\r\n",
      "Downloading roboflow-1.2.9-py3-none-any.whl (88 kB)\r\n",
      "\u001b[2K   \u001b[90m━━━━━━━━━━━━━━━━━━━━━━━━━━━━━━━━━━━━━━━━\u001b[0m \u001b[32m88.7/88.7 kB\u001b[0m \u001b[31m3.6 MB/s\u001b[0m eta \u001b[36m0:00:00\u001b[0m\r\n",
      "\u001b[?25hDownloading idna-3.7-py3-none-any.whl (66 kB)\r\n",
      "\u001b[2K   \u001b[90m━━━━━━━━━━━━━━━━━━━━━━━━━━━━━━━━━━━━━━━━\u001b[0m \u001b[32m66.8/66.8 kB\u001b[0m \u001b[31m4.8 MB/s\u001b[0m eta \u001b[36m0:00:00\u001b[0m\r\n",
      "\u001b[?25hDownloading opencv_python_headless-4.10.0.84-cp37-abi3-manylinux_2_17_x86_64.manylinux2014_x86_64.whl (49.9 MB)\r\n",
      "\u001b[2K   \u001b[90m━━━━━━━━━━━━━━━━━━━━━━━━━━━━━━━━━━━━━━━━\u001b[0m \u001b[32m49.9/49.9 MB\u001b[0m \u001b[31m34.7 MB/s\u001b[0m eta \u001b[36m0:00:00\u001b[0m\r\n",
      "\u001b[?25hDownloading pi_heif-1.1.0-cp311-cp311-manylinux_2_27_x86_64.manylinux_2_28_x86_64.whl (1.4 MB)\r\n",
      "\u001b[2K   \u001b[90m━━━━━━━━━━━━━━━━━━━━━━━━━━━━━━━━━━━━━━━━\u001b[0m \u001b[32m1.4/1.4 MB\u001b[0m \u001b[31m51.3 MB/s\u001b[0m eta \u001b[36m0:00:00\u001b[0m\r\n",
      "\u001b[?25hDownloading pillow_avif_plugin-1.5.2-cp311-cp311-manylinux_2_28_x86_64.whl (4.2 MB)\r\n",
      "\u001b[2K   \u001b[90m━━━━━━━━━━━━━━━━━━━━━━━━━━━━━━━━━━━━━━━━\u001b[0m \u001b[32m4.2/4.2 MB\u001b[0m \u001b[31m85.7 MB/s\u001b[0m eta \u001b[36m0:00:00\u001b[0m\r\n",
      "\u001b[?25hDownloading filetype-1.2.0-py2.py3-none-any.whl (19 kB)\r\n",
      "Downloading python_dotenv-1.1.1-py3-none-any.whl (20 kB)\r\n",
      "Installing collected packages: pillow-avif-plugin, filetype, python-dotenv, pi-heif, idna, opencv-python-headless, roboflow\r\n",
      "  Attempting uninstall: idna\r\n",
      "    Found existing installation: idna 3.10\r\n",
      "    Uninstalling idna-3.10:\r\n",
      "      Successfully uninstalled idna-3.10\r\n",
      "  Attempting uninstall: opencv-python-headless\r\n",
      "    Found existing installation: opencv-python-headless 4.11.0.86\r\n",
      "    Uninstalling opencv-python-headless-4.11.0.86:\r\n",
      "      Successfully uninstalled opencv-python-headless-4.11.0.86\r\n",
      "\u001b[31mERROR: pip's dependency resolver does not currently take into account all the packages that are installed. This behaviour is the source of the following dependency conflicts.\r\n",
      "bigframes 2.8.0 requires google-cloud-bigquery-storage<3.0.0,>=2.30.0, which is not installed.\r\n",
      "datasets 3.6.0 requires fsspec[http]<=2025.3.0,>=2023.1.0, but you have fsspec 2025.5.1 which is incompatible.\r\n",
      "google-colab 1.0.0 requires google-auth==2.38.0, but you have google-auth 2.40.3 which is incompatible.\r\n",
      "google-colab 1.0.0 requires notebook==6.5.7, but you have notebook 6.5.4 which is incompatible.\r\n",
      "google-colab 1.0.0 requires pandas==2.2.2, but you have pandas 2.2.3 which is incompatible.\r\n",
      "google-colab 1.0.0 requires requests==2.32.3, but you have requests 2.32.4 which is incompatible.\r\n",
      "google-colab 1.0.0 requires tornado==6.4.2, but you have tornado 6.5.1 which is incompatible.\r\n",
      "pandas-gbq 0.29.1 requires google-api-core<3.0.0,>=2.10.2, but you have google-api-core 1.34.1 which is incompatible.\r\n",
      "gcsfs 2025.3.2 requires fsspec==2025.3.2, but you have fsspec 2025.5.1 which is incompatible.\r\n",
      "langchain-core 0.3.66 requires packaging<25,>=23.2, but you have packaging 25.0 which is incompatible.\r\n",
      "google-cloud-storage 2.19.0 requires google-api-core<3.0.0dev,>=2.15.0, but you have google-api-core 1.34.1 which is incompatible.\r\n",
      "dataproc-spark-connect 0.7.5 requires google-api-core>=2.19, but you have google-api-core 1.34.1 which is incompatible.\r\n",
      "bigframes 2.8.0 requires google-cloud-bigquery[bqstorage,pandas]>=3.31.0, but you have google-cloud-bigquery 3.25.0 which is incompatible.\r\n",
      "bigframes 2.8.0 requires rich<14,>=12.4.4, but you have rich 14.0.0 which is incompatible.\r\n",
      "jupyter-kernel-gateway 2.5.2 requires jupyter-client<8.0,>=5.2.0, but you have jupyter-client 8.6.3 which is incompatible.\u001b[0m\u001b[31m\r\n",
      "\u001b[0mSuccessfully installed filetype-1.2.0 idna-3.7 opencv-python-headless-4.10.0.84 pi-heif-1.1.0 pillow-avif-plugin-1.5.2 python-dotenv-1.1.1 roboflow-1.2.9\r\n",
      "Note: you may need to restart the kernel to use updated packages.\n"
     ]
    }
   ],
   "source": [
    "pip install roboflow"
   ]
  },
  {
   "cell_type": "code",
   "execution_count": 3,
   "id": "31537bd5",
   "metadata": {
    "execution": {
     "iopub.execute_input": "2025-09-23T15:30:09.327643Z",
     "iopub.status.busy": "2025-09-23T15:30:09.326841Z",
     "iopub.status.idle": "2025-09-23T15:30:16.523817Z",
     "shell.execute_reply": "2025-09-23T15:30:16.522545Z"
    },
    "papermill": {
     "duration": 7.204562,
     "end_time": "2025-09-23T15:30:16.525284",
     "exception": false,
     "start_time": "2025-09-23T15:30:09.320722",
     "status": "completed"
    },
    "tags": []
   },
   "outputs": [
    {
     "name": "stdout",
     "output_type": "stream",
     "text": [
      "Collecting scikit-learn==1.3.1\r\n",
      "  Downloading scikit_learn-1.3.1-cp311-cp311-manylinux_2_17_x86_64.manylinux2014_x86_64.whl.metadata (11 kB)\r\n",
      "Requirement already satisfied: numpy<2.0,>=1.17.3 in /usr/local/lib/python3.11/dist-packages (from scikit-learn==1.3.1) (1.26.4)\r\n",
      "Requirement already satisfied: scipy>=1.5.0 in /usr/local/lib/python3.11/dist-packages (from scikit-learn==1.3.1) (1.15.3)\r\n",
      "Requirement already satisfied: joblib>=1.1.1 in /usr/local/lib/python3.11/dist-packages (from scikit-learn==1.3.1) (1.5.1)\r\n",
      "Requirement already satisfied: threadpoolctl>=2.0.0 in /usr/local/lib/python3.11/dist-packages (from scikit-learn==1.3.1) (3.6.0)\r\n",
      "Requirement already satisfied: mkl_fft in /usr/local/lib/python3.11/dist-packages (from numpy<2.0,>=1.17.3->scikit-learn==1.3.1) (1.3.8)\r\n",
      "Requirement already satisfied: mkl_random in /usr/local/lib/python3.11/dist-packages (from numpy<2.0,>=1.17.3->scikit-learn==1.3.1) (1.2.4)\r\n",
      "Requirement already satisfied: mkl_umath in /usr/local/lib/python3.11/dist-packages (from numpy<2.0,>=1.17.3->scikit-learn==1.3.1) (0.1.1)\r\n",
      "Requirement already satisfied: mkl in /usr/local/lib/python3.11/dist-packages (from numpy<2.0,>=1.17.3->scikit-learn==1.3.1) (2025.2.0)\r\n",
      "Requirement already satisfied: tbb4py in /usr/local/lib/python3.11/dist-packages (from numpy<2.0,>=1.17.3->scikit-learn==1.3.1) (2022.2.0)\r\n",
      "Requirement already satisfied: mkl-service in /usr/local/lib/python3.11/dist-packages (from numpy<2.0,>=1.17.3->scikit-learn==1.3.1) (2.4.1)\r\n",
      "Requirement already satisfied: intel-openmp<2026,>=2024 in /usr/local/lib/python3.11/dist-packages (from mkl->numpy<2.0,>=1.17.3->scikit-learn==1.3.1) (2024.2.0)\r\n",
      "Requirement already satisfied: tbb==2022.* in /usr/local/lib/python3.11/dist-packages (from mkl->numpy<2.0,>=1.17.3->scikit-learn==1.3.1) (2022.2.0)\r\n",
      "Requirement already satisfied: tcmlib==1.* in /usr/local/lib/python3.11/dist-packages (from tbb==2022.*->mkl->numpy<2.0,>=1.17.3->scikit-learn==1.3.1) (1.4.0)\r\n",
      "Requirement already satisfied: intel-cmplr-lib-rt in /usr/local/lib/python3.11/dist-packages (from mkl_umath->numpy<2.0,>=1.17.3->scikit-learn==1.3.1) (2024.2.0)\r\n",
      "Requirement already satisfied: intel-cmplr-lib-ur==2024.2.0 in /usr/local/lib/python3.11/dist-packages (from intel-openmp<2026,>=2024->mkl->numpy<2.0,>=1.17.3->scikit-learn==1.3.1) (2024.2.0)\r\n",
      "Downloading scikit_learn-1.3.1-cp311-cp311-manylinux_2_17_x86_64.manylinux2014_x86_64.whl (10.9 MB)\r\n",
      "\u001b[2K   \u001b[90m━━━━━━━━━━━━━━━━━━━━━━━━━━━━━━━━━━━━━━━━\u001b[0m \u001b[32m10.9/10.9 MB\u001b[0m \u001b[31m76.1 MB/s\u001b[0m eta \u001b[36m0:00:00\u001b[0m\r\n",
      "\u001b[?25hInstalling collected packages: scikit-learn\r\n",
      "  Attempting uninstall: scikit-learn\r\n",
      "    Found existing installation: scikit-learn 1.2.2\r\n",
      "    Uninstalling scikit-learn-1.2.2:\r\n",
      "      Successfully uninstalled scikit-learn-1.2.2\r\n",
      "\u001b[31mERROR: pip's dependency resolver does not currently take into account all the packages that are installed. This behaviour is the source of the following dependency conflicts.\r\n",
      "cesium 0.12.4 requires numpy<3.0,>=2.0, but you have numpy 1.26.4 which is incompatible.\r\n",
      "imbalanced-learn 0.13.0 requires scikit-learn<2,>=1.3.2, but you have scikit-learn 1.3.1 which is incompatible.\u001b[0m\u001b[31m\r\n",
      "\u001b[0mSuccessfully installed scikit-learn-1.3.1\r\n",
      "Note: you may need to restart the kernel to use updated packages.\n"
     ]
    }
   ],
   "source": [
    "pip install scikit-learn==1.3.1"
   ]
  },
  {
   "cell_type": "code",
   "execution_count": 4,
   "id": "3ab65ad1",
   "metadata": {
    "execution": {
     "iopub.execute_input": "2025-09-23T15:30:16.538293Z",
     "iopub.status.busy": "2025-09-23T15:30:16.537541Z",
     "iopub.status.idle": "2025-09-23T15:30:38.166986Z",
     "shell.execute_reply": "2025-09-23T15:30:38.165947Z"
    },
    "papermill": {
     "duration": 21.637481,
     "end_time": "2025-09-23T15:30:38.168694",
     "exception": false,
     "start_time": "2025-09-23T15:30:16.531213",
     "status": "completed"
    },
    "tags": []
   },
   "outputs": [
    {
     "name": "stdout",
     "output_type": "stream",
     "text": [
      "Collecting matplotlib==3.8.0\r\n",
      "  Downloading matplotlib-3.8.0-cp311-cp311-manylinux_2_17_x86_64.manylinux2014_x86_64.whl.metadata (5.8 kB)\r\n",
      "Requirement already satisfied: contourpy>=1.0.1 in /usr/local/lib/python3.11/dist-packages (from matplotlib==3.8.0) (1.3.2)\r\n",
      "Requirement already satisfied: cycler>=0.10 in /usr/local/lib/python3.11/dist-packages (from matplotlib==3.8.0) (0.12.1)\r\n",
      "Requirement already satisfied: fonttools>=4.22.0 in /usr/local/lib/python3.11/dist-packages (from matplotlib==3.8.0) (4.58.4)\r\n",
      "Requirement already satisfied: kiwisolver>=1.0.1 in /usr/local/lib/python3.11/dist-packages (from matplotlib==3.8.0) (1.4.8)\r\n",
      "Requirement already satisfied: numpy<2,>=1.21 in /usr/local/lib/python3.11/dist-packages (from matplotlib==3.8.0) (1.26.4)\r\n",
      "Requirement already satisfied: packaging>=20.0 in /usr/local/lib/python3.11/dist-packages (from matplotlib==3.8.0) (25.0)\r\n",
      "Requirement already satisfied: pillow>=6.2.0 in /usr/local/lib/python3.11/dist-packages (from matplotlib==3.8.0) (11.2.1)\r\n",
      "Requirement already satisfied: pyparsing>=2.3.1 in /usr/local/lib/python3.11/dist-packages (from matplotlib==3.8.0) (3.0.9)\r\n",
      "Requirement already satisfied: python-dateutil>=2.7 in /usr/local/lib/python3.11/dist-packages (from matplotlib==3.8.0) (2.9.0.post0)\r\n",
      "Requirement already satisfied: mkl_fft in /usr/local/lib/python3.11/dist-packages (from numpy<2,>=1.21->matplotlib==3.8.0) (1.3.8)\r\n",
      "Requirement already satisfied: mkl_random in /usr/local/lib/python3.11/dist-packages (from numpy<2,>=1.21->matplotlib==3.8.0) (1.2.4)\r\n",
      "Requirement already satisfied: mkl_umath in /usr/local/lib/python3.11/dist-packages (from numpy<2,>=1.21->matplotlib==3.8.0) (0.1.1)\r\n",
      "Requirement already satisfied: mkl in /usr/local/lib/python3.11/dist-packages (from numpy<2,>=1.21->matplotlib==3.8.0) (2025.2.0)\r\n",
      "Requirement already satisfied: tbb4py in /usr/local/lib/python3.11/dist-packages (from numpy<2,>=1.21->matplotlib==3.8.0) (2022.2.0)\r\n",
      "Requirement already satisfied: mkl-service in /usr/local/lib/python3.11/dist-packages (from numpy<2,>=1.21->matplotlib==3.8.0) (2.4.1)\r\n",
      "Requirement already satisfied: six>=1.5 in /usr/local/lib/python3.11/dist-packages (from python-dateutil>=2.7->matplotlib==3.8.0) (1.17.0)\r\n",
      "Requirement already satisfied: intel-openmp<2026,>=2024 in /usr/local/lib/python3.11/dist-packages (from mkl->numpy<2,>=1.21->matplotlib==3.8.0) (2024.2.0)\r\n",
      "Requirement already satisfied: tbb==2022.* in /usr/local/lib/python3.11/dist-packages (from mkl->numpy<2,>=1.21->matplotlib==3.8.0) (2022.2.0)\r\n",
      "Requirement already satisfied: tcmlib==1.* in /usr/local/lib/python3.11/dist-packages (from tbb==2022.*->mkl->numpy<2,>=1.21->matplotlib==3.8.0) (1.4.0)\r\n",
      "Requirement already satisfied: intel-cmplr-lib-rt in /usr/local/lib/python3.11/dist-packages (from mkl_umath->numpy<2,>=1.21->matplotlib==3.8.0) (2024.2.0)\r\n",
      "Requirement already satisfied: intel-cmplr-lib-ur==2024.2.0 in /usr/local/lib/python3.11/dist-packages (from intel-openmp<2026,>=2024->mkl->numpy<2,>=1.21->matplotlib==3.8.0) (2024.2.0)\r\n",
      "Downloading matplotlib-3.8.0-cp311-cp311-manylinux_2_17_x86_64.manylinux2014_x86_64.whl (11.6 MB)\r\n",
      "\u001b[2K   \u001b[90m━━━━━━━━━━━━━━━━━━━━━━━━━━━━━━━━━━━━━━━━\u001b[0m \u001b[32m11.6/11.6 MB\u001b[0m \u001b[31m82.2 MB/s\u001b[0m eta \u001b[36m0:00:00\u001b[0m\r\n",
      "\u001b[?25hInstalling collected packages: matplotlib\r\n",
      "  Attempting uninstall: matplotlib\r\n",
      "    Found existing installation: matplotlib 3.7.2\r\n",
      "    Uninstalling matplotlib-3.7.2:\r\n",
      "      Successfully uninstalled matplotlib-3.7.2\r\n",
      "\u001b[31mERROR: pip's dependency resolver does not currently take into account all the packages that are installed. This behaviour is the source of the following dependency conflicts.\r\n",
      "bigframes 2.8.0 requires google-cloud-bigquery-storage<3.0.0,>=2.30.0, which is not installed.\r\n",
      "bigframes 2.8.0 requires google-cloud-bigquery[bqstorage,pandas]>=3.31.0, but you have google-cloud-bigquery 3.25.0 which is incompatible.\r\n",
      "bigframes 2.8.0 requires rich<14,>=12.4.4, but you have rich 14.0.0 which is incompatible.\u001b[0m\u001b[31m\r\n",
      "\u001b[0mSuccessfully installed matplotlib-3.8.0\r\n",
      "Note: you may need to restart the kernel to use updated packages.\n"
     ]
    }
   ],
   "source": [
    "pip install matplotlib==3.8.0"
   ]
  },
  {
   "cell_type": "code",
   "execution_count": 5,
   "id": "481bee11",
   "metadata": {
    "execution": {
     "iopub.execute_input": "2025-09-23T15:30:38.182505Z",
     "iopub.status.busy": "2025-09-23T15:30:38.182226Z",
     "iopub.status.idle": "2025-09-23T15:30:46.360957Z",
     "shell.execute_reply": "2025-09-23T15:30:46.360123Z"
    },
    "papermill": {
     "duration": 8.187297,
     "end_time": "2025-09-23T15:30:46.362419",
     "exception": false,
     "start_time": "2025-09-23T15:30:38.175122",
     "status": "completed"
    },
    "tags": []
   },
   "outputs": [
    {
     "name": "stdout",
     "output_type": "stream",
     "text": [
      "loading Roboflow workspace...\n",
      "loading Roboflow project...\n"
     ]
    },
    {
     "name": "stderr",
     "output_type": "stream",
     "text": [
      "Downloading Dataset Version Zip in Lung-disease-2 to folder:: 100%|██████████| 256827/256827 [00:04<00:00, 63485.72it/s]"
     ]
    },
    {
     "name": "stdout",
     "output_type": "stream",
     "text": [
      "\n"
     ]
    },
    {
     "name": "stderr",
     "output_type": "stream",
     "text": [
      "\n",
      "Extracting Dataset Version Zip to Lung-disease-2 in folder:: 100%|██████████| 8083/8083 [00:01<00:00, 6477.12it/s]\n"
     ]
    }
   ],
   "source": [
    "from roboflow import Roboflow\n",
    "rf = Roboflow(api_key=\"B5AgQrixtU1h66djOZMm\")\n",
    "project = rf.workspace(\"digihack\").project(\"lung-disease-pbtdg\")\n",
    "version = project.version(2)\n",
    "dataset = version.download(\"folder\") "
   ]
  },
  {
   "cell_type": "code",
   "execution_count": 6,
   "id": "cde63bc0",
   "metadata": {
    "execution": {
     "iopub.execute_input": "2025-09-23T15:30:46.382503Z",
     "iopub.status.busy": "2025-09-23T15:30:46.382220Z",
     "iopub.status.idle": "2025-09-23T15:30:50.138104Z",
     "shell.execute_reply": "2025-09-23T15:30:50.137028Z"
    },
    "papermill": {
     "duration": 3.767753,
     "end_time": "2025-09-23T15:30:50.139464",
     "exception": false,
     "start_time": "2025-09-23T15:30:46.371711",
     "status": "completed"
    },
    "tags": []
   },
   "outputs": [
    {
     "name": "stdout",
     "output_type": "stream",
     "text": [
      "loading Roboflow workspace...\n",
      "loading Roboflow project...\n"
     ]
    },
    {
     "name": "stderr",
     "output_type": "stream",
     "text": [
      "Downloading Dataset Version Zip in Lung-Disease-1 to folder:: 100%|██████████| 65096/65096 [00:01<00:00, 51510.42it/s]"
     ]
    },
    {
     "name": "stdout",
     "output_type": "stream",
     "text": [
      "\n"
     ]
    },
    {
     "name": "stderr",
     "output_type": "stream",
     "text": [
      "\n",
      "Extracting Dataset Version Zip to Lung-Disease-1 in folder:: 100%|██████████| 2029/2029 [00:00<00:00, 6520.99it/s]\n"
     ]
    }
   ],
   "source": [
    "from roboflow import Roboflow\n",
    "rf = Roboflow(api_key=\"Q1flzyg1J8Z2OMweLXf3\")\n",
    "project = rf.workspace(\"weapon-mpr3p\").project(\"lung-disease-rybev\")\n",
    "version = project.version(1)\n",
    "dataset2 = version.download(\"folder\")"
   ]
  },
  {
   "cell_type": "code",
   "execution_count": 7,
   "id": "3d28b758",
   "metadata": {
    "execution": {
     "iopub.execute_input": "2025-09-23T15:30:50.161000Z",
     "iopub.status.busy": "2025-09-23T15:30:50.160464Z",
     "iopub.status.idle": "2025-09-23T15:30:50.164149Z",
     "shell.execute_reply": "2025-09-23T15:30:50.163528Z"
    },
    "papermill": {
     "duration": 0.015389,
     "end_time": "2025-09-23T15:30:50.165366",
     "exception": false,
     "start_time": "2025-09-23T15:30:50.149977",
     "status": "completed"
    },
    "tags": []
   },
   "outputs": [],
   "source": [
    "train_dir = dataset.location + \"/train\"\n",
    "test_dir = dataset2.location + \"/train\"\n",
    "val_dir = dataset.location + \"/valid\""
   ]
  },
  {
   "cell_type": "code",
   "execution_count": 8,
   "id": "1a0ef40c",
   "metadata": {
    "execution": {
     "iopub.execute_input": "2025-09-23T15:30:50.186193Z",
     "iopub.status.busy": "2025-09-23T15:30:50.185650Z",
     "iopub.status.idle": "2025-09-23T15:30:50.189256Z",
     "shell.execute_reply": "2025-09-23T15:30:50.188589Z"
    },
    "papermill": {
     "duration": 0.015172,
     "end_time": "2025-09-23T15:30:50.190493",
     "exception": false,
     "start_time": "2025-09-23T15:30:50.175321",
     "status": "completed"
    },
    "tags": []
   },
   "outputs": [],
   "source": [
    "model_name = 'swin_base_patch4_window7_224'"
   ]
  },
  {
   "cell_type": "code",
   "execution_count": 9,
   "id": "205a92d7",
   "metadata": {
    "execution": {
     "iopub.execute_input": "2025-09-23T15:30:50.210646Z",
     "iopub.status.busy": "2025-09-23T15:30:50.210448Z",
     "iopub.status.idle": "2025-09-23T15:30:53.917087Z",
     "shell.execute_reply": "2025-09-23T15:30:53.916087Z"
    },
    "papermill": {
     "duration": 3.718326,
     "end_time": "2025-09-23T15:30:53.918558",
     "exception": false,
     "start_time": "2025-09-23T15:30:50.200232",
     "status": "completed"
    },
    "tags": []
   },
   "outputs": [
    {
     "data": {
      "application/vnd.jupyter.widget-view+json": {
       "model_id": "e46065390c14468eab8cecde02134990",
       "version_major": 2,
       "version_minor": 0
      },
      "text/plain": [
       "model.safetensors:   0%|          | 0.00/353M [00:00<?, ?B/s]"
      ]
     },
     "metadata": {},
     "output_type": "display_data"
    },
    {
     "name": "stdout",
     "output_type": "stream",
     "text": [
      "Model expects input size: (3, 224, 224)\n",
      "Model normalization: mean=(0.485, 0.456, 0.406), std=(0.229, 0.224, 0.225)\n"
     ]
    }
   ],
   "source": [
    "model = timm.create_model(\n",
    "    model_name,\n",
    "    pretrained=True,\n",
    "    num_classes=5,\n",
    ")\n",
    "if torch.cuda.device_count() > 1:\n",
    "    model = nn.DataParallel(model)\n",
    "\n",
    "model = model.train()\n",
    "\n",
    "# Get model specific transforms (normalization, resize)\n",
    "data_config = timm.data.resolve_model_data_config(model)\n",
    "print(f\"Model expects input size: {data_config['input_size']}\")\n",
    "print(f\"Model normalization: mean={data_config['mean']}, std={data_config['std']}\")\n",
    "\n",
    "# Create training and validation transforms\n",
    "train_transform = timm.data.create_transform(**data_config, is_training=True)\n",
    "val_transform = timm.data.create_transform(**data_config, is_training=False)"
   ]
  },
  {
   "cell_type": "code",
   "execution_count": 10,
   "id": "eb67e9df",
   "metadata": {
    "execution": {
     "iopub.execute_input": "2025-09-23T15:30:53.942310Z",
     "iopub.status.busy": "2025-09-23T15:30:53.941550Z",
     "iopub.status.idle": "2025-09-23T15:30:53.951270Z",
     "shell.execute_reply": "2025-09-23T15:30:53.950557Z"
    },
    "papermill": {
     "duration": 0.022407,
     "end_time": "2025-09-23T15:30:53.952591",
     "exception": false,
     "start_time": "2025-09-23T15:30:53.930184",
     "status": "completed"
    },
    "tags": []
   },
   "outputs": [],
   "source": [
    "class CustomDataset(Dataset):\n",
    "    def __init__(self, data_dir, transform=None):\n",
    "        self.data_dir = data_dir\n",
    "        self.transform = transform\n",
    "        self.images = []\n",
    "        self.labels = []\n",
    "        \n",
    "        # Get class names and sort them for consistency\n",
    "        self.class_names = sorted(os.listdir(data_dir))\n",
    "        print(f\"Found classes: {self.class_names}\")\n",
    "\n",
    "        for label, class_name in enumerate(self.class_names):\n",
    "            class_dir = os.path.join(data_dir, class_name)\n",
    "            if os.path.isdir(class_dir):  # Only process directories\n",
    "                class_images = [f for f in os.listdir(class_dir) \n",
    "                              if f.lower().endswith(('.png', '.jpg', '.jpeg', '.bmp', '.tiff'))]\n",
    "                print(f\"Class '{class_name}': {len(class_images)} images\")\n",
    "                \n",
    "                for img_name in class_images:\n",
    "                    img_path = os.path.join(class_dir, img_name)\n",
    "                    self.images.append(img_path)\n",
    "                    self.labels.append(label)\n",
    "        \n",
    "        print(f\"Total images loaded: {len(self.images)}\")\n",
    "\n",
    "    def __len__(self):\n",
    "        return len(self.images)\n",
    "\n",
    "    def __getitem__(self, idx):\n",
    "        img_path = self.images[idx]\n",
    "        try:\n",
    "            image = Image.open(img_path).convert('RGB')\n",
    "            label = self.labels[idx]\n",
    "\n",
    "            if self.transform:\n",
    "                image = self.transform(image)\n",
    "\n",
    "            return image, label\n",
    "        except Exception as e:\n",
    "            print(f\"Error loading image {img_path}: {e}\")\n",
    "            # Return a black image if loading fails\n",
    "            if self.transform:\n",
    "                black_image = self.transform(Image.new('RGB', (224, 224), (0, 0, 0)))\n",
    "            else:\n",
    "                black_image = Image.new('RGB', (224, 224), (0, 0, 0))\n",
    "            return black_image, self.labels[idx]\n"
   ]
  },
  {
   "cell_type": "code",
   "execution_count": 11,
   "id": "92ffbb19",
   "metadata": {
    "execution": {
     "iopub.execute_input": "2025-09-23T15:30:53.980464Z",
     "iopub.status.busy": "2025-09-23T15:30:53.979871Z",
     "iopub.status.idle": "2025-09-23T15:30:54.641269Z",
     "shell.execute_reply": "2025-09-23T15:30:54.640331Z"
    },
    "papermill": {
     "duration": 0.677574,
     "end_time": "2025-09-23T15:30:54.645333",
     "exception": false,
     "start_time": "2025-09-23T15:30:53.967759",
     "status": "completed"
    },
    "tags": []
   },
   "outputs": [
    {
     "name": "stdout",
     "output_type": "stream",
     "text": [
      "Found classes: ['Bacterial Pneumonia', 'Corona Virus Disease', 'Normal', 'Tuberculosis', 'Viral Pneumonia']\n",
      "Class 'Bacterial Pneumonia': 1205 images\n",
      "Class 'Corona Virus Disease': 1218 images\n",
      "Class 'Normal': 1207 images\n",
      "Class 'Tuberculosis': 1220 images\n",
      "Class 'Viral Pneumonia': 1204 images\n",
      "Total images loaded: 6054\n",
      "Found classes: ['Bacterial Pneumonia', 'Corona Virus Disease', 'Normal', 'Tuberculosis', 'Viral Pneumonia']\n",
      "Class 'Bacterial Pneumonia': 401 images\n",
      "Class 'Corona Virus Disease': 405 images\n",
      "Class 'Normal': 402 images\n",
      "Class 'Tuberculosis': 406 images\n",
      "Class 'Viral Pneumonia': 401 images\n",
      "Total images loaded: 2015\n",
      "=== Data Loading Test ===\n",
      "Training batches: 378\n",
      "Validation batches: 32\n",
      "✅ Training batch shape: torch.Size([16, 3, 224, 224])\n",
      "✅ Training labels shape: torch.Size([16])\n",
      "✅ Input range: [-2.118, 2.640]\n",
      "✅ Label range: [0, 4]\n",
      "✅ Unique labels in batch: [0, 1, 2, 3, 4]\n"
     ]
    },
    {
     "data": {
      "image/png": "[encoded data removed]",
      "text/plain": [
       "<Figure size 1200x300 with 4 Axes>"
      ]
     },
     "metadata": {},
     "output_type": "display_data"
    },
    {
     "name": "stdout",
     "output_type": "stream",
     "text": [
      "\n",
      "=== Data Loaders Ready ===\n",
      "✅ Your dataset has 5 lung disease classes!\n",
      "✅ Model updated to 5 classes - now everything should work!\n"
     ]
    }
   ],
   "source": [
    "# Quick data diagnostic\n",
    "import matplotlib.pyplot as plt\n",
    "import numpy as np\n",
    "\n",
    "# Create datasets with appropriate transforms\n",
    "train_dataset = CustomDataset(data_dir=train_dir, transform=train_transform)\n",
    "val_dataset = CustomDataset(data_dir=val_dir, transform=val_transform)\n",
    "\n",
    "# Create data loaders with NO workers for Kaggle compatibility\n",
    "train_loader = DataLoader(\n",
    "    train_dataset, \n",
    "    batch_size=16,\n",
    "    shuffle=True, \n",
    "    num_workers=0,  # Set to 0 for Kaggle/Colab compatibility\n",
    "    pin_memory=False,  # Disable pin_memory for stability\n",
    "    drop_last=True\n",
    ")\n",
    "\n",
    "val_loader = DataLoader(\n",
    "    val_dataset, \n",
    "    batch_size=64,\n",
    "    shuffle=False, \n",
    "    num_workers=0,  # Set to 0 for Kaggle/Colab compatibility\n",
    "    pin_memory=False  # Disable pin_memory for stability\n",
    ")\n",
    "\n",
    "print(\"=== Data Loading Test ===\")\n",
    "print(f\"Training batches: {len(train_loader)}\")\n",
    "print(f\"Validation batches: {len(val_loader)}\")\n",
    "\n",
    "# Test data loading and show sample\n",
    "try:\n",
    "    for data in train_loader:\n",
    "        inputs, targets = data\n",
    "        print(f\"✅ Training batch shape: {inputs.shape}\")\n",
    "        print(f\"✅ Training labels shape: {targets.shape}\")\n",
    "        print(f\"✅ Input range: [{inputs.min().item():.3f}, {inputs.max().item():.3f}]\")\n",
    "        print(f\"✅ Label range: [{targets.min().item()}, {targets.max().item()}]\")\n",
    "        print(f\"✅ Unique labels in batch: {torch.unique(targets).tolist()}\")\n",
    "        \n",
    "        # Show a few sample images\n",
    "        fig, axes = plt.subplots(1, 4, figsize=(12, 3))\n",
    "        for i in range(min(4, inputs.shape[0])):\n",
    "            img = inputs[i]\n",
    "            # Denormalize for display\n",
    "            mean = torch.tensor(data_config['mean']).view(3, 1, 1)\n",
    "            std = torch.tensor(data_config['std']).view(3, 1, 1)\n",
    "            img = img * std + mean\n",
    "            img = torch.clamp(img, 0, 1)\n",
    "            \n",
    "            axes[i].imshow(img.permute(1, 2, 0))\n",
    "            axes[i].set_title(f\"Label: {targets[i].item()}\\nClass: {train_dataset.class_names[targets[i].item()]}\")\n",
    "            axes[i].axis('off')\n",
    "        plt.tight_layout()\n",
    "        plt.show()\n",
    "        break\n",
    "        \n",
    "except Exception as e:\n",
    "    print(f\"❌ Error in data loading: {e}\")\n",
    "    print(\"This might be the source of your training issues!\")\n",
    "\n",
    "print(\"\\n=== Data Loaders Ready ===\")\n",
    "print(\"✅ Your dataset has 5 lung disease classes!\")\n",
    "print(\"✅ Model updated to 5 classes - now everything should work!\")"
   ]
  },
  {
   "cell_type": "code",
   "execution_count": 12,
   "id": "41566498",
   "metadata": {
    "execution": {
     "iopub.execute_input": "2025-09-23T15:30:54.673471Z",
     "iopub.status.busy": "2025-09-23T15:30:54.673165Z",
     "iopub.status.idle": "2025-09-23T18:57:06.942615Z",
     "shell.execute_reply": "2025-09-23T18:57:06.941785Z"
    },
    "papermill": {
     "duration": 12372.285718,
     "end_time": "2025-09-23T18:57:06.944548",
     "exception": false,
     "start_time": "2025-09-23T15:30:54.658830",
     "status": "completed"
    },
    "tags": []
   },
   "outputs": [
    {
     "name": "stdout",
     "output_type": "stream",
     "text": [
      "=== Dataset Information ===\n",
      "Training samples: 6054\n",
      "Validation samples: 2015\n",
      "Training classes: ['Bacterial Pneumonia', 'Corona Virus Disease', 'Normal', 'Tuberculosis', 'Viral Pneumonia']\n",
      "Validation classes: ['Bacterial Pneumonia', 'Corona Virus Disease', 'Normal', 'Tuberculosis', 'Viral Pneumonia']\n",
      "Training class distribution: {'Bacterial Pneumonia': 1205, 'Corona Virus Disease': 1218, 'Normal': 1207, 'Tuberculosis': 1220, 'Viral Pneumonia': 1204}\n",
      "Validation class distribution: {'Bacterial Pneumonia': 401, 'Corona Virus Disease': 405, 'Normal': 402, 'Tuberculosis': 406, 'Viral Pneumonia': 401}\n",
      "Using device: cuda\n"
     ]
    },
    {
     "name": "stderr",
     "output_type": "stream",
     "text": [
      "The verbose parameter is deprecated. Please use get_last_lr() to access the learning rate.\n"
     ]
    },
    {
     "name": "stdout",
     "output_type": "stream",
     "text": [
      "Class weights: tensor([1.0048, 0.9941, 1.0031, 0.9925, 1.0056], device='cuda:0')\n",
      "\n",
      "=== Starting Training ===\n"
     ]
    },
    {
     "name": "stderr",
     "output_type": "stream",
     "text": [
      "Epoch [1/100] Training: 100%|██████████| 378/378 [03:25<00:00,  1.84it/s, loss=0.4593, acc=71.1%]\n"
     ]
    },
    {
     "name": "stdout",
     "output_type": "stream",
     "text": [
      "Epoch [1/100] Training:\n",
      "  Loss: 0.6987, Accuracy: 71.06%, F1: 0.7089\n"
     ]
    },
    {
     "name": "stderr",
     "output_type": "stream",
     "text": [
      "Epoch [1/100] Validation: 100%|██████████| 32/32 [00:33<00:00,  1.04s/it, loss=0.6209, acc=85.7%]\n"
     ]
    },
    {
     "name": "stdout",
     "output_type": "stream",
     "text": [
      "Epoch [1/100] Validation:\n",
      "  Loss: 0.3881, Accuracy: 85.66%, F1: 0.8571\n",
      "  ✅ Best model saved! Val Loss: 0.3881\n",
      "  Learning Rate: 1.00e-04\n",
      "------------------------------------------------------------\n"
     ]
    },
    {
     "name": "stderr",
     "output_type": "stream",
     "text": [
      "Epoch [2/100] Training: 100%|██████████| 378/378 [03:31<00:00,  1.79it/s, loss=0.2257, acc=80.9%]\n"
     ]
    },
    {
     "name": "stdout",
     "output_type": "stream",
     "text": [
      "Epoch [2/100] Training:\n",
      "  Loss: 0.4745, Accuracy: 80.89%, F1: 0.8078\n"
     ]
    },
    {
     "name": "stderr",
     "output_type": "stream",
     "text": [
      "Epoch [2/100] Validation: 100%|██████████| 32/32 [00:32<00:00,  1.00s/it, loss=0.5108, acc=82.4%]\n"
     ]
    },
    {
     "name": "stdout",
     "output_type": "stream",
     "text": [
      "Epoch [2/100] Validation:\n",
      "  Loss: 0.4122, Accuracy: 82.38%, F1: 0.8220\n",
      "  Learning Rate: 1.00e-04\n",
      "------------------------------------------------------------\n"
     ]
    },
    {
     "name": "stderr",
     "output_type": "stream",
     "text": [
      "Epoch [3/100] Training: 100%|██████████| 378/378 [03:30<00:00,  1.80it/s, loss=0.4919, acc=82.4%]\n"
     ]
    },
    {
     "name": "stdout",
     "output_type": "stream",
     "text": [
      "Epoch [3/100] Training:\n",
      "  Loss: 0.4424, Accuracy: 82.42%, F1: 0.8231\n"
     ]
    },
    {
     "name": "stderr",
     "output_type": "stream",
     "text": [
      "Epoch [3/100] Validation: 100%|██████████| 32/32 [00:32<00:00,  1.03s/it, loss=0.8308, acc=86.8%]\n"
     ]
    },
    {
     "name": "stdout",
     "output_type": "stream",
     "text": [
      "Epoch [3/100] Validation:\n",
      "  Loss: 0.3711, Accuracy: 86.80%, F1: 0.8667\n",
      "  ✅ Best model saved! Val Loss: 0.3711\n",
      "  Learning Rate: 1.00e-04\n",
      "------------------------------------------------------------\n"
     ]
    },
    {
     "name": "stderr",
     "output_type": "stream",
     "text": [
      "Epoch [4/100] Training: 100%|██████████| 378/378 [03:31<00:00,  1.79it/s, loss=0.4353, acc=84.8%]\n"
     ]
    },
    {
     "name": "stdout",
     "output_type": "stream",
     "text": [
      "Epoch [4/100] Training:\n",
      "  Loss: 0.3891, Accuracy: 84.84%, F1: 0.8475\n"
     ]
    },
    {
     "name": "stderr",
     "output_type": "stream",
     "text": [
      "Epoch [4/100] Validation: 100%|██████████| 32/32 [00:32<00:00,  1.03s/it, loss=1.0009, acc=87.0%]\n"
     ]
    },
    {
     "name": "stdout",
     "output_type": "stream",
     "text": [
      "Epoch [4/100] Validation:\n",
      "  Loss: 0.3846, Accuracy: 87.05%, F1: 0.8658\n",
      "  Learning Rate: 1.00e-04\n",
      "------------------------------------------------------------\n"
     ]
    },
    {
     "name": "stderr",
     "output_type": "stream",
     "text": [
      "Epoch [5/100] Training: 100%|██████████| 378/378 [03:31<00:00,  1.78it/s, loss=0.6478, acc=83.5%]\n"
     ]
    },
    {
     "name": "stdout",
     "output_type": "stream",
     "text": [
      "Epoch [5/100] Training:\n",
      "  Loss: 0.4073, Accuracy: 83.55%, F1: 0.8345\n"
     ]
    },
    {
     "name": "stderr",
     "output_type": "stream",
     "text": [
      "Epoch [5/100] Validation: 100%|██████████| 32/32 [00:33<00:00,  1.04s/it, loss=0.7269, acc=85.0%]\n"
     ]
    },
    {
     "name": "stdout",
     "output_type": "stream",
     "text": [
      "Epoch [5/100] Validation:\n",
      "  Loss: 0.4030, Accuracy: 85.01%, F1: 0.8479\n",
      "  Learning Rate: 1.00e-04\n",
      "------------------------------------------------------------\n"
     ]
    },
    {
     "name": "stderr",
     "output_type": "stream",
     "text": [
      "Epoch [6/100] Training: 100%|██████████| 378/378 [03:29<00:00,  1.81it/s, loss=0.4637, acc=85.6%]\n"
     ]
    },
    {
     "name": "stdout",
     "output_type": "stream",
     "text": [
      "Epoch [6/100] Training:\n",
      "  Loss: 0.3709, Accuracy: 85.65%, F1: 0.8557\n"
     ]
    },
    {
     "name": "stderr",
     "output_type": "stream",
     "text": [
      "Epoch [6/100] Validation: 100%|██████████| 32/32 [00:31<00:00,  1.01it/s, loss=0.8876, acc=87.5%]\n"
     ]
    },
    {
     "name": "stdout",
     "output_type": "stream",
     "text": [
      "Epoch [6/100] Validation:\n",
      "  Loss: 0.3481, Accuracy: 87.54%, F1: 0.8743\n",
      "  ✅ Best model saved! Val Loss: 0.3481\n",
      "  Learning Rate: 1.00e-04\n",
      "------------------------------------------------------------\n"
     ]
    },
    {
     "name": "stderr",
     "output_type": "stream",
     "text": [
      "Epoch [7/100] Training: 100%|██████████| 378/378 [03:29<00:00,  1.80it/s, loss=0.4930, acc=85.7%]\n"
     ]
    },
    {
     "name": "stdout",
     "output_type": "stream",
     "text": [
      "Epoch [7/100] Training:\n",
      "  Loss: 0.3540, Accuracy: 85.73%, F1: 0.8564\n"
     ]
    },
    {
     "name": "stderr",
     "output_type": "stream",
     "text": [
      "Epoch [7/100] Validation: 100%|██████████| 32/32 [00:32<00:00,  1.02s/it, loss=0.3757, acc=87.8%]\n"
     ]
    },
    {
     "name": "stdout",
     "output_type": "stream",
     "text": [
      "Epoch [7/100] Validation:\n",
      "  Loss: 0.2966, Accuracy: 87.79%, F1: 0.8785\n",
      "  ✅ Best model saved! Val Loss: 0.2966\n",
      "  Learning Rate: 1.00e-04\n",
      "------------------------------------------------------------\n"
     ]
    },
    {
     "name": "stderr",
     "output_type": "stream",
     "text": [
      "Epoch [8/100] Training: 100%|██████████| 378/378 [03:30<00:00,  1.80it/s, loss=0.5679, acc=85.6%]\n"
     ]
    },
    {
     "name": "stdout",
     "output_type": "stream",
     "text": [
      "Epoch [8/100] Training:\n",
      "  Loss: 0.3585, Accuracy: 85.63%, F1: 0.8557\n"
     ]
    },
    {
     "name": "stderr",
     "output_type": "stream",
     "text": [
      "Epoch [8/100] Validation: 100%|██████████| 32/32 [00:32<00:00,  1.02s/it, loss=0.6631, acc=89.4%]\n"
     ]
    },
    {
     "name": "stdout",
     "output_type": "stream",
     "text": [
      "Epoch [8/100] Validation:\n",
      "  Loss: 0.2756, Accuracy: 89.38%, F1: 0.8929\n",
      "  ✅ Best model saved! Val Loss: 0.2756\n",
      "  Learning Rate: 1.00e-04\n",
      "------------------------------------------------------------\n"
     ]
    },
    {
     "name": "stderr",
     "output_type": "stream",
     "text": [
      "Epoch [9/100] Training: 100%|██████████| 378/378 [03:30<00:00,  1.79it/s, loss=0.2393, acc=86.4%]\n"
     ]
    },
    {
     "name": "stdout",
     "output_type": "stream",
     "text": [
      "Epoch [9/100] Training:\n",
      "  Loss: 0.3537, Accuracy: 86.43%, F1: 0.8632\n"
     ]
    },
    {
     "name": "stderr",
     "output_type": "stream",
     "text": [
      "Epoch [9/100] Validation: 100%|██████████| 32/32 [00:32<00:00,  1.02s/it, loss=0.7274, acc=89.1%]\n"
     ]
    },
    {
     "name": "stdout",
     "output_type": "stream",
     "text": [
      "Epoch [9/100] Validation:\n",
      "  Loss: 0.2770, Accuracy: 89.08%, F1: 0.8902\n",
      "  Learning Rate: 1.00e-04\n",
      "------------------------------------------------------------\n"
     ]
    },
    {
     "name": "stderr",
     "output_type": "stream",
     "text": [
      "Epoch [10/100] Training: 100%|██████████| 378/378 [03:29<00:00,  1.81it/s, loss=0.8723, acc=87.5%]\n"
     ]
    },
    {
     "name": "stdout",
     "output_type": "stream",
     "text": [
      "Epoch [10/100] Training:\n",
      "  Loss: 0.3298, Accuracy: 87.52%, F1: 0.8748\n"
     ]
    },
    {
     "name": "stderr",
     "output_type": "stream",
     "text": [
      "Epoch [10/100] Validation: 100%|██████████| 32/32 [00:31<00:00,  1.00it/s, loss=1.9312, acc=79.2%]\n"
     ]
    },
    {
     "name": "stdout",
     "output_type": "stream",
     "text": [
      "Epoch [10/100] Validation:\n",
      "  Loss: 0.6201, Accuracy: 79.21%, F1: 0.7831\n",
      "  Learning Rate: 1.00e-04\n",
      "------------------------------------------------------------\n"
     ]
    },
    {
     "name": "stderr",
     "output_type": "stream",
     "text": [
      "Epoch [11/100] Training: 100%|██████████| 378/378 [03:28<00:00,  1.81it/s, loss=0.5233, acc=88.4%]\n"
     ]
    },
    {
     "name": "stdout",
     "output_type": "stream",
     "text": [
      "Epoch [11/100] Training:\n",
      "  Loss: 0.3184, Accuracy: 88.38%, F1: 0.8833\n"
     ]
    },
    {
     "name": "stderr",
     "output_type": "stream",
     "text": [
      "Epoch [11/100] Validation: 100%|██████████| 32/32 [00:31<00:00,  1.01it/s, loss=0.5260, acc=87.8%]\n"
     ]
    },
    {
     "name": "stdout",
     "output_type": "stream",
     "text": [
      "Epoch [11/100] Validation:\n",
      "  Loss: 0.3093, Accuracy: 87.79%, F1: 0.8789\n",
      "  Learning Rate: 1.00e-04\n",
      "------------------------------------------------------------\n"
     ]
    },
    {
     "name": "stderr",
     "output_type": "stream",
     "text": [
      "Epoch [12/100] Training: 100%|██████████| 378/378 [03:25<00:00,  1.84it/s, loss=0.5090, acc=87.5%]\n"
     ]
    },
    {
     "name": "stdout",
     "output_type": "stream",
     "text": [
      "Epoch [12/100] Training:\n",
      "  Loss: 0.3282, Accuracy: 87.53%, F1: 0.8748\n"
     ]
    },
    {
     "name": "stderr",
     "output_type": "stream",
     "text": [
      "Epoch [12/100] Validation: 100%|██████████| 32/32 [00:31<00:00,  1.03it/s, loss=1.2024, acc=89.5%]\n"
     ]
    },
    {
     "name": "stdout",
     "output_type": "stream",
     "text": [
      "Epoch [12/100] Validation:\n",
      "  Loss: 0.3058, Accuracy: 89.53%, F1: 0.8912\n",
      "  Learning Rate: 5.00e-05\n",
      "------------------------------------------------------------\n"
     ]
    },
    {
     "name": "stderr",
     "output_type": "stream",
     "text": [
      "Epoch [13/100] Training: 100%|██████████| 378/378 [03:24<00:00,  1.85it/s, loss=0.4866, acc=90.2%]\n"
     ]
    },
    {
     "name": "stdout",
     "output_type": "stream",
     "text": [
      "Epoch [13/100] Training:\n",
      "  Loss: 0.2560, Accuracy: 90.20%, F1: 0.9015\n"
     ]
    },
    {
     "name": "stderr",
     "output_type": "stream",
     "text": [
      "Epoch [13/100] Validation: 100%|██████████| 32/32 [00:31<00:00,  1.01it/s, loss=1.4976, acc=89.0%]\n"
     ]
    },
    {
     "name": "stdout",
     "output_type": "stream",
     "text": [
      "Epoch [13/100] Validation:\n",
      "  Loss: 0.3522, Accuracy: 89.03%, F1: 0.8841\n",
      "  Learning Rate: 5.00e-05\n",
      "------------------------------------------------------------\n"
     ]
    },
    {
     "name": "stderr",
     "output_type": "stream",
     "text": [
      "Epoch [14/100] Training: 100%|██████████| 378/378 [03:26<00:00,  1.83it/s, loss=0.3873, acc=90.6%]\n"
     ]
    },
    {
     "name": "stdout",
     "output_type": "stream",
     "text": [
      "Epoch [14/100] Training:\n",
      "  Loss: 0.2456, Accuracy: 90.58%, F1: 0.9055\n"
     ]
    },
    {
     "name": "stderr",
     "output_type": "stream",
     "text": [
      "Epoch [14/100] Validation: 100%|██████████| 32/32 [00:31<00:00,  1.01it/s, loss=0.7881, acc=90.8%]\n"
     ]
    },
    {
     "name": "stdout",
     "output_type": "stream",
     "text": [
      "Epoch [14/100] Validation:\n",
      "  Loss: 0.2953, Accuracy: 90.82%, F1: 0.9071\n",
      "  Learning Rate: 5.00e-05\n",
      "------------------------------------------------------------\n"
     ]
    },
    {
     "name": "stderr",
     "output_type": "stream",
     "text": [
      "Epoch [15/100] Training: 100%|██████████| 378/378 [03:28<00:00,  1.82it/s, loss=0.0091, acc=90.9%]\n"
     ]
    },
    {
     "name": "stdout",
     "output_type": "stream",
     "text": [
      "Epoch [15/100] Training:\n",
      "  Loss: 0.2413, Accuracy: 90.89%, F1: 0.9086\n"
     ]
    },
    {
     "name": "stderr",
     "output_type": "stream",
     "text": [
      "Epoch [15/100] Validation: 100%|██████████| 32/32 [00:31<00:00,  1.02it/s, loss=1.3048, acc=91.3%]\n"
     ]
    },
    {
     "name": "stdout",
     "output_type": "stream",
     "text": [
      "Epoch [15/100] Validation:\n",
      "  Loss: 0.3059, Accuracy: 91.27%, F1: 0.9104\n",
      "  Learning Rate: 5.00e-05\n",
      "------------------------------------------------------------\n"
     ]
    },
    {
     "name": "stderr",
     "output_type": "stream",
     "text": [
      "Epoch [16/100] Training: 100%|██████████| 378/378 [03:26<00:00,  1.83it/s, loss=0.3788, acc=91.0%]\n"
     ]
    },
    {
     "name": "stdout",
     "output_type": "stream",
     "text": [
      "Epoch [16/100] Training:\n",
      "  Loss: 0.2412, Accuracy: 91.01%, F1: 0.9098\n"
     ]
    },
    {
     "name": "stderr",
     "output_type": "stream",
     "text": [
      "Epoch [16/100] Validation: 100%|██████████| 32/32 [00:31<00:00,  1.02it/s, loss=0.8282, acc=90.9%]\n"
     ]
    },
    {
     "name": "stdout",
     "output_type": "stream",
     "text": [
      "Epoch [16/100] Validation:\n",
      "  Loss: 0.2639, Accuracy: 90.87%, F1: 0.9087\n",
      "  ✅ Best model saved! Val Loss: 0.2639\n",
      "  Learning Rate: 5.00e-05\n",
      "------------------------------------------------------------\n"
     ]
    },
    {
     "name": "stderr",
     "output_type": "stream",
     "text": [
      "Epoch [17/100] Training: 100%|██████████| 378/378 [03:26<00:00,  1.83it/s, loss=0.1590, acc=91.0%]\n"
     ]
    },
    {
     "name": "stdout",
     "output_type": "stream",
     "text": [
      "Epoch [17/100] Training:\n",
      "  Loss: 0.2340, Accuracy: 91.01%, F1: 0.9100\n"
     ]
    },
    {
     "name": "stderr",
     "output_type": "stream",
     "text": [
      "Epoch [17/100] Validation: 100%|██████████| 32/32 [00:31<00:00,  1.02it/s, loss=1.3427, acc=91.3%]\n"
     ]
    },
    {
     "name": "stdout",
     "output_type": "stream",
     "text": [
      "Epoch [17/100] Validation:\n",
      "  Loss: 0.3251, Accuracy: 91.32%, F1: 0.9115\n",
      "  Learning Rate: 5.00e-05\n",
      "------------------------------------------------------------\n"
     ]
    },
    {
     "name": "stderr",
     "output_type": "stream",
     "text": [
      "Epoch [18/100] Training: 100%|██████████| 378/378 [03:25<00:00,  1.84it/s, loss=0.4678, acc=91.8%]\n"
     ]
    },
    {
     "name": "stdout",
     "output_type": "stream",
     "text": [
      "Epoch [18/100] Training:\n",
      "  Loss: 0.2351, Accuracy: 91.85%, F1: 0.9183\n"
     ]
    },
    {
     "name": "stderr",
     "output_type": "stream",
     "text": [
      "Epoch [18/100] Validation: 100%|██████████| 32/32 [00:30<00:00,  1.03it/s, loss=1.0663, acc=90.6%]\n"
     ]
    },
    {
     "name": "stdout",
     "output_type": "stream",
     "text": [
      "Epoch [18/100] Validation:\n",
      "  Loss: 0.2865, Accuracy: 90.62%, F1: 0.9029\n",
      "  Learning Rate: 5.00e-05\n",
      "------------------------------------------------------------\n"
     ]
    },
    {
     "name": "stderr",
     "output_type": "stream",
     "text": [
      "Epoch [19/100] Training: 100%|██████████| 378/378 [03:25<00:00,  1.84it/s, loss=0.2917, acc=91.8%]\n"
     ]
    },
    {
     "name": "stdout",
     "output_type": "stream",
     "text": [
      "Epoch [19/100] Training:\n",
      "  Loss: 0.2231, Accuracy: 91.80%, F1: 0.9178\n"
     ]
    },
    {
     "name": "stderr",
     "output_type": "stream",
     "text": [
      "Epoch [19/100] Validation: 100%|██████████| 32/32 [00:31<00:00,  1.03it/s, loss=0.9457, acc=91.3%]\n"
     ]
    },
    {
     "name": "stdout",
     "output_type": "stream",
     "text": [
      "Epoch [19/100] Validation:\n",
      "  Loss: 0.2708, Accuracy: 91.27%, F1: 0.9119\n",
      "  Learning Rate: 5.00e-05\n",
      "------------------------------------------------------------\n"
     ]
    },
    {
     "name": "stderr",
     "output_type": "stream",
     "text": [
      "Epoch [20/100] Training: 100%|██████████| 378/378 [03:24<00:00,  1.85it/s, loss=0.1408, acc=91.7%]\n"
     ]
    },
    {
     "name": "stdout",
     "output_type": "stream",
     "text": [
      "Epoch [20/100] Training:\n",
      "  Loss: 0.2210, Accuracy: 91.68%, F1: 0.9167\n"
     ]
    },
    {
     "name": "stderr",
     "output_type": "stream",
     "text": [
      "Epoch [20/100] Validation: 100%|██████████| 32/32 [00:30<00:00,  1.03it/s, loss=0.8874, acc=88.8%]\n"
     ]
    },
    {
     "name": "stdout",
     "output_type": "stream",
     "text": [
      "Epoch [20/100] Validation:\n",
      "  Loss: 0.3882, Accuracy: 88.78%, F1: 0.8859\n",
      "  Learning Rate: 2.50e-05\n",
      "------------------------------------------------------------\n"
     ]
    },
    {
     "name": "stderr",
     "output_type": "stream",
     "text": [
      "Epoch [21/100] Training: 100%|██████████| 378/378 [03:24<00:00,  1.85it/s, loss=0.2426, acc=93.1%]\n"
     ]
    },
    {
     "name": "stdout",
     "output_type": "stream",
     "text": [
      "Epoch [21/100] Training:\n",
      "  Loss: 0.1889, Accuracy: 93.12%, F1: 0.9310\n"
     ]
    },
    {
     "name": "stderr",
     "output_type": "stream",
     "text": [
      "Epoch [21/100] Validation: 100%|██████████| 32/32 [00:31<00:00,  1.03it/s, loss=1.1086, acc=91.4%]\n"
     ]
    },
    {
     "name": "stdout",
     "output_type": "stream",
     "text": [
      "Epoch [21/100] Validation:\n",
      "  Loss: 0.2847, Accuracy: 91.36%, F1: 0.9123\n",
      "  Learning Rate: 2.50e-05\n",
      "------------------------------------------------------------\n"
     ]
    },
    {
     "name": "stderr",
     "output_type": "stream",
     "text": [
      "Epoch [22/100] Training: 100%|██████████| 378/378 [03:24<00:00,  1.85it/s, loss=0.0636, acc=93.7%]\n"
     ]
    },
    {
     "name": "stdout",
     "output_type": "stream",
     "text": [
      "Epoch [22/100] Training:\n",
      "  Loss: 0.1739, Accuracy: 93.65%, F1: 0.9364\n"
     ]
    },
    {
     "name": "stderr",
     "output_type": "stream",
     "text": [
      "Epoch [22/100] Validation: 100%|██████████| 32/32 [00:30<00:00,  1.04it/s, loss=0.9554, acc=91.3%]\n"
     ]
    },
    {
     "name": "stdout",
     "output_type": "stream",
     "text": [
      "Epoch [22/100] Validation:\n",
      "  Loss: 0.3283, Accuracy: 91.32%, F1: 0.9122\n",
      "  Learning Rate: 2.50e-05\n",
      "------------------------------------------------------------\n"
     ]
    },
    {
     "name": "stderr",
     "output_type": "stream",
     "text": [
      "Epoch [23/100] Training: 100%|██████████| 378/378 [03:24<00:00,  1.85it/s, loss=0.3133, acc=93.6%]\n"
     ]
    },
    {
     "name": "stdout",
     "output_type": "stream",
     "text": [
      "Epoch [23/100] Training:\n",
      "  Loss: 0.1826, Accuracy: 93.58%, F1: 0.9359\n"
     ]
    },
    {
     "name": "stderr",
     "output_type": "stream",
     "text": [
      "Epoch [23/100] Validation: 100%|██████████| 32/32 [00:31<00:00,  1.03it/s, loss=0.9484, acc=91.4%]\n"
     ]
    },
    {
     "name": "stdout",
     "output_type": "stream",
     "text": [
      "Epoch [23/100] Validation:\n",
      "  Loss: 0.3066, Accuracy: 91.36%, F1: 0.9124\n",
      "  Learning Rate: 2.50e-05\n",
      "------------------------------------------------------------\n"
     ]
    },
    {
     "name": "stderr",
     "output_type": "stream",
     "text": [
      "Epoch [24/100] Training: 100%|██████████| 378/378 [03:25<00:00,  1.84it/s, loss=0.1303, acc=93.9%]\n"
     ]
    },
    {
     "name": "stdout",
     "output_type": "stream",
     "text": [
      "Epoch [24/100] Training:\n",
      "  Loss: 0.1685, Accuracy: 93.87%, F1: 0.9386\n"
     ]
    },
    {
     "name": "stderr",
     "output_type": "stream",
     "text": [
      "Epoch [24/100] Validation: 100%|██████████| 32/32 [00:30<00:00,  1.04it/s, loss=1.1279, acc=91.8%]\n"
     ]
    },
    {
     "name": "stdout",
     "output_type": "stream",
     "text": [
      "Epoch [24/100] Validation:\n",
      "  Loss: 0.3001, Accuracy: 91.76%, F1: 0.9174\n",
      "  Learning Rate: 1.25e-05\n",
      "------------------------------------------------------------\n"
     ]
    },
    {
     "name": "stderr",
     "output_type": "stream",
     "text": [
      "Epoch [25/100] Training: 100%|██████████| 378/378 [03:25<00:00,  1.84it/s, loss=0.3115, acc=94.3%]\n"
     ]
    },
    {
     "name": "stdout",
     "output_type": "stream",
     "text": [
      "Epoch [25/100] Training:\n",
      "  Loss: 0.1591, Accuracy: 94.26%, F1: 0.9426\n"
     ]
    },
    {
     "name": "stderr",
     "output_type": "stream",
     "text": [
      "Epoch [25/100] Validation: 100%|██████████| 32/32 [00:30<00:00,  1.04it/s, loss=1.1401, acc=91.5%]\n"
     ]
    },
    {
     "name": "stdout",
     "output_type": "stream",
     "text": [
      "Epoch [25/100] Validation:\n",
      "  Loss: 0.3060, Accuracy: 91.51%, F1: 0.9143\n",
      "  Learning Rate: 1.25e-05\n",
      "------------------------------------------------------------\n"
     ]
    },
    {
     "name": "stderr",
     "output_type": "stream",
     "text": [
      "Epoch [26/100] Training: 100%|██████████| 378/378 [03:25<00:00,  1.84it/s, loss=0.6059, acc=94.8%]\n"
     ]
    },
    {
     "name": "stdout",
     "output_type": "stream",
     "text": [
      "Epoch [26/100] Training:\n",
      "  Loss: 0.1477, Accuracy: 94.79%, F1: 0.9479\n"
     ]
    },
    {
     "name": "stderr",
     "output_type": "stream",
     "text": [
      "Epoch [26/100] Validation: 100%|██████████| 32/32 [00:31<00:00,  1.01it/s, loss=1.2601, acc=91.8%]\n"
     ]
    },
    {
     "name": "stdout",
     "output_type": "stream",
     "text": [
      "Epoch [26/100] Validation:\n",
      "  Loss: 0.3282, Accuracy: 91.76%, F1: 0.9160\n",
      "  Learning Rate: 1.25e-05\n",
      "------------------------------------------------------------\n"
     ]
    },
    {
     "name": "stderr",
     "output_type": "stream",
     "text": [
      "Epoch [27/100] Training: 100%|██████████| 378/378 [03:23<00:00,  1.85it/s, loss=0.1160, acc=94.8%]\n"
     ]
    },
    {
     "name": "stdout",
     "output_type": "stream",
     "text": [
      "Epoch [27/100] Training:\n",
      "  Loss: 0.1445, Accuracy: 94.78%, F1: 0.9476\n"
     ]
    },
    {
     "name": "stderr",
     "output_type": "stream",
     "text": [
      "Epoch [27/100] Validation: 100%|██████████| 32/32 [00:31<00:00,  1.01it/s, loss=1.2143, acc=92.1%]\n"
     ]
    },
    {
     "name": "stdout",
     "output_type": "stream",
     "text": [
      "Epoch [27/100] Validation:\n",
      "  Loss: 0.3139, Accuracy: 92.11%, F1: 0.9201\n",
      "  Learning Rate: 1.25e-05\n",
      "------------------------------------------------------------\n"
     ]
    },
    {
     "name": "stderr",
     "output_type": "stream",
     "text": [
      "Epoch [28/100] Training: 100%|██████████| 378/378 [03:25<00:00,  1.84it/s, loss=0.1436, acc=94.7%]\n"
     ]
    },
    {
     "name": "stdout",
     "output_type": "stream",
     "text": [
      "Epoch [28/100] Training:\n",
      "  Loss: 0.1421, Accuracy: 94.68%, F1: 0.9467\n"
     ]
    },
    {
     "name": "stderr",
     "output_type": "stream",
     "text": [
      "Epoch [28/100] Validation: 100%|██████████| 32/32 [00:31<00:00,  1.02it/s, loss=0.8853, acc=92.1%]\n"
     ]
    },
    {
     "name": "stdout",
     "output_type": "stream",
     "text": [
      "Epoch [28/100] Validation:\n",
      "  Loss: 0.3299, Accuracy: 92.11%, F1: 0.9204\n",
      "  Learning Rate: 6.25e-06\n",
      "------------------------------------------------------------\n"
     ]
    },
    {
     "name": "stderr",
     "output_type": "stream",
     "text": [
      "Epoch [29/100] Training: 100%|██████████| 378/378 [03:23<00:00,  1.86it/s, loss=0.1734, acc=95.5%]\n"
     ]
    },
    {
     "name": "stdout",
     "output_type": "stream",
     "text": [
      "Epoch [29/100] Training:\n",
      "  Loss: 0.1292, Accuracy: 95.50%, F1: 0.9550\n"
     ]
    },
    {
     "name": "stderr",
     "output_type": "stream",
     "text": [
      "Epoch [29/100] Validation: 100%|██████████| 32/32 [00:30<00:00,  1.06it/s, loss=0.9051, acc=92.3%]\n"
     ]
    },
    {
     "name": "stdout",
     "output_type": "stream",
     "text": [
      "Epoch [29/100] Validation:\n",
      "  Loss: 0.3107, Accuracy: 92.31%, F1: 0.9225\n",
      "  Learning Rate: 6.25e-06\n",
      "------------------------------------------------------------\n"
     ]
    },
    {
     "name": "stderr",
     "output_type": "stream",
     "text": [
      "Epoch [30/100] Training: 100%|██████████| 378/378 [03:22<00:00,  1.86it/s, loss=0.1832, acc=95.4%]\n"
     ]
    },
    {
     "name": "stdout",
     "output_type": "stream",
     "text": [
      "Epoch [30/100] Training:\n",
      "  Loss: 0.1341, Accuracy: 95.39%, F1: 0.9538\n"
     ]
    },
    {
     "name": "stderr",
     "output_type": "stream",
     "text": [
      "Epoch [30/100] Validation: 100%|██████████| 32/32 [00:29<00:00,  1.07it/s, loss=0.9448, acc=91.8%]\n"
     ]
    },
    {
     "name": "stdout",
     "output_type": "stream",
     "text": [
      "Epoch [30/100] Validation:\n",
      "  Loss: 0.3373, Accuracy: 91.81%, F1: 0.9173\n",
      "  Learning Rate: 6.25e-06\n",
      "------------------------------------------------------------\n"
     ]
    },
    {
     "name": "stderr",
     "output_type": "stream",
     "text": [
      "Epoch [31/100] Training: 100%|██████████| 378/378 [03:23<00:00,  1.86it/s, loss=0.2917, acc=95.4%]\n"
     ]
    },
    {
     "name": "stdout",
     "output_type": "stream",
     "text": [
      "Epoch [31/100] Training:\n",
      "  Loss: 0.1268, Accuracy: 95.37%, F1: 0.9537\n"
     ]
    },
    {
     "name": "stderr",
     "output_type": "stream",
     "text": [
      "Epoch [31/100] Validation: 100%|██████████| 32/32 [00:30<00:00,  1.04it/s, loss=1.1382, acc=92.0%]\n"
     ]
    },
    {
     "name": "stdout",
     "output_type": "stream",
     "text": [
      "Epoch [31/100] Validation:\n",
      "  Loss: 0.3489, Accuracy: 92.01%, F1: 0.9191\n",
      "  Learning Rate: 6.25e-06\n",
      "------------------------------------------------------------\n"
     ]
    },
    {
     "name": "stderr",
     "output_type": "stream",
     "text": [
      "Epoch [32/100] Training: 100%|██████████| 378/378 [03:24<00:00,  1.85it/s, loss=0.0655, acc=95.0%]\n"
     ]
    },
    {
     "name": "stdout",
     "output_type": "stream",
     "text": [
      "Epoch [32/100] Training:\n",
      "  Loss: 0.1440, Accuracy: 94.97%, F1: 0.9497\n"
     ]
    },
    {
     "name": "stderr",
     "output_type": "stream",
     "text": [
      "Epoch [32/100] Validation: 100%|██████████| 32/32 [00:30<00:00,  1.03it/s, loss=0.9976, acc=91.9%]\n"
     ]
    },
    {
     "name": "stdout",
     "output_type": "stream",
     "text": [
      "Epoch [32/100] Validation:\n",
      "  Loss: 0.3373, Accuracy: 91.91%, F1: 0.9183\n",
      "  Learning Rate: 3.13e-06\n",
      "------------------------------------------------------------\n"
     ]
    },
    {
     "name": "stderr",
     "output_type": "stream",
     "text": [
      "Epoch [33/100] Training: 100%|██████████| 378/378 [03:24<00:00,  1.85it/s, loss=0.0167, acc=95.8%]\n"
     ]
    },
    {
     "name": "stdout",
     "output_type": "stream",
     "text": [
      "Epoch [33/100] Training:\n",
      "  Loss: 0.1241, Accuracy: 95.82%, F1: 0.9581\n"
     ]
    },
    {
     "name": "stderr",
     "output_type": "stream",
     "text": [
      "Epoch [33/100] Validation: 100%|██████████| 32/32 [00:31<00:00,  1.02it/s, loss=1.1034, acc=92.1%]\n"
     ]
    },
    {
     "name": "stdout",
     "output_type": "stream",
     "text": [
      "Epoch [33/100] Validation:\n",
      "  Loss: 0.3417, Accuracy: 92.11%, F1: 0.9202\n",
      "  Learning Rate: 3.13e-06\n",
      "------------------------------------------------------------\n"
     ]
    },
    {
     "name": "stderr",
     "output_type": "stream",
     "text": [
      "Epoch [34/100] Training: 100%|██████████| 378/378 [03:25<00:00,  1.84it/s, loss=0.0153, acc=95.8%]\n"
     ]
    },
    {
     "name": "stdout",
     "output_type": "stream",
     "text": [
      "Epoch [34/100] Training:\n",
      "  Loss: 0.1264, Accuracy: 95.85%, F1: 0.9584\n"
     ]
    },
    {
     "name": "stderr",
     "output_type": "stream",
     "text": [
      "Epoch [34/100] Validation: 100%|██████████| 32/32 [00:30<00:00,  1.04it/s, loss=1.0796, acc=92.2%]\n"
     ]
    },
    {
     "name": "stdout",
     "output_type": "stream",
     "text": [
      "Epoch [34/100] Validation:\n",
      "  Loss: 0.3394, Accuracy: 92.21%, F1: 0.9213\n",
      "  Learning Rate: 3.13e-06\n",
      "------------------------------------------------------------\n"
     ]
    },
    {
     "name": "stderr",
     "output_type": "stream",
     "text": [
      "Epoch [35/100] Training: 100%|██████████| 378/378 [03:24<00:00,  1.85it/s, loss=0.2604, acc=95.9%]\n"
     ]
    },
    {
     "name": "stdout",
     "output_type": "stream",
     "text": [
      "Epoch [35/100] Training:\n",
      "  Loss: 0.1183, Accuracy: 95.88%, F1: 0.9588\n"
     ]
    },
    {
     "name": "stderr",
     "output_type": "stream",
     "text": [
      "Epoch [35/100] Validation: 100%|██████████| 32/32 [00:30<00:00,  1.05it/s, loss=1.1392, acc=92.3%]\n"
     ]
    },
    {
     "name": "stdout",
     "output_type": "stream",
     "text": [
      "Epoch [35/100] Validation:\n",
      "  Loss: 0.3416, Accuracy: 92.26%, F1: 0.9218\n",
      "  Learning Rate: 3.13e-06\n",
      "------------------------------------------------------------\n"
     ]
    },
    {
     "name": "stderr",
     "output_type": "stream",
     "text": [
      "Epoch [36/100] Training: 100%|██████████| 378/378 [03:24<00:00,  1.85it/s, loss=0.0068, acc=95.7%]\n"
     ]
    },
    {
     "name": "stdout",
     "output_type": "stream",
     "text": [
      "Epoch [36/100] Training:\n",
      "  Loss: 0.1274, Accuracy: 95.65%, F1: 0.9564\n"
     ]
    },
    {
     "name": "stderr",
     "output_type": "stream",
     "text": [
      "Epoch [36/100] Validation: 100%|██████████| 32/32 [00:30<00:00,  1.04it/s, loss=1.1125, acc=92.5%]\n"
     ]
    },
    {
     "name": "stdout",
     "output_type": "stream",
     "text": [
      "Epoch [36/100] Validation:\n",
      "  Loss: 0.3386, Accuracy: 92.51%, F1: 0.9245\n",
      "  Learning Rate: 1.56e-06\n",
      "------------------------------------------------------------\n"
     ]
    },
    {
     "name": "stderr",
     "output_type": "stream",
     "text": [
      "Epoch [37/100] Training: 100%|██████████| 378/378 [03:25<00:00,  1.84it/s, loss=0.2283, acc=95.7%]\n"
     ]
    },
    {
     "name": "stdout",
     "output_type": "stream",
     "text": [
      "Epoch [37/100] Training:\n",
      "  Loss: 0.1266, Accuracy: 95.73%, F1: 0.9573\n"
     ]
    },
    {
     "name": "stderr",
     "output_type": "stream",
     "text": [
      "Epoch [37/100] Validation: 100%|██████████| 32/32 [00:31<00:00,  1.01it/s, loss=1.0969, acc=92.3%]\n"
     ]
    },
    {
     "name": "stdout",
     "output_type": "stream",
     "text": [
      "Epoch [37/100] Validation:\n",
      "  Loss: 0.3407, Accuracy: 92.31%, F1: 0.9224\n",
      "  Learning Rate: 1.56e-06\n",
      "------------------------------------------------------------\n"
     ]
    },
    {
     "name": "stderr",
     "output_type": "stream",
     "text": [
      "Epoch [38/100] Training: 100%|██████████| 378/378 [03:26<00:00,  1.83it/s, loss=0.0030, acc=95.9%]\n"
     ]
    },
    {
     "name": "stdout",
     "output_type": "stream",
     "text": [
      "Epoch [38/100] Training:\n",
      "  Loss: 0.1189, Accuracy: 95.90%, F1: 0.9589\n"
     ]
    },
    {
     "name": "stderr",
     "output_type": "stream",
     "text": [
      "Epoch [38/100] Validation: 100%|██████████| 32/32 [00:31<00:00,  1.01it/s, loss=1.1230, acc=92.7%]\n"
     ]
    },
    {
     "name": "stdout",
     "output_type": "stream",
     "text": [
      "Epoch [38/100] Validation:\n",
      "  Loss: 0.3443, Accuracy: 92.66%, F1: 0.9259\n",
      "  Learning Rate: 1.56e-06\n",
      "------------------------------------------------------------\n"
     ]
    },
    {
     "name": "stderr",
     "output_type": "stream",
     "text": [
      "Epoch [39/100] Training: 100%|██████████| 378/378 [03:27<00:00,  1.82it/s, loss=0.1238, acc=96.2%]\n"
     ]
    },
    {
     "name": "stdout",
     "output_type": "stream",
     "text": [
      "Epoch [39/100] Training:\n",
      "  Loss: 0.1121, Accuracy: 96.18%, F1: 0.9617\n"
     ]
    },
    {
     "name": "stderr",
     "output_type": "stream",
     "text": [
      "Epoch [39/100] Validation: 100%|██████████| 32/32 [00:31<00:00,  1.00it/s, loss=1.2039, acc=92.6%]\n"
     ]
    },
    {
     "name": "stdout",
     "output_type": "stream",
     "text": [
      "Epoch [39/100] Validation:\n",
      "  Loss: 0.3498, Accuracy: 92.56%, F1: 0.9249\n",
      "  Learning Rate: 1.56e-06\n",
      "------------------------------------------------------------\n"
     ]
    },
    {
     "name": "stderr",
     "output_type": "stream",
     "text": [
      "Epoch [40/100] Training: 100%|██████████| 378/378 [03:26<00:00,  1.83it/s, loss=0.0780, acc=95.8%]\n"
     ]
    },
    {
     "name": "stdout",
     "output_type": "stream",
     "text": [
      "Epoch [40/100] Training:\n",
      "  Loss: 0.1187, Accuracy: 95.82%, F1: 0.9581\n"
     ]
    },
    {
     "name": "stderr",
     "output_type": "stream",
     "text": [
      "Epoch [40/100] Validation: 100%|██████████| 32/32 [00:31<00:00,  1.03it/s, loss=1.1109, acc=92.7%]\n"
     ]
    },
    {
     "name": "stdout",
     "output_type": "stream",
     "text": [
      "Epoch [40/100] Validation:\n",
      "  Loss: 0.3472, Accuracy: 92.66%, F1: 0.9260\n",
      "  Learning Rate: 7.81e-07\n",
      "------------------------------------------------------------\n"
     ]
    },
    {
     "name": "stderr",
     "output_type": "stream",
     "text": [
      "Epoch [41/100] Training: 100%|██████████| 378/378 [03:26<00:00,  1.83it/s, loss=0.0674, acc=96.1%]\n"
     ]
    },
    {
     "name": "stdout",
     "output_type": "stream",
     "text": [
      "Epoch [41/100] Training:\n",
      "  Loss: 0.1191, Accuracy: 96.06%, F1: 0.9606\n"
     ]
    },
    {
     "name": "stderr",
     "output_type": "stream",
     "text": [
      "Epoch [41/100] Validation: 100%|██████████| 32/32 [00:30<00:00,  1.04it/s, loss=1.1088, acc=92.6%]\n"
     ]
    },
    {
     "name": "stdout",
     "output_type": "stream",
     "text": [
      "Epoch [41/100] Validation:\n",
      "  Loss: 0.3499, Accuracy: 92.61%, F1: 0.9255\n",
      "  Learning Rate: 7.81e-07\n",
      "------------------------------------------------------------\n"
     ]
    },
    {
     "name": "stderr",
     "output_type": "stream",
     "text": [
      "Epoch [42/100] Training: 100%|██████████| 378/378 [03:25<00:00,  1.84it/s, loss=0.2344, acc=96.2%]\n"
     ]
    },
    {
     "name": "stdout",
     "output_type": "stream",
     "text": [
      "Epoch [42/100] Training:\n",
      "  Loss: 0.1157, Accuracy: 96.23%, F1: 0.9623\n"
     ]
    },
    {
     "name": "stderr",
     "output_type": "stream",
     "text": [
      "Epoch [42/100] Validation: 100%|██████████| 32/32 [00:31<00:00,  1.02it/s, loss=1.0912, acc=92.7%]\n"
     ]
    },
    {
     "name": "stdout",
     "output_type": "stream",
     "text": [
      "Epoch [42/100] Validation:\n",
      "  Loss: 0.3488, Accuracy: 92.70%, F1: 0.9265\n",
      "  Learning Rate: 7.81e-07\n",
      "------------------------------------------------------------\n"
     ]
    },
    {
     "name": "stderr",
     "output_type": "stream",
     "text": [
      "Epoch [43/100] Training: 100%|██████████| 378/378 [03:25<00:00,  1.84it/s, loss=0.0323, acc=96.5%]\n"
     ]
    },
    {
     "name": "stdout",
     "output_type": "stream",
     "text": [
      "Epoch [43/100] Training:\n",
      "  Loss: 0.1021, Accuracy: 96.46%, F1: 0.9645\n"
     ]
    },
    {
     "name": "stderr",
     "output_type": "stream",
     "text": [
      "Epoch [43/100] Validation: 100%|██████████| 32/32 [00:30<00:00,  1.03it/s, loss=1.2063, acc=92.8%]\n"
     ]
    },
    {
     "name": "stdout",
     "output_type": "stream",
     "text": [
      "Epoch [43/100] Validation:\n",
      "  Loss: 0.3541, Accuracy: 92.75%, F1: 0.9268\n",
      "  Learning Rate: 7.81e-07\n",
      "------------------------------------------------------------\n"
     ]
    },
    {
     "name": "stderr",
     "output_type": "stream",
     "text": [
      "Epoch [44/100] Training: 100%|██████████| 378/378 [03:24<00:00,  1.85it/s, loss=0.0902, acc=96.1%]\n"
     ]
    },
    {
     "name": "stdout",
     "output_type": "stream",
     "text": [
      "Epoch [44/100] Training:\n",
      "  Loss: 0.1196, Accuracy: 96.11%, F1: 0.9610\n"
     ]
    },
    {
     "name": "stderr",
     "output_type": "stream",
     "text": [
      "Epoch [44/100] Validation: 100%|██████████| 32/32 [00:31<00:00,  1.03it/s, loss=1.1758, acc=92.6%]\n"
     ]
    },
    {
     "name": "stdout",
     "output_type": "stream",
     "text": [
      "Epoch [44/100] Validation:\n",
      "  Loss: 0.3528, Accuracy: 92.56%, F1: 0.9250\n",
      "  Learning Rate: 3.91e-07\n",
      "------------------------------------------------------------\n"
     ]
    },
    {
     "name": "stderr",
     "output_type": "stream",
     "text": [
      "Epoch [45/100] Training: 100%|██████████| 378/378 [03:23<00:00,  1.86it/s, loss=0.2907, acc=95.8%]\n"
     ]
    },
    {
     "name": "stdout",
     "output_type": "stream",
     "text": [
      "Epoch [45/100] Training:\n",
      "  Loss: 0.1209, Accuracy: 95.78%, F1: 0.9577\n"
     ]
    },
    {
     "name": "stderr",
     "output_type": "stream",
     "text": [
      "Epoch [45/100] Validation: 100%|██████████| 32/32 [00:30<00:00,  1.06it/s, loss=1.1899, acc=92.5%]\n"
     ]
    },
    {
     "name": "stdout",
     "output_type": "stream",
     "text": [
      "Epoch [45/100] Validation:\n",
      "  Loss: 0.3568, Accuracy: 92.46%, F1: 0.9239\n",
      "  Learning Rate: 3.91e-07\n",
      "------------------------------------------------------------\n"
     ]
    },
    {
     "name": "stderr",
     "output_type": "stream",
     "text": [
      "Epoch [46/100] Training: 100%|██████████| 378/378 [03:23<00:00,  1.86it/s, loss=0.1907, acc=96.1%]\n"
     ]
    },
    {
     "name": "stdout",
     "output_type": "stream",
     "text": [
      "Epoch [46/100] Training:\n",
      "  Loss: 0.1237, Accuracy: 96.11%, F1: 0.9611\n"
     ]
    },
    {
     "name": "stderr",
     "output_type": "stream",
     "text": [
      "Epoch [46/100] Validation: 100%|██████████| 32/32 [00:31<00:00,  1.00it/s, loss=1.2300, acc=92.7%]\n"
     ]
    },
    {
     "name": "stdout",
     "output_type": "stream",
     "text": [
      "Epoch [46/100] Validation:\n",
      "  Loss: 0.3562, Accuracy: 92.70%, F1: 0.9263\n",
      "  Learning Rate: 3.91e-07\n",
      "------------------------------------------------------------\n"
     ]
    },
    {
     "name": "stderr",
     "output_type": "stream",
     "text": [
      "Epoch [47/100] Training: 100%|██████████| 378/378 [03:25<00:00,  1.84it/s, loss=0.1450, acc=95.8%]\n"
     ]
    },
    {
     "name": "stdout",
     "output_type": "stream",
     "text": [
      "Epoch [47/100] Training:\n",
      "  Loss: 0.1232, Accuracy: 95.80%, F1: 0.9579\n"
     ]
    },
    {
     "name": "stderr",
     "output_type": "stream",
     "text": [
      "Epoch [47/100] Validation: 100%|██████████| 32/32 [00:31<00:00,  1.02it/s, loss=1.2007, acc=92.7%]\n"
     ]
    },
    {
     "name": "stdout",
     "output_type": "stream",
     "text": [
      "Epoch [47/100] Validation:\n",
      "  Loss: 0.3507, Accuracy: 92.70%, F1: 0.9263\n",
      "  Learning Rate: 3.91e-07\n",
      "------------------------------------------------------------\n"
     ]
    },
    {
     "name": "stderr",
     "output_type": "stream",
     "text": [
      "Epoch [48/100] Training: 100%|██████████| 378/378 [03:26<00:00,  1.83it/s, loss=0.0163, acc=96.3%]\n"
     ]
    },
    {
     "name": "stdout",
     "output_type": "stream",
     "text": [
      "Epoch [48/100] Training:\n",
      "  Loss: 0.1100, Accuracy: 96.31%, F1: 0.9631\n"
     ]
    },
    {
     "name": "stderr",
     "output_type": "stream",
     "text": [
      "Epoch [48/100] Validation: 100%|██████████| 32/32 [00:31<00:00,  1.02it/s, loss=1.1686, acc=92.6%]\n"
     ]
    },
    {
     "name": "stdout",
     "output_type": "stream",
     "text": [
      "Epoch [48/100] Validation:\n",
      "  Loss: 0.3540, Accuracy: 92.56%, F1: 0.9249\n",
      "  Learning Rate: 1.95e-07\n",
      "------------------------------------------------------------\n"
     ]
    },
    {
     "name": "stderr",
     "output_type": "stream",
     "text": [
      "Epoch [49/100] Training: 100%|██████████| 378/378 [03:27<00:00,  1.82it/s, loss=0.0032, acc=96.3%]\n"
     ]
    },
    {
     "name": "stdout",
     "output_type": "stream",
     "text": [
      "Epoch [49/100] Training:\n",
      "  Loss: 0.1135, Accuracy: 96.26%, F1: 0.9627\n"
     ]
    },
    {
     "name": "stderr",
     "output_type": "stream",
     "text": [
      "Epoch [49/100] Validation: 100%|██████████| 32/32 [00:31<00:00,  1.02it/s, loss=1.1730, acc=92.6%]\n"
     ]
    },
    {
     "name": "stdout",
     "output_type": "stream",
     "text": [
      "Epoch [49/100] Validation:\n",
      "  Loss: 0.3528, Accuracy: 92.56%, F1: 0.9249\n",
      "  Learning Rate: 1.95e-07\n",
      "------------------------------------------------------------\n"
     ]
    },
    {
     "name": "stderr",
     "output_type": "stream",
     "text": [
      "Epoch [50/100] Training: 100%|██████████| 378/378 [03:26<00:00,  1.83it/s, loss=0.0030, acc=96.3%]\n"
     ]
    },
    {
     "name": "stdout",
     "output_type": "stream",
     "text": [
      "Epoch [50/100] Training:\n",
      "  Loss: 0.1117, Accuracy: 96.28%, F1: 0.9627\n"
     ]
    },
    {
     "name": "stderr",
     "output_type": "stream",
     "text": [
      "Epoch [50/100] Validation: 100%|██████████| 32/32 [00:31<00:00,  1.01it/s, loss=1.2074, acc=92.5%]\n"
     ]
    },
    {
     "name": "stdout",
     "output_type": "stream",
     "text": [
      "Epoch [50/100] Validation:\n",
      "  Loss: 0.3536, Accuracy: 92.51%, F1: 0.9244\n",
      "  Learning Rate: 1.95e-07\n",
      "------------------------------------------------------------\n"
     ]
    },
    {
     "name": "stderr",
     "output_type": "stream",
     "text": [
      "Epoch [51/100] Training: 100%|██████████| 378/378 [03:27<00:00,  1.82it/s, loss=0.0068, acc=96.3%]\n"
     ]
    },
    {
     "name": "stdout",
     "output_type": "stream",
     "text": [
      "Epoch [51/100] Training:\n",
      "  Loss: 0.1132, Accuracy: 96.33%, F1: 0.9632\n"
     ]
    },
    {
     "name": "stderr",
     "output_type": "stream",
     "text": [
      "Epoch [51/100] Validation: 100%|██████████| 32/32 [00:31<00:00,  1.00it/s, loss=1.1926, acc=92.6%]\n"
     ]
    },
    {
     "name": "stdout",
     "output_type": "stream",
     "text": [
      "Epoch [51/100] Validation:\n",
      "  Loss: 0.3530, Accuracy: 92.61%, F1: 0.9254\n",
      "  Learning Rate: 1.95e-07\n",
      "------------------------------------------------------------\n"
     ]
    },
    {
     "name": "stderr",
     "output_type": "stream",
     "text": [
      "Epoch [52/100] Training: 100%|██████████| 378/378 [03:25<00:00,  1.84it/s, loss=0.3386, acc=96.3%]\n"
     ]
    },
    {
     "name": "stdout",
     "output_type": "stream",
     "text": [
      "Epoch [52/100] Training:\n",
      "  Loss: 0.1124, Accuracy: 96.31%, F1: 0.9631\n"
     ]
    },
    {
     "name": "stderr",
     "output_type": "stream",
     "text": [
      "Epoch [52/100] Validation: 100%|██████████| 32/32 [00:31<00:00,  1.02it/s, loss=1.1815, acc=92.6%]\n"
     ]
    },
    {
     "name": "stdout",
     "output_type": "stream",
     "text": [
      "Epoch [52/100] Validation:\n",
      "  Loss: 0.3529, Accuracy: 92.61%, F1: 0.9255\n",
      "  Learning Rate: 9.77e-08\n",
      "------------------------------------------------------------\n",
      "Learning rate too small, stopping training.\n"
     ]
    },
    {
     "data": {
      "image/png": "[encoded data removed]",
      "text/plain": [
       "<Figure size 1200x400 with 2 Axes>"
      ]
     },
     "metadata": {},
     "output_type": "display_data"
    },
    {
     "name": "stdout",
     "output_type": "stream",
     "text": [
      "\n",
      "=== Training Complete ===\n",
      "Best validation loss: 0.2639\n",
      "Final training accuracy: 96.31%\n",
      "Final validation accuracy: 92.61%\n"
     ]
    }
   ],
   "source": [
    "import torch\n",
    "import torch.nn as nn\n",
    "import torch.optim as optim\n",
    "from tqdm import tqdm\n",
    "from sklearn.metrics import precision_recall_fscore_support\n",
    "import matplotlib.pyplot as plt\n",
    "\n",
    "# Check data distribution first\n",
    "print(\"=== Dataset Information ===\")\n",
    "print(f\"Training samples: {len(train_dataset)}\")\n",
    "print(f\"Validation samples: {len(val_dataset)}\")\n",
    "print(f\"Training classes: {train_dataset.class_names}\")\n",
    "print(f\"Validation classes: {val_dataset.class_names}\")\n",
    "\n",
    "# Count class distribution\n",
    "train_class_counts = {}\n",
    "for label in train_dataset.labels:\n",
    "    class_name = train_dataset.class_names[label]\n",
    "    train_class_counts[class_name] = train_class_counts.get(class_name, 0) + 1\n",
    "print(f\"Training class distribution: {train_class_counts}\")\n",
    "\n",
    "val_class_counts = {}\n",
    "for label in val_dataset.labels:\n",
    "    class_name = val_dataset.class_names[label]\n",
    "    val_class_counts[class_name] = val_class_counts.get(class_name, 0) + 1\n",
    "print(f\"Validation class distribution: {val_class_counts}\")\n",
    "\n",
    "# Setup device and model\n",
    "device = torch.device(\"cuda\" if torch.cuda.is_available() else \"cpu\")\n",
    "print(f\"Using device: {device}\")\n",
    "\n",
    "# Move model to device and ensure it's in training mode\n",
    "model.to(device)\n",
    "model.train()\n",
    "\n",
    "# Define loss function with class weights for imbalanced data\n",
    "total_train = len(train_dataset)\n",
    "class_weights = []\n",
    "for class_name in train_dataset.class_names:\n",
    "    class_count = train_class_counts.get(class_name, 1)\n",
    "    weight = total_train / (len(train_dataset.class_names) * class_count)\n",
    "    class_weights.append(weight)\n",
    "\n",
    "class_weights = torch.FloatTensor(class_weights).to(device)\n",
    "print(f\"Class weights: {class_weights}\")\n",
    "\n",
    "criterion = nn.CrossEntropyLoss(weight=class_weights)\n",
    "\n",
    "# Optimizer with lower learning rate\n",
    "optimizer = optim.AdamW(model.parameters(), lr=1e-4, weight_decay=0.01)\n",
    "\n",
    "# Learning rate scheduler\n",
    "scheduler = optim.lr_scheduler.ReduceLROnPlateau(\n",
    "    optimizer, mode='min', factor=0.5, patience=3, verbose=True\n",
    ")\n",
    "\n",
    "# Training parameters\n",
    "num_epochs = 100\n",
    "best_val_loss = float('inf')\n",
    "save_path = \"./best_model.pth\"\n",
    "\n",
    "# Lists to store training history\n",
    "train_losses = []\n",
    "val_losses = []\n",
    "train_accuracies = []\n",
    "val_accuracies = []\n",
    "\n",
    "print(\"\\n=== Starting Training ===\")\n",
    "\n",
    "for epoch in range(num_epochs):\n",
    "    # ====================================================================\n",
    "    #                            TRAINING LOOP\n",
    "    # ====================================================================\n",
    "    model.train()\n",
    "    epoch_loss = 0\n",
    "    correct_predictions = 0\n",
    "    total_samples = 0\n",
    "    all_targets = []\n",
    "    all_preds = []\n",
    "    \n",
    "    progress_bar = tqdm(train_loader, desc=f\"Epoch [{epoch+1}/{num_epochs}] Training\")\n",
    "    \n",
    "    for batch_idx, (inputs, targets) in enumerate(progress_bar):\n",
    "        inputs, targets = inputs.to(device), targets.to(device)\n",
    "        \n",
    "        # Zero gradients\n",
    "        optimizer.zero_grad()\n",
    "        \n",
    "        # Forward pass\n",
    "        outputs = model(inputs)\n",
    "        loss = criterion(outputs, targets)\n",
    "        \n",
    "        # Backward pass\n",
    "        loss.backward()\n",
    "        \n",
    "        # Gradient clipping to prevent exploding gradients\n",
    "        torch.nn.utils.clip_grad_norm_(model.parameters(), max_norm=1.0)\n",
    "        \n",
    "        # Update weights\n",
    "        optimizer.step()\n",
    "        \n",
    "        # Statistics\n",
    "        _, predicted = torch.max(outputs.data, 1)\n",
    "        total_samples += targets.size(0)\n",
    "        correct_predictions += (predicted == targets).sum().item()\n",
    "        \n",
    "        all_preds.extend(predicted.cpu().numpy())\n",
    "        all_targets.extend(targets.cpu().numpy())\n",
    "        \n",
    "        epoch_loss += loss.item()\n",
    "        \n",
    "        # Update progress bar\n",
    "        current_acc = 100.0 * correct_predictions / total_samples\n",
    "        progress_bar.set_postfix({\n",
    "            'loss': f'{loss.item():.4f}',\n",
    "            'acc': f'{current_acc:.1f}%'\n",
    "        })\n",
    "    \n",
    "    # Calculate training metrics\n",
    "    avg_train_loss = epoch_loss / len(train_loader)\n",
    "    train_accuracy = 100.0 * correct_predictions / total_samples\n",
    "    precision, recall, f1, _ = precision_recall_fscore_support(\n",
    "        all_targets, all_preds, average='weighted', zero_division=0\n",
    "    )\n",
    "    \n",
    "    train_losses.append(avg_train_loss)\n",
    "    train_accuracies.append(train_accuracy)\n",
    "    \n",
    "    print(f\"Epoch [{epoch+1}/{num_epochs}] Training:\")\n",
    "    print(f\"  Loss: {avg_train_loss:.4f}, Accuracy: {train_accuracy:.2f}%, F1: {f1:.4f}\")\n",
    "    \n",
    "    # ====================================================================\n",
    "    #                           VALIDATION LOOP\n",
    "    # ====================================================================\n",
    "    model.eval()\n",
    "    val_loss = 0\n",
    "    val_correct = 0\n",
    "    val_total = 0\n",
    "    all_val_targets = []\n",
    "    all_val_preds = []\n",
    "    \n",
    "    with torch.no_grad():\n",
    "        val_progress_bar = tqdm(val_loader, desc=f\"Epoch [{epoch+1}/{num_epochs}] Validation\")\n",
    "        for inputs, targets in val_progress_bar:\n",
    "            inputs, targets = inputs.to(device), targets.to(device)\n",
    "            \n",
    "            outputs = model(inputs)\n",
    "            loss = criterion(outputs, targets)\n",
    "            \n",
    "            val_loss += loss.item()\n",
    "            _, predicted = torch.max(outputs.data, 1)\n",
    "            val_total += targets.size(0)\n",
    "            val_correct += (predicted == targets).sum().item()\n",
    "            \n",
    "            all_val_preds.extend(predicted.cpu().numpy())\n",
    "            all_val_targets.extend(targets.cpu().numpy())\n",
    "            \n",
    "            # Update progress bar\n",
    "            current_val_acc = 100.0 * val_correct / val_total\n",
    "            val_progress_bar.set_postfix({\n",
    "                'loss': f'{loss.item():.4f}',\n",
    "                'acc': f'{current_val_acc:.1f}%'\n",
    "            })\n",
    "    \n",
    "    # Calculate validation metrics\n",
    "    avg_val_loss = val_loss / len(val_loader)\n",
    "    val_accuracy = 100.0 * val_correct / val_total\n",
    "    val_precision, val_recall, val_f1, _ = precision_recall_fscore_support(\n",
    "        all_val_targets, all_val_preds, average='weighted', zero_division=0\n",
    "    )\n",
    "    \n",
    "    val_losses.append(avg_val_loss)\n",
    "    val_accuracies.append(val_accuracy)\n",
    "    \n",
    "    print(f\"Epoch [{epoch+1}/{num_epochs}] Validation:\")\n",
    "    print(f\"  Loss: {avg_val_loss:.4f}, Accuracy: {val_accuracy:.2f}%, F1: {val_f1:.4f}\")\n",
    "    \n",
    "    # Save best model\n",
    "    if avg_val_loss < best_val_loss:\n",
    "        best_val_loss = avg_val_loss\n",
    "        torch.save(model.state_dict(), save_path)\n",
    "        print(f\"  ✅ Best model saved! Val Loss: {best_val_loss:.4f}\")\n",
    "    \n",
    "    # Learning rate scheduling\n",
    "    scheduler.step(avg_val_loss)\n",
    "    current_lr = optimizer.param_groups[0]['lr']\n",
    "    print(f\"  Learning Rate: {current_lr:.2e}\")\n",
    "    print(\"-\" * 60)\n",
    "    \n",
    "    # Early stopping if learning rate gets too small\n",
    "    if current_lr < 1e-7:\n",
    "        print(\"Learning rate too small, stopping training.\")\n",
    "        break\n",
    "\n",
    "# Save final model\n",
    "torch.save(model.state_dict(), \"./last_model.pth\")\n",
    "\n",
    "# Plot training history\n",
    "plt.figure(figsize=(12, 4))\n",
    "\n",
    "plt.subplot(1, 2, 1)\n",
    "plt.plot(train_losses, label='Training Loss', marker='o')\n",
    "plt.plot(val_losses, label='Validation Loss', marker='s')\n",
    "plt.title('Training and Validation Loss')\n",
    "plt.xlabel('Epoch')\n",
    "plt.ylabel('Loss')\n",
    "plt.legend()\n",
    "plt.grid(True)\n",
    "\n",
    "plt.subplot(1, 2, 2)\n",
    "plt.plot(train_accuracies, label='Training Accuracy', marker='o')\n",
    "plt.plot(val_accuracies, label='Validation Accuracy', marker='s')\n",
    "plt.title('Training and Validation Accuracy')\n",
    "plt.xlabel('Epoch')\n",
    "plt.ylabel('Accuracy (%)')\n",
    "plt.legend()\n",
    "plt.grid(True)\n",
    "\n",
    "plt.tight_layout()\n",
    "plt.savefig('training_history.png', dpi=150, bbox_inches='tight')\n",
    "plt.show()\n",
    "\n",
    "print(f\"\\n=== Training Complete ===\")\n",
    "print(f\"Best validation loss: {best_val_loss:.4f}\")\n",
    "print(f\"Final training accuracy: {train_accuracies[-1]:.2f}%\")\n",
    "print(f\"Final validation accuracy: {val_accuracies[-1]:.2f}%\")"
   ]
  },
  {
   "cell_type": "code",
   "execution_count": 13,
   "id": "ebcd7183",
   "metadata": {
    "execution": {
     "iopub.execute_input": "2025-09-23T18:57:10.857490Z",
     "iopub.status.busy": "2025-09-23T18:57:10.857209Z",
     "iopub.status.idle": "2025-09-23T18:57:42.265247Z",
     "shell.execute_reply": "2025-09-23T18:57:42.264360Z"
    },
    "papermill": {
     "duration": 35.362255,
     "end_time": "2025-09-23T18:57:44.145569",
     "exception": false,
     "start_time": "2025-09-23T18:57:08.783314",
     "status": "completed"
    },
    "tags": []
   },
   "outputs": [
    {
     "name": "stdout",
     "output_type": "stream",
     "text": [
      "✅ Loaded best_model.pth successfully.\n",
      "✅ Predictions saved to test_predictions.csv\n"
     ]
    }
   ],
   "source": [
    "import csv\n",
    "import os\n",
    "import torch\n",
    "import torch.nn as nn\n",
    "from torch.utils.data import DataLoader\n",
    "from torchvision.datasets import ImageFolder\n",
    "import timm\n",
    "\n",
    "# ==============================\n",
    "# CUSTOM DATASET WITH PATHS\n",
    "# ==============================\n",
    "class ImageFolderWithPaths(ImageFolder):\n",
    "    \"\"\"Custom dataset that includes image file paths.\"\"\"\n",
    "    def __getitem__(self, index):\n",
    "        # Normal ImageFolder return (img, label)\n",
    "        original_tuple = super().__getitem__(index)\n",
    "        path = self.samples[index][0]  # file path\n",
    "        return original_tuple + (path,)  # (img, label, path)\n",
    "\n",
    "# ==============================\n",
    "# DATASET & LOADER\n",
    "# ==============================\n",
    "transform = transforms.Compose([\n",
    "    transforms.Resize((224,224)),\n",
    "    transforms.ToTensor(),\n",
    "    transforms.Normalize(mean=[0.485, 0.456, 0.406],\n",
    "                         std=[0.229, 0.224, 0.225])\n",
    "])\n",
    "\n",
    "test_dataset = ImageFolderWithPaths(root=test_dir, transform=transform)\n",
    "test_loader = DataLoader(test_dataset, batch_size=32, shuffle=False)\n",
    "\n",
    "# ==============================\n",
    "# DEVICE\n",
    "# ==============================\n",
    "device = torch.device(\"cuda\" if torch.cuda.is_available() else \"cpu\")\n",
    "\n",
    "# ==============================\n",
    "# MODEL\n",
    "# ==============================\n",
    "model = timm.create_model(\n",
    "    model_name,\n",
    "    pretrained=True,\n",
    "    num_classes=5,\n",
    ")\n",
    "\n",
    "if torch.cuda.device_count() > 1:\n",
    "    model = nn.DataParallel(model)\n",
    "\n",
    "model.to(device)\n",
    "\n",
    "# ==============================\n",
    "# LOAD BEST MODEL\n",
    "# ==============================\n",
    "state_dict = torch.load(\"./best_model.pth\", map_location=device)\n",
    "model.load_state_dict(state_dict)\n",
    "#if isinstance(model, nn.DataParallel):\n",
    "#    model.module.load_state_dict(state_dict)\n",
    "#else:\n",
    "#    model.load_state_dict(state_dict)\n",
    "\n",
    "model.eval()\n",
    "print(\"✅ Loaded best_model.pth successfully.\")\n",
    "\n",
    "# ==============================\n",
    "# PREDICTION LOOP\n",
    "# ==============================\n",
    "results = []\n",
    "\n",
    "with torch.no_grad():\n",
    "    for inputs, _, paths in test_loader:\n",
    "        inputs = inputs.to(device)\n",
    "        outputs = model(inputs)\n",
    "        _, preds = torch.max(outputs, dim=1)\n",
    "\n",
    "        for path, pred in zip(paths, preds.cpu().numpy()):\n",
    "            filename = os.path.basename(path)\n",
    "\n",
    "            # ✅ Clean up Roboflow suffix like \".rf.xxxxx\"\n",
    "            if \".rf.\" in filename:\n",
    "                filename = filename.split(\".rf.\")[0]\n",
    "\n",
    "            results.append([filename, pred])\n",
    "\n",
    "# ==============================\n",
    "# SAVE CSV\n",
    "# ==============================\n",
    "csv_file = \"test_predictions.csv\"\n",
    "with open(csv_file, mode=\"w\", newline=\"\") as f:\n",
    "    writer = csv.writer(f)\n",
    "    writer.writerow([\"Id\", \"Predicted\"])  # header\n",
    "    writer.writerows(results)\n",
    "\n",
    "print(f\"✅ Predictions saved to {csv_file}\")\n"
   ]
  },
  {
   "cell_type": "code",
   "execution_count": 14,
   "id": "aa94dfe4",
   "metadata": {
    "execution": {
     "iopub.execute_input": "2025-09-23T18:57:48.031221Z",
     "iopub.status.busy": "2025-09-23T18:57:48.030727Z",
     "iopub.status.idle": "2025-09-23T18:58:17.420504Z",
     "shell.execute_reply": "2025-09-23T18:58:17.419592Z"
    },
    "papermill": {
     "duration": 31.211903,
     "end_time": "2025-09-23T18:58:17.421701",
     "exception": false,
     "start_time": "2025-09-23T18:57:46.209798",
     "status": "completed"
    },
    "tags": []
   },
   "outputs": [
    {
     "name": "stdout",
     "output_type": "stream",
     "text": [
      "✅ Loaded best_model.pth successfully.\n",
      "✅ Predictions saved to test_predictions.csv\n"
     ]
    }
   ],
   "source": [
    "import csv\n",
    "import os\n",
    "import torch\n",
    "import torch.nn as nn\n",
    "from torch.utils.data import DataLoader\n",
    "from torchvision.datasets import ImageFolder\n",
    "import timm\n",
    "\n",
    "# ==============================\n",
    "# CUSTOM DATASET WITH PATHS\n",
    "# ==============================\n",
    "class ImageFolderWithPaths(ImageFolder):\n",
    "    \"\"\"Custom dataset that includes image file paths.\"\"\"\n",
    "    def __getitem__(self, index):\n",
    "        # Normal ImageFolder return (img, label)\n",
    "        original_tuple = super().__getitem__(index)\n",
    "        path = self.samples[index][0]  # file path\n",
    "        return original_tuple + (path,)  # (img, label, path)\n",
    "\n",
    "# ==============================\n",
    "# DATASET & LOADER\n",
    "# ==============================\n",
    "transform = transforms.Compose([\n",
    "    transforms.Resize((224,224)),\n",
    "    transforms.ToTensor(),\n",
    "    transforms.Normalize(mean=[0.485, 0.456, 0.406],\n",
    "                         std=[0.229, 0.224, 0.225])\n",
    "])\n",
    "\n",
    "test_dataset = ImageFolderWithPaths(root=test_dir, transform=transform)\n",
    "test_loader = DataLoader(test_dataset, batch_size=32, shuffle=False)\n",
    "\n",
    "# ==============================\n",
    "# DEVICE\n",
    "# ==============================\n",
    "device = torch.device(\"cuda\" if torch.cuda.is_available() else \"cpu\")\n",
    "\n",
    "# ==============================\n",
    "# MODEL\n",
    "# ==============================\n",
    "model = timm.create_model(\n",
    "    model_name,\n",
    "    pretrained=True,\n",
    "    num_classes=5,\n",
    ")\n",
    "\n",
    "if torch.cuda.device_count() > 1:\n",
    "    model = nn.DataParallel(model)\n",
    "\n",
    "model.to(device)\n",
    "\n",
    "# ==============================\n",
    "# LOAD BEST MODEL\n",
    "# ==============================\n",
    "state_dict = torch.load(\"./best_model.pth\", map_location=device)\n",
    "model.load_state_dict(state_dict)\n",
    "#if isinstance(model, nn.DataParallel):\n",
    "#    model.module.load_state_dict(state_dict)\n",
    "#else:\n",
    "#    model.load_state_dict(state_dict)\n",
    "\n",
    "model.eval()\n",
    "print(\"✅ Loaded best_model.pth successfully.\")\n",
    "\n",
    "# ==============================\n",
    "# PREDICTION LOOP\n",
    "# ==============================\n",
    "results = []\n",
    "\n",
    "with torch.no_grad():\n",
    "    for inputs, _, paths in test_loader:\n",
    "        inputs = inputs.to(device)\n",
    "        outputs = model(inputs)\n",
    "        _, preds = torch.max(outputs, dim=1)\n",
    "\n",
    "        for path, pred in zip(paths, preds.cpu().numpy()):\n",
    "            filename = os.path.basename(path)\n",
    "\n",
    "            # ✅ Clean up Roboflow suffix like \".rf.xxxxx\"\n",
    "            if \".rf.\" in filename:\n",
    "                filename = filename.split(\".rf.\")[0]\n",
    "\n",
    "            results.append([filename, pred])\n",
    "            \n",
    "            # ✅ Replace \"_jpeg\" suffix with \".jpeg\"\n",
    "            if filename.endswith(\"_jpeg\"):\n",
    "                filename = filename.replace(\"_jpeg\", \".jpeg\")\n",
    "\n",
    "# ==============================\n",
    "# SAVE CSV\n",
    "# ==============================\n",
    "csv_file = \"test_predictions.csv\"\n",
    "with open(csv_file, mode=\"w\", newline=\"\") as f:\n",
    "    writer = csv.writer(f)\n",
    "    writer.writerow([\"Id\", \"Predicted\"])  # header\n",
    "    writer.writerows(results)\n",
    "\n",
    "print(f\"✅ Predictions saved to {csv_file}\")\n"
   ]
  }
 ],
 "metadata": {
  "kaggle": {
   "accelerator": "nvidiaTeslaT4",
   "dataSources": [],
   "dockerImageVersionId": 31090,
   "isGpuEnabled": true,
   "isInternetEnabled": true,
   "language": "python",
   "sourceType": "notebook"
  },
  "kernelspec": {
   "display_name": "Python 3",
   "language": "python",
   "name": "python3"
  },
  "language_info": {
   "codemirror_mode": {
    "name": "ipython",
    "version": 3
   },
   "file_extension": ".py",
   "mimetype": "text/x-python",
   "name": "python",
   "nbconvert_exporter": "python",
   "pygments_lexer": "ipython3",
   "version": "3.11.13"
  },
  "papermill": {
   "default_parameters": {},
   "duration": 12525.391323,
   "end_time": "2025-09-23T18:58:23.239695",
   "environment_variables": {},
   "exception": null,
   "input_path": "__notebook__.ipynb",
   "output_path": "__notebook__.ipynb",
   "parameters": {},
   "start_time": "2025-09-23T15:29:37.848372",
   "version": "2.6.0"
  },
  "widgets": {
   "application/vnd.jupyter.widget-state+json": {
    "state": {
     "58417b3dbb9c4bffaef9c89f18201ba9": {
      "model_module": "@jupyter-widgets/base",
      "model_module_version": "2.0.0",
      "model_name": "LayoutModel",
      "state": {
       "_model_module": "@jupyter-widgets/base",
       "_model_module_version": "2.0.0",
       "_model_name": "LayoutModel",
       "_view_count": null,
       "_view_module": "@jupyter-widgets/base",
       "_view_module_version": "2.0.0",
       "_view_name": "LayoutView",
       "align_content": null,
       "align_items": null,
       "align_self": null,
       "border_bottom": null,
       "border_left": null,
       "border_right": null,
       "border_top": null,
       "bottom": null,
       "display": null,
       "flex": null,
       "flex_flow": null,
       "grid_area": null,
       "grid_auto_columns": null,
       "grid_auto_flow": null,
       "grid_auto_rows": null,
       "grid_column": null,
       "grid_gap": null,
       "grid_row": null,
       "grid_template_areas": null,
       "grid_template_columns": null,
       "grid_template_rows": null,
       "height": null,
       "justify_content": null,
       "justify_items": null,
       "left": null,
       "margin": null,
       "max_height": null,
       "max_width": null,
       "min_height": null,
       "min_width": null,
       "object_fit": null,
       "object_position": null,
       "order": null,
       "overflow": null,
       "padding": null,
       "right": null,
       "top": null,
       "visibility": null,
       "width": null
      }
     },
     "7f257845453d41b0aa92f4978674d142": {
      "model_module": "@jupyter-widgets/base",
      "model_module_version": "2.0.0",
      "model_name": "LayoutModel",
      "state": {
       "_model_module": "@jupyter-widgets/base",
       "_model_module_version": "2.0.0",
       "_model_name": "LayoutModel",
       "_view_count": null,
       "_view_module": "@jupyter-widgets/base",
       "_view_module_version": "2.0.0",
       "_view_name": "LayoutView",
       "align_content": null,
       "align_items": null,
       "align_self": null,
       "border_bottom": null,
       "border_left": null,
       "border_right": null,
       "border_top": null,
       "bottom": null,
       "display": null,
       "flex": null,
       "flex_flow": null,
       "grid_area": null,
       "grid_auto_columns": null,
       "grid_auto_flow": null,
       "grid_auto_rows": null,
       "grid_column": null,
       "grid_gap": null,
       "grid_row": null,
       "grid_template_areas": null,
       "grid_template_columns": null,
       "grid_template_rows": null,
       "height": null,
       "justify_content": null,
       "justify_items": null,
       "left": null,
       "margin": null,
       "max_height": null,
       "max_width": null,
       "min_height": null,
       "min_width": null,
       "object_fit": null,
       "object_position": null,
       "order": null,
       "overflow": null,
       "padding": null,
       "right": null,
       "top": null,
       "visibility": null,
       "width": null
      }
     },
     "831ab6dfeeb04d9bbb0b54fc7a9f420d": {
      "model_module": "@jupyter-widgets/controls",
      "model_module_version": "2.0.0",
      "model_name": "HTMLStyleModel",
      "state": {
       "_model_module": "@jupyter-widgets/controls",
       "_model_module_version": "2.0.0",
       "_model_name": "HTMLStyleModel",
       "_view_count": null,
       "_view_module": "@jupyter-widgets/base",
       "_view_module_version": "2.0.0",
       "_view_name": "StyleView",
       "background": null,
       "description_width": "",
       "font_size": null,
       "text_color": null
      }
     },
     "8f5e242a0dd641fa8590fb886d4d6cd8": {
      "model_module": "@jupyter-widgets/base",
      "model_module_version": "2.0.0",
      "model_name": "LayoutModel",
      "state": {
       "_model_module": "@jupyter-widgets/base",
       "_model_module_version": "2.0.0",
       "_model_name": "LayoutModel",
       "_view_count": null,
       "_view_module": "@jupyter-widgets/base",
       "_view_module_version": "2.0.0",
       "_view_name": "LayoutView",
       "align_content": null,
       "align_items": null,
       "align_self": null,
       "border_bottom": null,
       "border_left": null,
       "border_right": null,
       "border_top": null,
       "bottom": null,
       "display": null,
       "flex": null,
       "flex_flow": null,
       "grid_area": null,
       "grid_auto_columns": null,
       "grid_auto_flow": null,
       "grid_auto_rows": null,
       "grid_column": null,
       "grid_gap": null,
       "grid_row": null,
       "grid_template_areas": null,
       "grid_template_columns": null,
       "grid_template_rows": null,
       "height": null,
       "justify_content": null,
       "justify_items": null,
       "left": null,
       "margin": null,
       "max_height": null,
       "max_width": null,
       "min_height": null,
       "min_width": null,
       "object_fit": null,
       "object_position": null,
       "order": null,
       "overflow": null,
       "padding": null,
       "right": null,
       "top": null,
       "visibility": null,
       "width": null
      }
     },
     "96b19d1d07f4455a987427f8a313d1a6": {
      "model_module": "@jupyter-widgets/base",
      "model_module_version": "2.0.0",
      "model_name": "LayoutModel",
      "state": {
       "_model_module": "@jupyter-widgets/base",
       "_model_module_version": "2.0.0",
       "_model_name": "LayoutModel",
       "_view_count": null,
       "_view_module": "@jupyter-widgets/base",
       "_view_module_version": "2.0.0",
       "_view_name": "LayoutView",
       "align_content": null,
       "align_items": null,
       "align_self": null,
       "border_bottom": null,
       "border_left": null,
       "border_right": null,
       "border_top": null,
       "bottom": null,
       "display": null,
       "flex": null,
       "flex_flow": null,
       "grid_area": null,
       "grid_auto_columns": null,
       "grid_auto_flow": null,
       "grid_auto_rows": null,
       "grid_column": null,
       "grid_gap": null,
       "grid_row": null,
       "grid_template_areas": null,
       "grid_template_columns": null,
       "grid_template_rows": null,
       "height": null,
       "justify_content": null,
       "justify_items": null,
       "left": null,
       "margin": null,
       "max_height": null,
       "max_width": null,
       "min_height": null,
       "min_width": null,
       "object_fit": null,
       "object_position": null,
       "order": null,
       "overflow": null,
       "padding": null,
       "right": null,
       "top": null,
       "visibility": null,
       "width": null
      }
     },
     "9d6749bad8614e28bb7302f9170c4404": {
      "model_module": "@jupyter-widgets/controls",
      "model_module_version": "2.0.0",
      "model_name": "HTMLModel",
      "state": {
       "_dom_classes": [],
       "_model_module": "@jupyter-widgets/controls",
       "_model_module_version": "2.0.0",
       "_model_name": "HTMLModel",
       "_view_count": null,
       "_view_module": "@jupyter-widgets/controls",
       "_view_module_version": "2.0.0",
       "_view_name": "HTMLView",
       "description": "",
       "description_allow_html": false,
       "layout": "IPY_MODEL_96b19d1d07f4455a987427f8a313d1a6",
       "placeholder": "​",
       "style": "IPY_MODEL_831ab6dfeeb04d9bbb0b54fc7a9f420d",
       "tabbable": null,
       "tooltip": null,
       "value": " 353M/353M [00:01&lt;00:00, 242MB/s]"
      }
     },
     "a9e30879f55d46eabb98138d631f3249": {
      "model_module": "@jupyter-widgets/controls",
      "model_module_version": "2.0.0",
      "model_name": "HTMLModel",
      "state": {
       "_dom_classes": [],
       "_model_module": "@jupyter-widgets/controls",
       "_model_module_version": "2.0.0",
       "_model_name": "HTMLModel",
       "_view_count": null,
       "_view_module": "@jupyter-widgets/controls",
       "_view_module_version": "2.0.0",
       "_view_name": "HTMLView",
       "description": "",
       "description_allow_html": false,
       "layout": "IPY_MODEL_58417b3dbb9c4bffaef9c89f18201ba9",
       "placeholder": "​",
       "style": "IPY_MODEL_f8ee134423a54f719de155cf53c38c07",
       "tabbable": null,
       "tooltip": null,
       "value": "model.safetensors: 100%"
      }
     },
     "de06d54c48114a7ebfd102f08d702b34": {
      "model_module": "@jupyter-widgets/controls",
      "model_module_version": "2.0.0",
      "model_name": "ProgressStyleModel",
      "state": {
       "_model_module": "@jupyter-widgets/controls",
       "_model_module_version": "2.0.0",
       "_model_name": "ProgressStyleModel",
       "_view_count": null,
       "_view_module": "@jupyter-widgets/base",
       "_view_module_version": "2.0.0",
       "_view_name": "StyleView",
       "bar_color": null,
       "description_width": ""
      }
     },
     "e46065390c14468eab8cecde02134990": {
      "model_module": "@jupyter-widgets/controls",
      "model_module_version": "2.0.0",
      "model_name": "HBoxModel",
      "state": {
       "_dom_classes": [],
       "_model_module": "@jupyter-widgets/controls",
       "_model_module_version": "2.0.0",
       "_model_name": "HBoxModel",
       "_view_count": null,
       "_view_module": "@jupyter-widgets/controls",
       "_view_module_version": "2.0.0",
       "_view_name": "HBoxView",
       "box_style": "",
       "children": [
        "IPY_MODEL_a9e30879f55d46eabb98138d631f3249",
        "IPY_MODEL_ff7677ac01594779b263926fce5b031c",
        "IPY_MODEL_9d6749bad8614e28bb7302f9170c4404"
       ],
       "layout": "IPY_MODEL_8f5e242a0dd641fa8590fb886d4d6cd8",
       "tabbable": null,
       "tooltip": null
      }
     },
     "f8ee134423a54f719de155cf53c38c07": {
      "model_module": "@jupyter-widgets/controls",
      "model_module_version": "2.0.0",
      "model_name": "HTMLStyleModel",
      "state": {
       "_model_module": "@jupyter-widgets/controls",
       "_model_module_version": "2.0.0",
       "_model_name": "HTMLStyleModel",
       "_view_count": null,
       "_view_module": "@jupyter-widgets/base",
       "_view_module_version": "2.0.0",
       "_view_name": "StyleView",
       "background": null,
       "description_width": "",
       "font_size": null,
       "text_color": null
      }
     },
     "ff7677ac01594779b263926fce5b031c": {
      "model_module": "@jupyter-widgets/controls",
      "model_module_version": "2.0.0",
      "model_name": "FloatProgressModel",
      "state": {
       "_dom_classes": [],
       "_model_module": "@jupyter-widgets/controls",
       "_model_module_version": "2.0.0",
       "_model_name": "FloatProgressModel",
       "_view_count": null,
       "_view_module": "@jupyter-widgets/controls",
       "_view_module_version": "2.0.0",
       "_view_name": "ProgressView",
       "bar_style": "success",
       "description": "",
       "description_allow_html": false,
       "layout": "IPY_MODEL_7f257845453d41b0aa92f4978674d142",
       "max": 352685652.0,
       "min": 0.0,
       "orientation": "horizontal",
       "style": "IPY_MODEL_de06d54c48114a7ebfd102f08d702b34",
       "tabbable": null,
       "tooltip": null,
       "value": 352685652.0
      }
     }
    },
    "version_major": 2,
    "version_minor": 0
   }
  }
 },
 "nbformat": 4,
 "nbformat_minor": 5
}
