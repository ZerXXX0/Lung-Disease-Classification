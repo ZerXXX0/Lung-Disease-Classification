{
 "cells": [
  {
   "cell_type": "code",
   "execution_count": 1,
   "id": "c822bc08",
   "metadata": {
    "_cell_guid": "b1076dfc-b9ad-4769-8c92-a6c4dae69d19",
    "_uuid": "8f2839f25d086af736a60e9eeb907d3b93b6e0e5",
    "execution": {
     "iopub.execute_input": "2025-09-23T07:50:25.846303Z",
     "iopub.status.busy": "2025-09-23T07:50:25.846100Z",
     "iopub.status.idle": "2025-09-23T07:50:41.519140Z",
     "shell.execute_reply": "2025-09-23T07:50:41.518495Z"
    },
    "papermill": {
     "duration": 15.678649,
     "end_time": "2025-09-23T07:50:41.520561",
     "exception": false,
     "start_time": "2025-09-23T07:50:25.841912",
     "status": "completed"
    },
    "tags": []
   },
   "outputs": [],
   "source": [
    "from urllib.request import urlopen\n",
    "import timm\n",
    "import torch\n",
    "import zipfile,os\n",
    "from PIL import Image\n",
    "from pathlib import Path\n",
    "from torchvision.datasets import ImageFolder\n",
    "from torchvision import transforms\n",
    "from torch.utils.data import DataLoader,Dataset\n",
    "from sklearn.metrics import accuracy_score\n",
    "from tqdm import tqdm\n",
    "import torch.nn as nn\n",
    "import torch.optim as optim"
   ]
  },
  {
   "cell_type": "code",
   "execution_count": 2,
   "id": "cf9dc47c",
   "metadata": {
    "execution": {
     "iopub.execute_input": "2025-09-23T07:50:41.527889Z",
     "iopub.status.busy": "2025-09-23T07:50:41.527342Z",
     "iopub.status.idle": "2025-09-23T07:50:50.767756Z",
     "shell.execute_reply": "2025-09-23T07:50:50.766541Z"
    },
    "papermill": {
     "duration": 9.245235,
     "end_time": "2025-09-23T07:50:50.769211",
     "exception": false,
     "start_time": "2025-09-23T07:50:41.523976",
     "status": "completed"
    },
    "tags": []
   },
   "outputs": [
    {
     "name": "stdout",
     "output_type": "stream",
     "text": [
      "Collecting roboflow\r\n",
      "  Downloading roboflow-1.2.9-py3-none-any.whl.metadata (9.7 kB)\r\n",
      "Requirement already satisfied: certifi in /usr/local/lib/python3.11/dist-packages (from roboflow) (2025.6.15)\r\n",
      "Collecting idna==3.7 (from roboflow)\r\n",
      "  Downloading idna-3.7-py3-none-any.whl.metadata (9.9 kB)\r\n",
      "Requirement already satisfied: cycler in /usr/local/lib/python3.11/dist-packages (from roboflow) (0.12.1)\r\n",
      "Requirement already satisfied: kiwisolver>=1.3.1 in /usr/local/lib/python3.11/dist-packages (from roboflow) (1.4.8)\r\n",
      "Requirement already satisfied: matplotlib in /usr/local/lib/python3.11/dist-packages (from roboflow) (3.7.2)\r\n",
      "Requirement already satisfied: numpy>=1.18.5 in /usr/local/lib/python3.11/dist-packages (from roboflow) (1.26.4)\r\n",
      "Collecting opencv-python-headless==4.10.0.84 (from roboflow)\r\n",
      "  Downloading opencv_python_headless-4.10.0.84-cp37-abi3-manylinux_2_17_x86_64.manylinux2014_x86_64.whl.metadata (20 kB)\r\n",
      "Requirement already satisfied: Pillow>=7.1.2 in /usr/local/lib/python3.11/dist-packages (from roboflow) (11.2.1)\r\n",
      "Collecting pi-heif<2 (from roboflow)\r\n",
      "  Downloading pi_heif-1.1.0-cp311-cp311-manylinux_2_27_x86_64.manylinux_2_28_x86_64.whl.metadata (6.5 kB)\r\n",
      "Collecting pillow-avif-plugin<2 (from roboflow)\r\n",
      "  Downloading pillow_avif_plugin-1.5.2-cp311-cp311-manylinux_2_28_x86_64.whl.metadata (2.1 kB)\r\n",
      "Requirement already satisfied: python-dateutil in /usr/local/lib/python3.11/dist-packages (from roboflow) (2.9.0.post0)\r\n",
      "Collecting python-dotenv (from roboflow)\r\n",
      "  Downloading python_dotenv-1.1.1-py3-none-any.whl.metadata (24 kB)\r\n",
      "Requirement already satisfied: requests in /usr/local/lib/python3.11/dist-packages (from roboflow) (2.32.4)\r\n",
      "Requirement already satisfied: six in /usr/local/lib/python3.11/dist-packages (from roboflow) (1.17.0)\r\n",
      "Requirement already satisfied: urllib3>=1.26.6 in /usr/local/lib/python3.11/dist-packages (from roboflow) (2.5.0)\r\n",
      "Requirement already satisfied: tqdm>=4.41.0 in /usr/local/lib/python3.11/dist-packages (from roboflow) (4.67.1)\r\n",
      "Requirement already satisfied: PyYAML>=5.3.1 in /usr/local/lib/python3.11/dist-packages (from roboflow) (6.0.2)\r\n",
      "Requirement already satisfied: requests-toolbelt in /usr/local/lib/python3.11/dist-packages (from roboflow) (1.0.0)\r\n",
      "Collecting filetype (from roboflow)\r\n",
      "  Downloading filetype-1.2.0-py2.py3-none-any.whl.metadata (6.5 kB)\r\n",
      "Requirement already satisfied: mkl_fft in /usr/local/lib/python3.11/dist-packages (from numpy>=1.18.5->roboflow) (1.3.8)\r\n",
      "Requirement already satisfied: mkl_random in /usr/local/lib/python3.11/dist-packages (from numpy>=1.18.5->roboflow) (1.2.4)\r\n",
      "Requirement already satisfied: mkl_umath in /usr/local/lib/python3.11/dist-packages (from numpy>=1.18.5->roboflow) (0.1.1)\r\n",
      "Requirement already satisfied: mkl in /usr/local/lib/python3.11/dist-packages (from numpy>=1.18.5->roboflow) (2025.2.0)\r\n",
      "Requirement already satisfied: tbb4py in /usr/local/lib/python3.11/dist-packages (from numpy>=1.18.5->roboflow) (2022.2.0)\r\n",
      "Requirement already satisfied: mkl-service in /usr/local/lib/python3.11/dist-packages (from numpy>=1.18.5->roboflow) (2.4.1)\r\n",
      "Requirement already satisfied: contourpy>=1.0.1 in /usr/local/lib/python3.11/dist-packages (from matplotlib->roboflow) (1.3.2)\r\n",
      "Requirement already satisfied: fonttools>=4.22.0 in /usr/local/lib/python3.11/dist-packages (from matplotlib->roboflow) (4.58.4)\r\n",
      "Requirement already satisfied: packaging>=20.0 in /usr/local/lib/python3.11/dist-packages (from matplotlib->roboflow) (25.0)\r\n",
      "Requirement already satisfied: pyparsing<3.1,>=2.3.1 in /usr/local/lib/python3.11/dist-packages (from matplotlib->roboflow) (3.0.9)\r\n",
      "Requirement already satisfied: charset_normalizer<4,>=2 in /usr/local/lib/python3.11/dist-packages (from requests->roboflow) (3.4.2)\r\n",
      "Requirement already satisfied: intel-openmp<2026,>=2024 in /usr/local/lib/python3.11/dist-packages (from mkl->numpy>=1.18.5->roboflow) (2024.2.0)\r\n",
      "Requirement already satisfied: tbb==2022.* in /usr/local/lib/python3.11/dist-packages (from mkl->numpy>=1.18.5->roboflow) (2022.2.0)\r\n",
      "Requirement already satisfied: tcmlib==1.* in /usr/local/lib/python3.11/dist-packages (from tbb==2022.*->mkl->numpy>=1.18.5->roboflow) (1.4.0)\r\n",
      "Requirement already satisfied: intel-cmplr-lib-rt in /usr/local/lib/python3.11/dist-packages (from mkl_umath->numpy>=1.18.5->roboflow) (2024.2.0)\r\n",
      "Requirement already satisfied: intel-cmplr-lib-ur==2024.2.0 in /usr/local/lib/python3.11/dist-packages (from intel-openmp<2026,>=2024->mkl->numpy>=1.18.5->roboflow) (2024.2.0)\r\n",
      "Downloading roboflow-1.2.9-py3-none-any.whl (88 kB)\r\n",
      "\u001b[2K   \u001b[90m━━━━━━━━━━━━━━━━━━━━━━━━━━━━━━━━━━━━━━━━\u001b[0m \u001b[32m88.7/88.7 kB\u001b[0m \u001b[31m4.3 MB/s\u001b[0m eta \u001b[36m0:00:00\u001b[0m\r\n",
      "\u001b[?25hDownloading idna-3.7-py3-none-any.whl (66 kB)\r\n",
      "\u001b[2K   \u001b[90m━━━━━━━━━━━━━━━━━━━━━━━━━━━━━━━━━━━━━━━━\u001b[0m \u001b[32m66.8/66.8 kB\u001b[0m \u001b[31m4.4 MB/s\u001b[0m eta \u001b[36m0:00:00\u001b[0m\r\n",
      "\u001b[?25hDownloading opencv_python_headless-4.10.0.84-cp37-abi3-manylinux_2_17_x86_64.manylinux2014_x86_64.whl (49.9 MB)\r\n",
      "\u001b[2K   \u001b[90m━━━━━━━━━━━━━━━━━━━━━━━━━━━━━━━━━━━━━━━━\u001b[0m \u001b[32m49.9/49.9 MB\u001b[0m \u001b[31m35.0 MB/s\u001b[0m eta \u001b[36m0:00:00\u001b[0m\r\n",
      "\u001b[?25hDownloading pi_heif-1.1.0-cp311-cp311-manylinux_2_27_x86_64.manylinux_2_28_x86_64.whl (1.4 MB)\r\n",
      "\u001b[2K   \u001b[90m━━━━━━━━━━━━━━━━━━━━━━━━━━━━━━━━━━━━━━━━\u001b[0m \u001b[32m1.4/1.4 MB\u001b[0m \u001b[31m52.2 MB/s\u001b[0m eta \u001b[36m0:00:00\u001b[0m\r\n",
      "\u001b[?25hDownloading pillow_avif_plugin-1.5.2-cp311-cp311-manylinux_2_28_x86_64.whl (4.2 MB)\r\n",
      "\u001b[2K   \u001b[90m━━━━━━━━━━━━━━━━━━━━━━━━━━━━━━━━━━━━━━━━\u001b[0m \u001b[32m4.2/4.2 MB\u001b[0m \u001b[31m77.0 MB/s\u001b[0m eta \u001b[36m0:00:00\u001b[0m\r\n",
      "\u001b[?25hDownloading filetype-1.2.0-py2.py3-none-any.whl (19 kB)\r\n",
      "Downloading python_dotenv-1.1.1-py3-none-any.whl (20 kB)\r\n",
      "Installing collected packages: pillow-avif-plugin, filetype, python-dotenv, pi-heif, idna, opencv-python-headless, roboflow\r\n",
      "  Attempting uninstall: idna\r\n",
      "    Found existing installation: idna 3.10\r\n",
      "    Uninstalling idna-3.10:\r\n",
      "      Successfully uninstalled idna-3.10\r\n",
      "  Attempting uninstall: opencv-python-headless\r\n",
      "    Found existing installation: opencv-python-headless 4.11.0.86\r\n",
      "    Uninstalling opencv-python-headless-4.11.0.86:\r\n",
      "      Successfully uninstalled opencv-python-headless-4.11.0.86\r\n",
      "\u001b[31mERROR: pip's dependency resolver does not currently take into account all the packages that are installed. This behaviour is the source of the following dependency conflicts.\r\n",
      "bigframes 2.8.0 requires google-cloud-bigquery-storage<3.0.0,>=2.30.0, which is not installed.\r\n",
      "datasets 3.6.0 requires fsspec[http]<=2025.3.0,>=2023.1.0, but you have fsspec 2025.5.1 which is incompatible.\r\n",
      "google-colab 1.0.0 requires google-auth==2.38.0, but you have google-auth 2.40.3 which is incompatible.\r\n",
      "google-colab 1.0.0 requires notebook==6.5.7, but you have notebook 6.5.4 which is incompatible.\r\n",
      "google-colab 1.0.0 requires pandas==2.2.2, but you have pandas 2.2.3 which is incompatible.\r\n",
      "google-colab 1.0.0 requires requests==2.32.3, but you have requests 2.32.4 which is incompatible.\r\n",
      "google-colab 1.0.0 requires tornado==6.4.2, but you have tornado 6.5.1 which is incompatible.\r\n",
      "pandas-gbq 0.29.1 requires google-api-core<3.0.0,>=2.10.2, but you have google-api-core 1.34.1 which is incompatible.\r\n",
      "gcsfs 2025.3.2 requires fsspec==2025.3.2, but you have fsspec 2025.5.1 which is incompatible.\r\n",
      "langchain-core 0.3.66 requires packaging<25,>=23.2, but you have packaging 25.0 which is incompatible.\r\n",
      "google-cloud-storage 2.19.0 requires google-api-core<3.0.0dev,>=2.15.0, but you have google-api-core 1.34.1 which is incompatible.\r\n",
      "dataproc-spark-connect 0.7.5 requires google-api-core>=2.19, but you have google-api-core 1.34.1 which is incompatible.\r\n",
      "bigframes 2.8.0 requires google-cloud-bigquery[bqstorage,pandas]>=3.31.0, but you have google-cloud-bigquery 3.25.0 which is incompatible.\r\n",
      "bigframes 2.8.0 requires rich<14,>=12.4.4, but you have rich 14.0.0 which is incompatible.\r\n",
      "jupyter-kernel-gateway 2.5.2 requires jupyter-client<8.0,>=5.2.0, but you have jupyter-client 8.6.3 which is incompatible.\u001b[0m\u001b[31m\r\n",
      "\u001b[0mSuccessfully installed filetype-1.2.0 idna-3.7 opencv-python-headless-4.10.0.84 pi-heif-1.1.0 pillow-avif-plugin-1.5.2 python-dotenv-1.1.1 roboflow-1.2.9\r\n",
      "Note: you may need to restart the kernel to use updated packages.\n"
     ]
    }
   ],
   "source": [
    "pip install roboflow"
   ]
  },
  {
   "cell_type": "code",
   "execution_count": 3,
   "id": "d58c7142",
   "metadata": {
    "execution": {
     "iopub.execute_input": "2025-09-23T07:50:50.779871Z",
     "iopub.status.busy": "2025-09-23T07:50:50.779608Z",
     "iopub.status.idle": "2025-09-23T07:50:57.598952Z",
     "shell.execute_reply": "2025-09-23T07:50:57.597776Z"
    },
    "papermill": {
     "duration": 6.825971,
     "end_time": "2025-09-23T07:50:57.600316",
     "exception": false,
     "start_time": "2025-09-23T07:50:50.774345",
     "status": "completed"
    },
    "tags": []
   },
   "outputs": [
    {
     "name": "stdout",
     "output_type": "stream",
     "text": [
      "Collecting scikit-learn==1.3.1\r\n",
      "  Downloading scikit_learn-1.3.1-cp311-cp311-manylinux_2_17_x86_64.manylinux2014_x86_64.whl.metadata (11 kB)\r\n",
      "Requirement already satisfied: numpy<2.0,>=1.17.3 in /usr/local/lib/python3.11/dist-packages (from scikit-learn==1.3.1) (1.26.4)\r\n",
      "Requirement already satisfied: scipy>=1.5.0 in /usr/local/lib/python3.11/dist-packages (from scikit-learn==1.3.1) (1.15.3)\r\n",
      "Requirement already satisfied: joblib>=1.1.1 in /usr/local/lib/python3.11/dist-packages (from scikit-learn==1.3.1) (1.5.1)\r\n",
      "Requirement already satisfied: threadpoolctl>=2.0.0 in /usr/local/lib/python3.11/dist-packages (from scikit-learn==1.3.1) (3.6.0)\r\n",
      "Requirement already satisfied: mkl_fft in /usr/local/lib/python3.11/dist-packages (from numpy<2.0,>=1.17.3->scikit-learn==1.3.1) (1.3.8)\r\n",
      "Requirement already satisfied: mkl_random in /usr/local/lib/python3.11/dist-packages (from numpy<2.0,>=1.17.3->scikit-learn==1.3.1) (1.2.4)\r\n",
      "Requirement already satisfied: mkl_umath in /usr/local/lib/python3.11/dist-packages (from numpy<2.0,>=1.17.3->scikit-learn==1.3.1) (0.1.1)\r\n",
      "Requirement already satisfied: mkl in /usr/local/lib/python3.11/dist-packages (from numpy<2.0,>=1.17.3->scikit-learn==1.3.1) (2025.2.0)\r\n",
      "Requirement already satisfied: tbb4py in /usr/local/lib/python3.11/dist-packages (from numpy<2.0,>=1.17.3->scikit-learn==1.3.1) (2022.2.0)\r\n",
      "Requirement already satisfied: mkl-service in /usr/local/lib/python3.11/dist-packages (from numpy<2.0,>=1.17.3->scikit-learn==1.3.1) (2.4.1)\r\n",
      "Requirement already satisfied: intel-openmp<2026,>=2024 in /usr/local/lib/python3.11/dist-packages (from mkl->numpy<2.0,>=1.17.3->scikit-learn==1.3.1) (2024.2.0)\r\n",
      "Requirement already satisfied: tbb==2022.* in /usr/local/lib/python3.11/dist-packages (from mkl->numpy<2.0,>=1.17.3->scikit-learn==1.3.1) (2022.2.0)\r\n",
      "Requirement already satisfied: tcmlib==1.* in /usr/local/lib/python3.11/dist-packages (from tbb==2022.*->mkl->numpy<2.0,>=1.17.3->scikit-learn==1.3.1) (1.4.0)\r\n",
      "Requirement already satisfied: intel-cmplr-lib-rt in /usr/local/lib/python3.11/dist-packages (from mkl_umath->numpy<2.0,>=1.17.3->scikit-learn==1.3.1) (2024.2.0)\r\n",
      "Requirement already satisfied: intel-cmplr-lib-ur==2024.2.0 in /usr/local/lib/python3.11/dist-packages (from intel-openmp<2026,>=2024->mkl->numpy<2.0,>=1.17.3->scikit-learn==1.3.1) (2024.2.0)\r\n",
      "Downloading scikit_learn-1.3.1-cp311-cp311-manylinux_2_17_x86_64.manylinux2014_x86_64.whl (10.9 MB)\r\n",
      "\u001b[2K   \u001b[90m━━━━━━━━━━━━━━━━━━━━━━━━━━━━━━━━━━━━━━━━\u001b[0m \u001b[32m10.9/10.9 MB\u001b[0m \u001b[31m65.0 MB/s\u001b[0m eta \u001b[36m0:00:00\u001b[0m\r\n",
      "\u001b[?25hInstalling collected packages: scikit-learn\r\n",
      "  Attempting uninstall: scikit-learn\r\n",
      "    Found existing installation: scikit-learn 1.2.2\r\n",
      "    Uninstalling scikit-learn-1.2.2:\r\n",
      "      Successfully uninstalled scikit-learn-1.2.2\r\n",
      "\u001b[31mERROR: pip's dependency resolver does not currently take into account all the packages that are installed. This behaviour is the source of the following dependency conflicts.\r\n",
      "cesium 0.12.4 requires numpy<3.0,>=2.0, but you have numpy 1.26.4 which is incompatible.\r\n",
      "imbalanced-learn 0.13.0 requires scikit-learn<2,>=1.3.2, but you have scikit-learn 1.3.1 which is incompatible.\u001b[0m\u001b[31m\r\n",
      "\u001b[0mSuccessfully installed scikit-learn-1.3.1\r\n",
      "Note: you may need to restart the kernel to use updated packages.\n"
     ]
    }
   ],
   "source": [
    "pip install scikit-learn==1.3.1"
   ]
  },
  {
   "cell_type": "code",
   "execution_count": 4,
   "id": "0d5af57a",
   "metadata": {
    "execution": {
     "iopub.execute_input": "2025-09-23T07:50:57.611985Z",
     "iopub.status.busy": "2025-09-23T07:50:57.611719Z",
     "iopub.status.idle": "2025-09-23T07:51:17.807123Z",
     "shell.execute_reply": "2025-09-23T07:51:17.806081Z"
    },
    "papermill": {
     "duration": 20.202615,
     "end_time": "2025-09-23T07:51:17.808537",
     "exception": false,
     "start_time": "2025-09-23T07:50:57.605922",
     "status": "completed"
    },
    "tags": []
   },
   "outputs": [
    {
     "name": "stdout",
     "output_type": "stream",
     "text": [
      "Collecting matplotlib==3.8.0\r\n",
      "  Downloading matplotlib-3.8.0-cp311-cp311-manylinux_2_17_x86_64.manylinux2014_x86_64.whl.metadata (5.8 kB)\r\n",
      "Requirement already satisfied: contourpy>=1.0.1 in /usr/local/lib/python3.11/dist-packages (from matplotlib==3.8.0) (1.3.2)\r\n",
      "Requirement already satisfied: cycler>=0.10 in /usr/local/lib/python3.11/dist-packages (from matplotlib==3.8.0) (0.12.1)\r\n",
      "Requirement already satisfied: fonttools>=4.22.0 in /usr/local/lib/python3.11/dist-packages (from matplotlib==3.8.0) (4.58.4)\r\n",
      "Requirement already satisfied: kiwisolver>=1.0.1 in /usr/local/lib/python3.11/dist-packages (from matplotlib==3.8.0) (1.4.8)\r\n",
      "Requirement already satisfied: numpy<2,>=1.21 in /usr/local/lib/python3.11/dist-packages (from matplotlib==3.8.0) (1.26.4)\r\n",
      "Requirement already satisfied: packaging>=20.0 in /usr/local/lib/python3.11/dist-packages (from matplotlib==3.8.0) (25.0)\r\n",
      "Requirement already satisfied: pillow>=6.2.0 in /usr/local/lib/python3.11/dist-packages (from matplotlib==3.8.0) (11.2.1)\r\n",
      "Requirement already satisfied: pyparsing>=2.3.1 in /usr/local/lib/python3.11/dist-packages (from matplotlib==3.8.0) (3.0.9)\r\n",
      "Requirement already satisfied: python-dateutil>=2.7 in /usr/local/lib/python3.11/dist-packages (from matplotlib==3.8.0) (2.9.0.post0)\r\n",
      "Requirement already satisfied: mkl_fft in /usr/local/lib/python3.11/dist-packages (from numpy<2,>=1.21->matplotlib==3.8.0) (1.3.8)\r\n",
      "Requirement already satisfied: mkl_random in /usr/local/lib/python3.11/dist-packages (from numpy<2,>=1.21->matplotlib==3.8.0) (1.2.4)\r\n",
      "Requirement already satisfied: mkl_umath in /usr/local/lib/python3.11/dist-packages (from numpy<2,>=1.21->matplotlib==3.8.0) (0.1.1)\r\n",
      "Requirement already satisfied: mkl in /usr/local/lib/python3.11/dist-packages (from numpy<2,>=1.21->matplotlib==3.8.0) (2025.2.0)\r\n",
      "Requirement already satisfied: tbb4py in /usr/local/lib/python3.11/dist-packages (from numpy<2,>=1.21->matplotlib==3.8.0) (2022.2.0)\r\n",
      "Requirement already satisfied: mkl-service in /usr/local/lib/python3.11/dist-packages (from numpy<2,>=1.21->matplotlib==3.8.0) (2.4.1)\r\n",
      "Requirement already satisfied: six>=1.5 in /usr/local/lib/python3.11/dist-packages (from python-dateutil>=2.7->matplotlib==3.8.0) (1.17.0)\r\n",
      "Requirement already satisfied: intel-openmp<2026,>=2024 in /usr/local/lib/python3.11/dist-packages (from mkl->numpy<2,>=1.21->matplotlib==3.8.0) (2024.2.0)\r\n",
      "Requirement already satisfied: tbb==2022.* in /usr/local/lib/python3.11/dist-packages (from mkl->numpy<2,>=1.21->matplotlib==3.8.0) (2022.2.0)\r\n",
      "Requirement already satisfied: tcmlib==1.* in /usr/local/lib/python3.11/dist-packages (from tbb==2022.*->mkl->numpy<2,>=1.21->matplotlib==3.8.0) (1.4.0)\r\n",
      "Requirement already satisfied: intel-cmplr-lib-rt in /usr/local/lib/python3.11/dist-packages (from mkl_umath->numpy<2,>=1.21->matplotlib==3.8.0) (2024.2.0)\r\n",
      "Requirement already satisfied: intel-cmplr-lib-ur==2024.2.0 in /usr/local/lib/python3.11/dist-packages (from intel-openmp<2026,>=2024->mkl->numpy<2,>=1.21->matplotlib==3.8.0) (2024.2.0)\r\n",
      "Downloading matplotlib-3.8.0-cp311-cp311-manylinux_2_17_x86_64.manylinux2014_x86_64.whl (11.6 MB)\r\n",
      "\u001b[2K   \u001b[90m━━━━━━━━━━━━━━━━━━━━━━━━━━━━━━━━━━━━━━━━\u001b[0m \u001b[32m11.6/11.6 MB\u001b[0m \u001b[31m95.2 MB/s\u001b[0m eta \u001b[36m0:00:00\u001b[0m\r\n",
      "\u001b[?25hInstalling collected packages: matplotlib\r\n",
      "  Attempting uninstall: matplotlib\r\n",
      "    Found existing installation: matplotlib 3.7.2\r\n",
      "    Uninstalling matplotlib-3.7.2:\r\n",
      "      Successfully uninstalled matplotlib-3.7.2\r\n",
      "\u001b[31mERROR: pip's dependency resolver does not currently take into account all the packages that are installed. This behaviour is the source of the following dependency conflicts.\r\n",
      "bigframes 2.8.0 requires google-cloud-bigquery-storage<3.0.0,>=2.30.0, which is not installed.\r\n",
      "bigframes 2.8.0 requires google-cloud-bigquery[bqstorage,pandas]>=3.31.0, but you have google-cloud-bigquery 3.25.0 which is incompatible.\r\n",
      "bigframes 2.8.0 requires rich<14,>=12.4.4, but you have rich 14.0.0 which is incompatible.\u001b[0m\u001b[31m\r\n",
      "\u001b[0mSuccessfully installed matplotlib-3.8.0\r\n",
      "Note: you may need to restart the kernel to use updated packages.\n"
     ]
    }
   ],
   "source": [
    "pip install matplotlib==3.8.0"
   ]
  },
  {
   "cell_type": "code",
   "execution_count": 5,
   "id": "15fb61b7",
   "metadata": {
    "execution": {
     "iopub.execute_input": "2025-09-23T07:51:17.821748Z",
     "iopub.status.busy": "2025-09-23T07:51:17.821427Z",
     "iopub.status.idle": "2025-09-23T07:51:24.454178Z",
     "shell.execute_reply": "2025-09-23T07:51:24.453340Z"
    },
    "papermill": {
     "duration": 6.64059,
     "end_time": "2025-09-23T07:51:24.455422",
     "exception": false,
     "start_time": "2025-09-23T07:51:17.814832",
     "status": "completed"
    },
    "tags": []
   },
   "outputs": [
    {
     "name": "stdout",
     "output_type": "stream",
     "text": [
      "loading Roboflow workspace...\n",
      "loading Roboflow project...\n"
     ]
    },
    {
     "name": "stderr",
     "output_type": "stream",
     "text": [
      "Downloading Dataset Version Zip in Lung-disease-2 to folder:: 100%|██████████| 256827/256827 [00:03<00:00, 75436.01it/s]"
     ]
    },
    {
     "name": "stdout",
     "output_type": "stream",
     "text": [
      "\n"
     ]
    },
    {
     "name": "stderr",
     "output_type": "stream",
     "text": [
      "\n",
      "Extracting Dataset Version Zip to Lung-disease-2 in folder:: 100%|██████████| 8083/8083 [00:01<00:00, 6755.05it/s]\n"
     ]
    }
   ],
   "source": [
    "from roboflow import Roboflow\n",
    "rf = Roboflow(api_key=\"B5AgQrixtU1h66djOZMm\")\n",
    "project = rf.workspace(\"digihack\").project(\"lung-disease-pbtdg\")\n",
    "version = project.version(2)\n",
    "dataset = version.download(\"folder\") "
   ]
  },
  {
   "cell_type": "code",
   "execution_count": 6,
   "id": "1b2a6f0f",
   "metadata": {
    "execution": {
     "iopub.execute_input": "2025-09-23T07:51:24.473186Z",
     "iopub.status.busy": "2025-09-23T07:51:24.472945Z",
     "iopub.status.idle": "2025-09-23T07:51:27.639068Z",
     "shell.execute_reply": "2025-09-23T07:51:27.638488Z"
    },
    "papermill": {
     "duration": 3.176651,
     "end_time": "2025-09-23T07:51:27.640293",
     "exception": false,
     "start_time": "2025-09-23T07:51:24.463642",
     "status": "completed"
    },
    "tags": []
   },
   "outputs": [
    {
     "name": "stdout",
     "output_type": "stream",
     "text": [
      "loading Roboflow workspace...\n",
      "loading Roboflow project...\n"
     ]
    },
    {
     "name": "stderr",
     "output_type": "stream",
     "text": [
      "Downloading Dataset Version Zip in Lung-Disease-1 to folder:: 100%|██████████| 65096/65096 [00:01<00:00, 61711.42it/s]"
     ]
    },
    {
     "name": "stdout",
     "output_type": "stream",
     "text": [
      "\n"
     ]
    },
    {
     "name": "stderr",
     "output_type": "stream",
     "text": [
      "\n",
      "Extracting Dataset Version Zip to Lung-Disease-1 in folder:: 100%|██████████| 2029/2029 [00:00<00:00, 6866.00it/s]\n"
     ]
    }
   ],
   "source": [
    "from roboflow import Roboflow\n",
    "rf = Roboflow(api_key=\"Q1flzyg1J8Z2OMweLXf3\")\n",
    "project = rf.workspace(\"weapon-mpr3p\").project(\"lung-disease-rybev\")\n",
    "version = project.version(1)\n",
    "dataset2 = version.download(\"folder\")"
   ]
  },
  {
   "cell_type": "code",
   "execution_count": 7,
   "id": "c301107c",
   "metadata": {
    "execution": {
     "iopub.execute_input": "2025-09-23T07:51:27.659067Z",
     "iopub.status.busy": "2025-09-23T07:51:27.658839Z",
     "iopub.status.idle": "2025-09-23T07:51:27.662539Z",
     "shell.execute_reply": "2025-09-23T07:51:27.661812Z"
    },
    "papermill": {
     "duration": 0.014345,
     "end_time": "2025-09-23T07:51:27.663779",
     "exception": false,
     "start_time": "2025-09-23T07:51:27.649434",
     "status": "completed"
    },
    "tags": []
   },
   "outputs": [],
   "source": [
    "train_dir = dataset.location + \"/train\"\n",
    "test_dir = dataset2.location + \"/train\"\n",
    "val_dir = dataset.location + \"/valid\""
   ]
  },
  {
   "cell_type": "code",
   "execution_count": 8,
   "id": "d76fc80b",
   "metadata": {
    "execution": {
     "iopub.execute_input": "2025-09-23T07:51:27.681284Z",
     "iopub.status.busy": "2025-09-23T07:51:27.681082Z",
     "iopub.status.idle": "2025-09-23T07:51:27.684530Z",
     "shell.execute_reply": "2025-09-23T07:51:27.683759Z"
    },
    "papermill": {
     "duration": 0.013459,
     "end_time": "2025-09-23T07:51:27.685719",
     "exception": false,
     "start_time": "2025-09-23T07:51:27.672260",
     "status": "completed"
    },
    "tags": []
   },
   "outputs": [],
   "source": [
    "model_name = 'deit_base_distilled_patch16_224'"
   ]
  },
  {
   "cell_type": "code",
   "execution_count": 9,
   "id": "336988f3",
   "metadata": {
    "execution": {
     "iopub.execute_input": "2025-09-23T07:51:27.703785Z",
     "iopub.status.busy": "2025-09-23T07:51:27.703549Z",
     "iopub.status.idle": "2025-09-23T07:51:30.821611Z",
     "shell.execute_reply": "2025-09-23T07:51:30.820757Z"
    },
    "papermill": {
     "duration": 3.128814,
     "end_time": "2025-09-23T07:51:30.822910",
     "exception": false,
     "start_time": "2025-09-23T07:51:27.694096",
     "status": "completed"
    },
    "tags": []
   },
   "outputs": [
    {
     "data": {
      "application/vnd.jupyter.widget-view+json": {
       "model_id": "8d5bb5a33cc745e29d512ff2f331f3e3",
       "version_major": 2,
       "version_minor": 0
      },
      "text/plain": [
       "model.safetensors:   0%|          | 0.00/349M [00:00<?, ?B/s]"
      ]
     },
     "metadata": {},
     "output_type": "display_data"
    },
    {
     "name": "stdout",
     "output_type": "stream",
     "text": [
      "Model expects input size: (3, 224, 224)\n",
      "Model normalization: mean=(0.485, 0.456, 0.406), std=(0.229, 0.224, 0.225)\n"
     ]
    }
   ],
   "source": [
    "model = timm.create_model(\n",
    "    model_name,\n",
    "    pretrained=True,\n",
    "    num_classes=5,\n",
    ")\n",
    "if torch.cuda.device_count() > 1:\n",
    "    model = nn.DataParallel(model)\n",
    "\n",
    "model = model.train()\n",
    "\n",
    "# Get model specific transforms (normalization, resize)\n",
    "data_config = timm.data.resolve_model_data_config(model)\n",
    "print(f\"Model expects input size: {data_config['input_size']}\")\n",
    "print(f\"Model normalization: mean={data_config['mean']}, std={data_config['std']}\")\n",
    "\n",
    "# Create training and validation transforms\n",
    "train_transform = timm.data.create_transform(**data_config, is_training=True)\n",
    "val_transform = timm.data.create_transform(**data_config, is_training=False)"
   ]
  },
  {
   "cell_type": "code",
   "execution_count": 10,
   "id": "4684bea6",
   "metadata": {
    "execution": {
     "iopub.execute_input": "2025-09-23T07:51:30.841743Z",
     "iopub.status.busy": "2025-09-23T07:51:30.841492Z",
     "iopub.status.idle": "2025-09-23T07:51:30.849176Z",
     "shell.execute_reply": "2025-09-23T07:51:30.848654Z"
    },
    "papermill": {
     "duration": 0.018407,
     "end_time": "2025-09-23T07:51:30.850274",
     "exception": false,
     "start_time": "2025-09-23T07:51:30.831867",
     "status": "completed"
    },
    "tags": []
   },
   "outputs": [],
   "source": [
    "class CustomDataset(Dataset):\n",
    "    def __init__(self, data_dir, transform=None):\n",
    "        self.data_dir = data_dir\n",
    "        self.transform = transform\n",
    "        self.images = []\n",
    "        self.labels = []\n",
    "        \n",
    "        # Get class names and sort them for consistency\n",
    "        self.class_names = sorted(os.listdir(data_dir))\n",
    "        print(f\"Found classes: {self.class_names}\")\n",
    "\n",
    "        for label, class_name in enumerate(self.class_names):\n",
    "            class_dir = os.path.join(data_dir, class_name)\n",
    "            if os.path.isdir(class_dir):  # Only process directories\n",
    "                class_images = [f for f in os.listdir(class_dir) \n",
    "                              if f.lower().endswith(('.png', '.jpg', '.jpeg', '.bmp', '.tiff'))]\n",
    "                print(f\"Class '{class_name}': {len(class_images)} images\")\n",
    "                \n",
    "                for img_name in class_images:\n",
    "                    img_path = os.path.join(class_dir, img_name)\n",
    "                    self.images.append(img_path)\n",
    "                    self.labels.append(label)\n",
    "        \n",
    "        print(f\"Total images loaded: {len(self.images)}\")\n",
    "\n",
    "    def __len__(self):\n",
    "        return len(self.images)\n",
    "\n",
    "    def __getitem__(self, idx):\n",
    "        img_path = self.images[idx]\n",
    "        try:\n",
    "            image = Image.open(img_path).convert('RGB')\n",
    "            label = self.labels[idx]\n",
    "\n",
    "            if self.transform:\n",
    "                image = self.transform(image)\n",
    "\n",
    "            return image, label\n",
    "        except Exception as e:\n",
    "            print(f\"Error loading image {img_path}: {e}\")\n",
    "            # Return a black image if loading fails\n",
    "            if self.transform:\n",
    "                black_image = self.transform(Image.new('RGB', (224, 224), (0, 0, 0)))\n",
    "            else:\n",
    "                black_image = Image.new('RGB', (224, 224), (0, 0, 0))\n",
    "            return black_image, self.labels[idx]\n"
   ]
  },
  {
   "cell_type": "code",
   "execution_count": 11,
   "id": "a3c3b184",
   "metadata": {
    "execution": {
     "iopub.execute_input": "2025-09-23T07:51:30.868300Z",
     "iopub.status.busy": "2025-09-23T07:51:30.868071Z",
     "iopub.status.idle": "2025-09-23T07:51:31.620240Z",
     "shell.execute_reply": "2025-09-23T07:51:31.619521Z"
    },
    "papermill": {
     "duration": 0.765825,
     "end_time": "2025-09-23T07:51:31.624490",
     "exception": false,
     "start_time": "2025-09-23T07:51:30.858665",
     "status": "completed"
    },
    "tags": []
   },
   "outputs": [
    {
     "name": "stdout",
     "output_type": "stream",
     "text": [
      "Found classes: ['Bacterial Pneumonia', 'Corona Virus Disease', 'Normal', 'Tuberculosis', 'Viral Pneumonia']\n",
      "Class 'Bacterial Pneumonia': 1205 images\n",
      "Class 'Corona Virus Disease': 1218 images\n",
      "Class 'Normal': 1207 images\n",
      "Class 'Tuberculosis': 1220 images\n",
      "Class 'Viral Pneumonia': 1204 images\n",
      "Total images loaded: 6054\n",
      "Found classes: ['Bacterial Pneumonia', 'Corona Virus Disease', 'Normal', 'Tuberculosis', 'Viral Pneumonia']\n",
      "Class 'Bacterial Pneumonia': 401 images\n",
      "Class 'Corona Virus Disease': 405 images\n",
      "Class 'Normal': 402 images\n",
      "Class 'Tuberculosis': 406 images\n",
      "Class 'Viral Pneumonia': 401 images\n",
      "Total images loaded: 2015\n",
      "=== Data Loading Test ===\n",
      "Training batches: 189\n",
      "Validation batches: 32\n",
      "✅ Training batch shape: torch.Size([32, 3, 224, 224])\n",
      "✅ Training labels shape: torch.Size([32])\n",
      "✅ Input range: [-2.118, 2.640]\n",
      "✅ Label range: [0, 4]\n",
      "✅ Unique labels in batch: [0, 1, 2, 3, 4]\n"
     ]
    },
    {
     "data": {
      "image/png": "[encoded data removed]",
      "text/plain": [
       "<Figure size 1200x300 with 4 Axes>"
      ]
     },
     "metadata": {},
     "output_type": "display_data"
    },
    {
     "name": "stdout",
     "output_type": "stream",
     "text": [
      "\n",
      "=== Data Loaders Ready ===\n",
      "✅ Your dataset has 5 lung disease classes!\n",
      "✅ Model updated to 5 classes - now everything should work!\n"
     ]
    }
   ],
   "source": [
    "# Quick data diagnostic\n",
    "import matplotlib.pyplot as plt\n",
    "import numpy as np\n",
    "\n",
    "# Create datasets with appropriate transforms\n",
    "train_dataset = CustomDataset(data_dir=train_dir, transform=train_transform)\n",
    "val_dataset = CustomDataset(data_dir=val_dir, transform=val_transform)\n",
    "\n",
    "# Create data loaders with NO workers for Kaggle compatibility\n",
    "train_loader = DataLoader(\n",
    "    train_dataset, \n",
    "    batch_size=32,\n",
    "    shuffle=True, \n",
    "    num_workers=0,  # Set to 0 for Kaggle/Colab compatibility\n",
    "    pin_memory=False,  # Disable pin_memory for stability\n",
    "    drop_last=True\n",
    ")\n",
    "\n",
    "val_loader = DataLoader(\n",
    "    val_dataset, \n",
    "    batch_size=64,\n",
    "    shuffle=False, \n",
    "    num_workers=0,  # Set to 0 for Kaggle/Colab compatibility\n",
    "    pin_memory=False  # Disable pin_memory for stability\n",
    ")\n",
    "\n",
    "print(\"=== Data Loading Test ===\")\n",
    "print(f\"Training batches: {len(train_loader)}\")\n",
    "print(f\"Validation batches: {len(val_loader)}\")\n",
    "\n",
    "# Test data loading and show sample\n",
    "try:\n",
    "    for data in train_loader:\n",
    "        inputs, targets = data\n",
    "        print(f\"✅ Training batch shape: {inputs.shape}\")\n",
    "        print(f\"✅ Training labels shape: {targets.shape}\")\n",
    "        print(f\"✅ Input range: [{inputs.min().item():.3f}, {inputs.max().item():.3f}]\")\n",
    "        print(f\"✅ Label range: [{targets.min().item()}, {targets.max().item()}]\")\n",
    "        print(f\"✅ Unique labels in batch: {torch.unique(targets).tolist()}\")\n",
    "        \n",
    "        # Show a few sample images\n",
    "        fig, axes = plt.subplots(1, 4, figsize=(12, 3))\n",
    "        for i in range(min(4, inputs.shape[0])):\n",
    "            img = inputs[i]\n",
    "            # Denormalize for display\n",
    "            mean = torch.tensor(data_config['mean']).view(3, 1, 1)\n",
    "            std = torch.tensor(data_config['std']).view(3, 1, 1)\n",
    "            img = img * std + mean\n",
    "            img = torch.clamp(img, 0, 1)\n",
    "            \n",
    "            axes[i].imshow(img.permute(1, 2, 0))\n",
    "            axes[i].set_title(f\"Label: {targets[i].item()}\\nClass: {train_dataset.class_names[targets[i].item()]}\")\n",
    "            axes[i].axis('off')\n",
    "        plt.tight_layout()\n",
    "        plt.show()\n",
    "        break\n",
    "        \n",
    "except Exception as e:\n",
    "    print(f\"❌ Error in data loading: {e}\")\n",
    "    print(\"This might be the source of your training issues!\")\n",
    "\n",
    "print(\"\\n=== Data Loaders Ready ===\")\n",
    "print(\"✅ Your dataset has 5 lung disease classes!\")\n",
    "print(\"✅ Model updated to 5 classes - now everything should work!\")"
   ]
  },
  {
   "cell_type": "code",
   "execution_count": 12,
   "id": "ba4b6e2c",
   "metadata": {
    "execution": {
     "iopub.execute_input": "2025-09-23T07:51:31.649915Z",
     "iopub.status.busy": "2025-09-23T07:51:31.649696Z",
     "iopub.status.idle": "2025-09-23T10:43:53.112242Z",
     "shell.execute_reply": "2025-09-23T10:43:53.111486Z"
    },
    "papermill": {
     "duration": 10341.477233,
     "end_time": "2025-09-23T10:43:53.113989",
     "exception": false,
     "start_time": "2025-09-23T07:51:31.636756",
     "status": "completed"
    },
    "tags": []
   },
   "outputs": [
    {
     "name": "stdout",
     "output_type": "stream",
     "text": [
      "=== Dataset Information ===\n",
      "Training samples: 6054\n",
      "Validation samples: 2015\n",
      "Training classes: ['Bacterial Pneumonia', 'Corona Virus Disease', 'Normal', 'Tuberculosis', 'Viral Pneumonia']\n",
      "Validation classes: ['Bacterial Pneumonia', 'Corona Virus Disease', 'Normal', 'Tuberculosis', 'Viral Pneumonia']\n",
      "Training class distribution: {'Bacterial Pneumonia': 1205, 'Corona Virus Disease': 1218, 'Normal': 1207, 'Tuberculosis': 1220, 'Viral Pneumonia': 1204}\n",
      "Validation class distribution: {'Bacterial Pneumonia': 401, 'Corona Virus Disease': 405, 'Normal': 402, 'Tuberculosis': 406, 'Viral Pneumonia': 401}\n",
      "Using device: cuda\n"
     ]
    },
    {
     "name": "stderr",
     "output_type": "stream",
     "text": [
      "The verbose parameter is deprecated. Please use get_last_lr() to access the learning rate.\n"
     ]
    },
    {
     "name": "stdout",
     "output_type": "stream",
     "text": [
      "Class weights: tensor([1.0048, 0.9941, 1.0031, 0.9925, 1.0056], device='cuda:0')\n",
      "\n",
      "=== Starting Training ===\n"
     ]
    },
    {
     "name": "stderr",
     "output_type": "stream",
     "text": [
      "Epoch [1/100] Training: 100%|██████████| 189/189 [02:58<00:00,  1.06it/s, loss=0.2736, acc=75.3%]\n"
     ]
    },
    {
     "name": "stdout",
     "output_type": "stream",
     "text": [
      "Epoch [1/100] Training:\n",
      "  Loss: 0.5874, Accuracy: 75.35%, F1: 0.7527\n"
     ]
    },
    {
     "name": "stderr",
     "output_type": "stream",
     "text": [
      "Epoch [1/100] Validation: 100%|██████████| 32/32 [00:30<00:00,  1.06it/s, loss=0.9903, acc=85.4%]\n"
     ]
    },
    {
     "name": "stdout",
     "output_type": "stream",
     "text": [
      "Epoch [1/100] Validation:\n",
      "  Loss: 0.3812, Accuracy: 85.36%, F1: 0.8510\n",
      "  ✅ Best model saved! Val Loss: 0.3812\n",
      "  Learning Rate: 1.00e-04\n",
      "------------------------------------------------------------\n"
     ]
    },
    {
     "name": "stderr",
     "output_type": "stream",
     "text": [
      "Epoch [2/100] Training: 100%|██████████| 189/189 [03:00<00:00,  1.05it/s, loss=0.4073, acc=81.6%]\n"
     ]
    },
    {
     "name": "stdout",
     "output_type": "stream",
     "text": [
      "Epoch [2/100] Training:\n",
      "  Loss: 0.4322, Accuracy: 81.60%, F1: 0.8146\n"
     ]
    },
    {
     "name": "stderr",
     "output_type": "stream",
     "text": [
      "Epoch [2/100] Validation: 100%|██████████| 32/32 [00:29<00:00,  1.07it/s, loss=0.8726, acc=86.6%]\n"
     ]
    },
    {
     "name": "stdout",
     "output_type": "stream",
     "text": [
      "Epoch [2/100] Validation:\n",
      "  Loss: 0.3304, Accuracy: 86.55%, F1: 0.8633\n",
      "  ✅ Best model saved! Val Loss: 0.3304\n",
      "  Learning Rate: 1.00e-04\n",
      "------------------------------------------------------------\n"
     ]
    },
    {
     "name": "stderr",
     "output_type": "stream",
     "text": [
      "Epoch [3/100] Training: 100%|██████████| 189/189 [03:00<00:00,  1.04it/s, loss=0.3574, acc=84.1%]\n"
     ]
    },
    {
     "name": "stdout",
     "output_type": "stream",
     "text": [
      "Epoch [3/100] Training:\n",
      "  Loss: 0.3798, Accuracy: 84.13%, F1: 0.8399\n"
     ]
    },
    {
     "name": "stderr",
     "output_type": "stream",
     "text": [
      "Epoch [3/100] Validation: 100%|██████████| 32/32 [00:30<00:00,  1.06it/s, loss=0.7026, acc=88.3%]\n"
     ]
    },
    {
     "name": "stdout",
     "output_type": "stream",
     "text": [
      "Epoch [3/100] Validation:\n",
      "  Loss: 0.3087, Accuracy: 88.29%, F1: 0.8827\n",
      "  ✅ Best model saved! Val Loss: 0.3087\n",
      "  Learning Rate: 1.00e-04\n",
      "------------------------------------------------------------\n"
     ]
    },
    {
     "name": "stderr",
     "output_type": "stream",
     "text": [
      "Epoch [4/100] Training: 100%|██████████| 189/189 [03:01<00:00,  1.04it/s, loss=0.5445, acc=84.9%]\n"
     ]
    },
    {
     "name": "stdout",
     "output_type": "stream",
     "text": [
      "Epoch [4/100] Training:\n",
      "  Loss: 0.3658, Accuracy: 84.87%, F1: 0.8477\n"
     ]
    },
    {
     "name": "stderr",
     "output_type": "stream",
     "text": [
      "Epoch [4/100] Validation: 100%|██████████| 32/32 [00:29<00:00,  1.07it/s, loss=0.3673, acc=85.9%]\n"
     ]
    },
    {
     "name": "stdout",
     "output_type": "stream",
     "text": [
      "Epoch [4/100] Validation:\n",
      "  Loss: 0.3426, Accuracy: 85.91%, F1: 0.8601\n",
      "  Learning Rate: 1.00e-04\n",
      "------------------------------------------------------------\n"
     ]
    },
    {
     "name": "stderr",
     "output_type": "stream",
     "text": [
      "Epoch [5/100] Training: 100%|██████████| 189/189 [03:00<00:00,  1.04it/s, loss=0.3852, acc=86.0%]\n"
     ]
    },
    {
     "name": "stdout",
     "output_type": "stream",
     "text": [
      "Epoch [5/100] Training:\n",
      "  Loss: 0.3425, Accuracy: 86.03%, F1: 0.8596\n"
     ]
    },
    {
     "name": "stderr",
     "output_type": "stream",
     "text": [
      "Epoch [5/100] Validation: 100%|██████████| 32/32 [00:29<00:00,  1.08it/s, loss=0.5896, acc=85.8%]\n"
     ]
    },
    {
     "name": "stdout",
     "output_type": "stream",
     "text": [
      "Epoch [5/100] Validation:\n",
      "  Loss: 0.3532, Accuracy: 85.76%, F1: 0.8543\n",
      "  Learning Rate: 1.00e-04\n",
      "------------------------------------------------------------\n"
     ]
    },
    {
     "name": "stderr",
     "output_type": "stream",
     "text": [
      "Epoch [6/100] Training: 100%|██████████| 189/189 [03:01<00:00,  1.04it/s, loss=0.3662, acc=86.0%]\n"
     ]
    },
    {
     "name": "stdout",
     "output_type": "stream",
     "text": [
      "Epoch [6/100] Training:\n",
      "  Loss: 0.3307, Accuracy: 86.03%, F1: 0.8596\n"
     ]
    },
    {
     "name": "stderr",
     "output_type": "stream",
     "text": [
      "Epoch [6/100] Validation: 100%|██████████| 32/32 [00:30<00:00,  1.06it/s, loss=0.6210, acc=88.1%]\n"
     ]
    },
    {
     "name": "stdout",
     "output_type": "stream",
     "text": [
      "Epoch [6/100] Validation:\n",
      "  Loss: 0.2869, Accuracy: 88.14%, F1: 0.8819\n",
      "  ✅ Best model saved! Val Loss: 0.2869\n",
      "  Learning Rate: 1.00e-04\n",
      "------------------------------------------------------------\n"
     ]
    },
    {
     "name": "stderr",
     "output_type": "stream",
     "text": [
      "Epoch [7/100] Training: 100%|██████████| 189/189 [03:01<00:00,  1.04it/s, loss=0.1781, acc=87.5%]\n"
     ]
    },
    {
     "name": "stdout",
     "output_type": "stream",
     "text": [
      "Epoch [7/100] Training:\n",
      "  Loss: 0.3058, Accuracy: 87.52%, F1: 0.8749\n"
     ]
    },
    {
     "name": "stderr",
     "output_type": "stream",
     "text": [
      "Epoch [7/100] Validation: 100%|██████████| 32/32 [00:30<00:00,  1.06it/s, loss=1.2150, acc=89.5%]\n"
     ]
    },
    {
     "name": "stdout",
     "output_type": "stream",
     "text": [
      "Epoch [7/100] Validation:\n",
      "  Loss: 0.2825, Accuracy: 89.48%, F1: 0.8918\n",
      "  ✅ Best model saved! Val Loss: 0.2825\n",
      "  Learning Rate: 1.00e-04\n",
      "------------------------------------------------------------\n"
     ]
    },
    {
     "name": "stderr",
     "output_type": "stream",
     "text": [
      "Epoch [8/100] Training: 100%|██████████| 189/189 [03:01<00:00,  1.04it/s, loss=0.1893, acc=87.8%]\n"
     ]
    },
    {
     "name": "stdout",
     "output_type": "stream",
     "text": [
      "Epoch [8/100] Training:\n",
      "  Loss: 0.3012, Accuracy: 87.85%, F1: 0.8780\n"
     ]
    },
    {
     "name": "stderr",
     "output_type": "stream",
     "text": [
      "Epoch [8/100] Validation: 100%|██████████| 32/32 [00:29<00:00,  1.08it/s, loss=0.5545, acc=88.7%]\n"
     ]
    },
    {
     "name": "stdout",
     "output_type": "stream",
     "text": [
      "Epoch [8/100] Validation:\n",
      "  Loss: 0.2788, Accuracy: 88.73%, F1: 0.8882\n",
      "  ✅ Best model saved! Val Loss: 0.2788\n",
      "  Learning Rate: 1.00e-04\n",
      "------------------------------------------------------------\n"
     ]
    },
    {
     "name": "stderr",
     "output_type": "stream",
     "text": [
      "Epoch [9/100] Training: 100%|██████████| 189/189 [03:00<00:00,  1.05it/s, loss=0.1640, acc=88.2%]\n"
     ]
    },
    {
     "name": "stdout",
     "output_type": "stream",
     "text": [
      "Epoch [9/100] Training:\n",
      "  Loss: 0.2919, Accuracy: 88.24%, F1: 0.8821\n"
     ]
    },
    {
     "name": "stderr",
     "output_type": "stream",
     "text": [
      "Epoch [9/100] Validation: 100%|██████████| 32/32 [00:30<00:00,  1.06it/s, loss=0.6431, acc=88.5%]\n"
     ]
    },
    {
     "name": "stdout",
     "output_type": "stream",
     "text": [
      "Epoch [9/100] Validation:\n",
      "  Loss: 0.2885, Accuracy: 88.49%, F1: 0.8836\n",
      "  Learning Rate: 1.00e-04\n",
      "------------------------------------------------------------\n"
     ]
    },
    {
     "name": "stderr",
     "output_type": "stream",
     "text": [
      "Epoch [10/100] Training: 100%|██████████| 189/189 [03:00<00:00,  1.05it/s, loss=0.2050, acc=88.7%]\n"
     ]
    },
    {
     "name": "stdout",
     "output_type": "stream",
     "text": [
      "Epoch [10/100] Training:\n",
      "  Loss: 0.2774, Accuracy: 88.72%, F1: 0.8870\n"
     ]
    },
    {
     "name": "stderr",
     "output_type": "stream",
     "text": [
      "Epoch [10/100] Validation: 100%|██████████| 32/32 [00:30<00:00,  1.06it/s, loss=1.1107, acc=87.6%]\n"
     ]
    },
    {
     "name": "stdout",
     "output_type": "stream",
     "text": [
      "Epoch [10/100] Validation:\n",
      "  Loss: 0.3738, Accuracy: 87.59%, F1: 0.8727\n",
      "  Learning Rate: 1.00e-04\n",
      "------------------------------------------------------------\n"
     ]
    },
    {
     "name": "stderr",
     "output_type": "stream",
     "text": [
      "Epoch [11/100] Training: 100%|██████████| 189/189 [03:00<00:00,  1.05it/s, loss=0.2092, acc=89.5%]\n"
     ]
    },
    {
     "name": "stdout",
     "output_type": "stream",
     "text": [
      "Epoch [11/100] Training:\n",
      "  Loss: 0.2668, Accuracy: 89.47%, F1: 0.8944\n"
     ]
    },
    {
     "name": "stderr",
     "output_type": "stream",
     "text": [
      "Epoch [11/100] Validation: 100%|██████████| 32/32 [00:30<00:00,  1.06it/s, loss=1.1741, acc=88.2%]\n"
     ]
    },
    {
     "name": "stdout",
     "output_type": "stream",
     "text": [
      "Epoch [11/100] Validation:\n",
      "  Loss: 0.3290, Accuracy: 88.24%, F1: 0.8784\n",
      "  Learning Rate: 1.00e-04\n",
      "------------------------------------------------------------\n"
     ]
    },
    {
     "name": "stderr",
     "output_type": "stream",
     "text": [
      "Epoch [12/100] Training: 100%|██████████| 189/189 [03:00<00:00,  1.05it/s, loss=0.1385, acc=89.5%]\n"
     ]
    },
    {
     "name": "stdout",
     "output_type": "stream",
     "text": [
      "Epoch [12/100] Training:\n",
      "  Loss: 0.2651, Accuracy: 89.53%, F1: 0.8951\n"
     ]
    },
    {
     "name": "stderr",
     "output_type": "stream",
     "text": [
      "Epoch [12/100] Validation: 100%|██████████| 32/32 [00:29<00:00,  1.07it/s, loss=0.5875, acc=88.9%]\n"
     ]
    },
    {
     "name": "stdout",
     "output_type": "stream",
     "text": [
      "Epoch [12/100] Validation:\n",
      "  Loss: 0.3137, Accuracy: 88.88%, F1: 0.8890\n",
      "  Learning Rate: 5.00e-05\n",
      "------------------------------------------------------------\n"
     ]
    },
    {
     "name": "stderr",
     "output_type": "stream",
     "text": [
      "Epoch [13/100] Training: 100%|██████████| 189/189 [03:00<00:00,  1.04it/s, loss=0.1942, acc=91.7%]\n"
     ]
    },
    {
     "name": "stdout",
     "output_type": "stream",
     "text": [
      "Epoch [13/100] Training:\n",
      "  Loss: 0.2129, Accuracy: 91.68%, F1: 0.9165\n"
     ]
    },
    {
     "name": "stderr",
     "output_type": "stream",
     "text": [
      "Epoch [13/100] Validation: 100%|██████████| 32/32 [00:30<00:00,  1.07it/s, loss=0.7361, acc=90.9%]\n"
     ]
    },
    {
     "name": "stdout",
     "output_type": "stream",
     "text": [
      "Epoch [13/100] Validation:\n",
      "  Loss: 0.2460, Accuracy: 90.92%, F1: 0.9088\n",
      "  ✅ Best model saved! Val Loss: 0.2460\n",
      "  Learning Rate: 5.00e-05\n",
      "------------------------------------------------------------\n"
     ]
    },
    {
     "name": "stderr",
     "output_type": "stream",
     "text": [
      "Epoch [14/100] Training: 100%|██████████| 189/189 [03:00<00:00,  1.05it/s, loss=0.4038, acc=91.8%]\n"
     ]
    },
    {
     "name": "stdout",
     "output_type": "stream",
     "text": [
      "Epoch [14/100] Training:\n",
      "  Loss: 0.2028, Accuracy: 91.83%, F1: 0.9181\n"
     ]
    },
    {
     "name": "stderr",
     "output_type": "stream",
     "text": [
      "Epoch [14/100] Validation: 100%|██████████| 32/32 [00:29<00:00,  1.07it/s, loss=1.1833, acc=90.6%]\n"
     ]
    },
    {
     "name": "stdout",
     "output_type": "stream",
     "text": [
      "Epoch [14/100] Validation:\n",
      "  Loss: 0.2902, Accuracy: 90.62%, F1: 0.9052\n",
      "  Learning Rate: 5.00e-05\n",
      "------------------------------------------------------------\n"
     ]
    },
    {
     "name": "stderr",
     "output_type": "stream",
     "text": [
      "Epoch [15/100] Training: 100%|██████████| 189/189 [03:00<00:00,  1.05it/s, loss=0.1861, acc=92.6%]\n"
     ]
    },
    {
     "name": "stdout",
     "output_type": "stream",
     "text": [
      "Epoch [15/100] Training:\n",
      "  Loss: 0.1851, Accuracy: 92.58%, F1: 0.9254\n"
     ]
    },
    {
     "name": "stderr",
     "output_type": "stream",
     "text": [
      "Epoch [15/100] Validation: 100%|██████████| 32/32 [00:30<00:00,  1.06it/s, loss=0.7816, acc=91.4%]\n"
     ]
    },
    {
     "name": "stdout",
     "output_type": "stream",
     "text": [
      "Epoch [15/100] Validation:\n",
      "  Loss: 0.2658, Accuracy: 91.36%, F1: 0.9134\n",
      "  Learning Rate: 5.00e-05\n",
      "------------------------------------------------------------\n"
     ]
    },
    {
     "name": "stderr",
     "output_type": "stream",
     "text": [
      "Epoch [16/100] Training: 100%|██████████| 189/189 [03:01<00:00,  1.04it/s, loss=0.0555, acc=93.2%]\n"
     ]
    },
    {
     "name": "stdout",
     "output_type": "stream",
     "text": [
      "Epoch [16/100] Training:\n",
      "  Loss: 0.1755, Accuracy: 93.15%, F1: 0.9313\n"
     ]
    },
    {
     "name": "stderr",
     "output_type": "stream",
     "text": [
      "Epoch [16/100] Validation: 100%|██████████| 32/32 [00:29<00:00,  1.07it/s, loss=1.0165, acc=89.6%]\n"
     ]
    },
    {
     "name": "stdout",
     "output_type": "stream",
     "text": [
      "Epoch [16/100] Validation:\n",
      "  Loss: 0.3484, Accuracy: 89.58%, F1: 0.8933\n",
      "  Learning Rate: 5.00e-05\n",
      "------------------------------------------------------------\n"
     ]
    },
    {
     "name": "stderr",
     "output_type": "stream",
     "text": [
      "Epoch [17/100] Training: 100%|██████████| 189/189 [03:01<00:00,  1.04it/s, loss=0.2247, acc=93.4%]\n"
     ]
    },
    {
     "name": "stdout",
     "output_type": "stream",
     "text": [
      "Epoch [17/100] Training:\n",
      "  Loss: 0.1735, Accuracy: 93.42%, F1: 0.9342\n"
     ]
    },
    {
     "name": "stderr",
     "output_type": "stream",
     "text": [
      "Epoch [17/100] Validation: 100%|██████████| 32/32 [00:30<00:00,  1.06it/s, loss=1.4491, acc=90.4%]\n"
     ]
    },
    {
     "name": "stdout",
     "output_type": "stream",
     "text": [
      "Epoch [17/100] Validation:\n",
      "  Loss: 0.3238, Accuracy: 90.37%, F1: 0.8996\n",
      "  Learning Rate: 2.50e-05\n",
      "------------------------------------------------------------\n"
     ]
    },
    {
     "name": "stderr",
     "output_type": "stream",
     "text": [
      "Epoch [18/100] Training: 100%|██████████| 189/189 [03:01<00:00,  1.04it/s, loss=0.1888, acc=94.8%]\n"
     ]
    },
    {
     "name": "stdout",
     "output_type": "stream",
     "text": [
      "Epoch [18/100] Training:\n",
      "  Loss: 0.1415, Accuracy: 94.78%, F1: 0.9477\n"
     ]
    },
    {
     "name": "stderr",
     "output_type": "stream",
     "text": [
      "Epoch [18/100] Validation: 100%|██████████| 32/32 [00:29<00:00,  1.08it/s, loss=0.6263, acc=91.6%]\n"
     ]
    },
    {
     "name": "stdout",
     "output_type": "stream",
     "text": [
      "Epoch [18/100] Validation:\n",
      "  Loss: 0.2781, Accuracy: 91.61%, F1: 0.9155\n",
      "  Learning Rate: 2.50e-05\n",
      "------------------------------------------------------------\n"
     ]
    },
    {
     "name": "stderr",
     "output_type": "stream",
     "text": [
      "Epoch [19/100] Training: 100%|██████████| 189/189 [03:00<00:00,  1.05it/s, loss=0.0675, acc=94.9%]\n"
     ]
    },
    {
     "name": "stdout",
     "output_type": "stream",
     "text": [
      "Epoch [19/100] Training:\n",
      "  Loss: 0.1372, Accuracy: 94.92%, F1: 0.9491\n"
     ]
    },
    {
     "name": "stderr",
     "output_type": "stream",
     "text": [
      "Epoch [19/100] Validation: 100%|██████████| 32/32 [00:30<00:00,  1.06it/s, loss=1.1316, acc=92.3%]\n"
     ]
    },
    {
     "name": "stdout",
     "output_type": "stream",
     "text": [
      "Epoch [19/100] Validation:\n",
      "  Loss: 0.2695, Accuracy: 92.26%, F1: 0.9215\n",
      "  Learning Rate: 2.50e-05\n",
      "------------------------------------------------------------\n"
     ]
    },
    {
     "name": "stderr",
     "output_type": "stream",
     "text": [
      "Epoch [20/100] Training: 100%|██████████| 189/189 [03:00<00:00,  1.04it/s, loss=0.0741, acc=95.6%]\n"
     ]
    },
    {
     "name": "stdout",
     "output_type": "stream",
     "text": [
      "Epoch [20/100] Training:\n",
      "  Loss: 0.1175, Accuracy: 95.60%, F1: 0.9560\n"
     ]
    },
    {
     "name": "stderr",
     "output_type": "stream",
     "text": [
      "Epoch [20/100] Validation: 100%|██████████| 32/32 [00:30<00:00,  1.06it/s, loss=0.6518, acc=91.8%]\n"
     ]
    },
    {
     "name": "stdout",
     "output_type": "stream",
     "text": [
      "Epoch [20/100] Validation:\n",
      "  Loss: 0.3229, Accuracy: 91.81%, F1: 0.9171\n",
      "  Learning Rate: 2.50e-05\n",
      "------------------------------------------------------------\n"
     ]
    },
    {
     "name": "stderr",
     "output_type": "stream",
     "text": [
      "Epoch [21/100] Training: 100%|██████████| 189/189 [03:00<00:00,  1.05it/s, loss=0.0654, acc=95.7%]\n"
     ]
    },
    {
     "name": "stdout",
     "output_type": "stream",
     "text": [
      "Epoch [21/100] Training:\n",
      "  Loss: 0.1195, Accuracy: 95.73%, F1: 0.9573\n"
     ]
    },
    {
     "name": "stderr",
     "output_type": "stream",
     "text": [
      "Epoch [21/100] Validation: 100%|██████████| 32/32 [00:30<00:00,  1.06it/s, loss=1.3185, acc=92.0%]\n"
     ]
    },
    {
     "name": "stdout",
     "output_type": "stream",
     "text": [
      "Epoch [21/100] Validation:\n",
      "  Loss: 0.3210, Accuracy: 91.96%, F1: 0.9176\n",
      "  Learning Rate: 1.25e-05\n",
      "------------------------------------------------------------\n"
     ]
    },
    {
     "name": "stderr",
     "output_type": "stream",
     "text": [
      "Epoch [22/100] Training: 100%|██████████| 189/189 [03:00<00:00,  1.04it/s, loss=0.1036, acc=95.9%]\n"
     ]
    },
    {
     "name": "stdout",
     "output_type": "stream",
     "text": [
      "Epoch [22/100] Training:\n",
      "  Loss: 0.1041, Accuracy: 95.93%, F1: 0.9593\n"
     ]
    },
    {
     "name": "stderr",
     "output_type": "stream",
     "text": [
      "Epoch [22/100] Validation: 100%|██████████| 32/32 [00:30<00:00,  1.06it/s, loss=1.1453, acc=92.6%]\n"
     ]
    },
    {
     "name": "stdout",
     "output_type": "stream",
     "text": [
      "Epoch [22/100] Validation:\n",
      "  Loss: 0.2955, Accuracy: 92.61%, F1: 0.9252\n",
      "  Learning Rate: 1.25e-05\n",
      "------------------------------------------------------------\n"
     ]
    },
    {
     "name": "stderr",
     "output_type": "stream",
     "text": [
      "Epoch [23/100] Training: 100%|██████████| 189/189 [03:00<00:00,  1.05it/s, loss=0.0245, acc=95.8%]\n"
     ]
    },
    {
     "name": "stdout",
     "output_type": "stream",
     "text": [
      "Epoch [23/100] Training:\n",
      "  Loss: 0.1137, Accuracy: 95.78%, F1: 0.9578\n"
     ]
    },
    {
     "name": "stderr",
     "output_type": "stream",
     "text": [
      "Epoch [23/100] Validation: 100%|██████████| 32/32 [00:29<00:00,  1.08it/s, loss=1.0158, acc=92.7%]\n"
     ]
    },
    {
     "name": "stdout",
     "output_type": "stream",
     "text": [
      "Epoch [23/100] Validation:\n",
      "  Loss: 0.2828, Accuracy: 92.70%, F1: 0.9267\n",
      "  Learning Rate: 1.25e-05\n",
      "------------------------------------------------------------\n"
     ]
    },
    {
     "name": "stderr",
     "output_type": "stream",
     "text": [
      "Epoch [24/100] Training: 100%|██████████| 189/189 [03:01<00:00,  1.04it/s, loss=0.0998, acc=96.1%]\n"
     ]
    },
    {
     "name": "stdout",
     "output_type": "stream",
     "text": [
      "Epoch [24/100] Training:\n",
      "  Loss: 0.1018, Accuracy: 96.13%, F1: 0.9612\n"
     ]
    },
    {
     "name": "stderr",
     "output_type": "stream",
     "text": [
      "Epoch [24/100] Validation: 100%|██████████| 32/32 [00:29<00:00,  1.07it/s, loss=1.1395, acc=92.3%]\n"
     ]
    },
    {
     "name": "stdout",
     "output_type": "stream",
     "text": [
      "Epoch [24/100] Validation:\n",
      "  Loss: 0.2869, Accuracy: 92.26%, F1: 0.9218\n",
      "  Learning Rate: 1.25e-05\n",
      "------------------------------------------------------------\n"
     ]
    },
    {
     "name": "stderr",
     "output_type": "stream",
     "text": [
      "Epoch [25/100] Training: 100%|██████████| 189/189 [03:01<00:00,  1.04it/s, loss=0.1677, acc=96.6%]\n"
     ]
    },
    {
     "name": "stdout",
     "output_type": "stream",
     "text": [
      "Epoch [25/100] Training:\n",
      "  Loss: 0.0969, Accuracy: 96.64%, F1: 0.9664\n"
     ]
    },
    {
     "name": "stderr",
     "output_type": "stream",
     "text": [
      "Epoch [25/100] Validation: 100%|██████████| 32/32 [00:30<00:00,  1.06it/s, loss=1.0088, acc=92.7%]\n"
     ]
    },
    {
     "name": "stdout",
     "output_type": "stream",
     "text": [
      "Epoch [25/100] Validation:\n",
      "  Loss: 0.2933, Accuracy: 92.70%, F1: 0.9265\n",
      "  Learning Rate: 6.25e-06\n",
      "------------------------------------------------------------\n"
     ]
    },
    {
     "name": "stderr",
     "output_type": "stream",
     "text": [
      "Epoch [26/100] Training: 100%|██████████| 189/189 [03:00<00:00,  1.04it/s, loss=0.1107, acc=96.9%]\n"
     ]
    },
    {
     "name": "stdout",
     "output_type": "stream",
     "text": [
      "Epoch [26/100] Training:\n",
      "  Loss: 0.0878, Accuracy: 96.86%, F1: 0.9686\n"
     ]
    },
    {
     "name": "stderr",
     "output_type": "stream",
     "text": [
      "Epoch [26/100] Validation: 100%|██████████| 32/32 [00:29<00:00,  1.07it/s, loss=1.3380, acc=92.6%]\n"
     ]
    },
    {
     "name": "stdout",
     "output_type": "stream",
     "text": [
      "Epoch [26/100] Validation:\n",
      "  Loss: 0.3140, Accuracy: 92.61%, F1: 0.9252\n",
      "  Learning Rate: 6.25e-06\n",
      "------------------------------------------------------------\n"
     ]
    },
    {
     "name": "stderr",
     "output_type": "stream",
     "text": [
      "Epoch [27/100] Training: 100%|██████████| 189/189 [03:00<00:00,  1.05it/s, loss=0.1298, acc=97.0%]\n"
     ]
    },
    {
     "name": "stdout",
     "output_type": "stream",
     "text": [
      "Epoch [27/100] Training:\n",
      "  Loss: 0.0837, Accuracy: 96.96%, F1: 0.9696\n"
     ]
    },
    {
     "name": "stderr",
     "output_type": "stream",
     "text": [
      "Epoch [27/100] Validation: 100%|██████████| 32/32 [00:30<00:00,  1.07it/s, loss=1.1029, acc=92.8%]\n"
     ]
    },
    {
     "name": "stdout",
     "output_type": "stream",
     "text": [
      "Epoch [27/100] Validation:\n",
      "  Loss: 0.3031, Accuracy: 92.75%, F1: 0.9271\n",
      "  Learning Rate: 6.25e-06\n",
      "------------------------------------------------------------\n"
     ]
    },
    {
     "name": "stderr",
     "output_type": "stream",
     "text": [
      "Epoch [28/100] Training: 100%|██████████| 189/189 [03:00<00:00,  1.05it/s, loss=0.2987, acc=96.9%]\n"
     ]
    },
    {
     "name": "stdout",
     "output_type": "stream",
     "text": [
      "Epoch [28/100] Training:\n",
      "  Loss: 0.0883, Accuracy: 96.94%, F1: 0.9694\n"
     ]
    },
    {
     "name": "stderr",
     "output_type": "stream",
     "text": [
      "Epoch [28/100] Validation: 100%|██████████| 32/32 [00:30<00:00,  1.06it/s, loss=1.3471, acc=92.6%]\n"
     ]
    },
    {
     "name": "stdout",
     "output_type": "stream",
     "text": [
      "Epoch [28/100] Validation:\n",
      "  Loss: 0.3095, Accuracy: 92.61%, F1: 0.9252\n",
      "  Learning Rate: 6.25e-06\n",
      "------------------------------------------------------------\n"
     ]
    },
    {
     "name": "stderr",
     "output_type": "stream",
     "text": [
      "Epoch [29/100] Training: 100%|██████████| 189/189 [03:00<00:00,  1.05it/s, loss=0.2200, acc=97.1%]\n"
     ]
    },
    {
     "name": "stdout",
     "output_type": "stream",
     "text": [
      "Epoch [29/100] Training:\n",
      "  Loss: 0.0733, Accuracy: 97.09%, F1: 0.9709\n"
     ]
    },
    {
     "name": "stderr",
     "output_type": "stream",
     "text": [
      "Epoch [29/100] Validation: 100%|██████████| 32/32 [00:30<00:00,  1.07it/s, loss=1.6178, acc=92.3%]\n"
     ]
    },
    {
     "name": "stdout",
     "output_type": "stream",
     "text": [
      "Epoch [29/100] Validation:\n",
      "  Loss: 0.3290, Accuracy: 92.31%, F1: 0.9222\n",
      "  Learning Rate: 3.13e-06\n",
      "------------------------------------------------------------\n"
     ]
    },
    {
     "name": "stderr",
     "output_type": "stream",
     "text": [
      "Epoch [30/100] Training: 100%|██████████| 189/189 [03:00<00:00,  1.05it/s, loss=0.0467, acc=97.1%]\n"
     ]
    },
    {
     "name": "stdout",
     "output_type": "stream",
     "text": [
      "Epoch [30/100] Training:\n",
      "  Loss: 0.0792, Accuracy: 97.12%, F1: 0.9712\n"
     ]
    },
    {
     "name": "stderr",
     "output_type": "stream",
     "text": [
      "Epoch [30/100] Validation: 100%|██████████| 32/32 [00:30<00:00,  1.06it/s, loss=1.2267, acc=92.6%]\n"
     ]
    },
    {
     "name": "stdout",
     "output_type": "stream",
     "text": [
      "Epoch [30/100] Validation:\n",
      "  Loss: 0.3146, Accuracy: 92.56%, F1: 0.9248\n",
      "  Learning Rate: 3.13e-06\n",
      "------------------------------------------------------------\n"
     ]
    },
    {
     "name": "stderr",
     "output_type": "stream",
     "text": [
      "Epoch [31/100] Training: 100%|██████████| 189/189 [03:00<00:00,  1.05it/s, loss=0.0077, acc=97.4%]\n"
     ]
    },
    {
     "name": "stdout",
     "output_type": "stream",
     "text": [
      "Epoch [31/100] Training:\n",
      "  Loss: 0.0753, Accuracy: 97.37%, F1: 0.9737\n"
     ]
    },
    {
     "name": "stderr",
     "output_type": "stream",
     "text": [
      "Epoch [31/100] Validation: 100%|██████████| 32/32 [00:30<00:00,  1.05it/s, loss=1.3546, acc=92.9%]\n"
     ]
    },
    {
     "name": "stdout",
     "output_type": "stream",
     "text": [
      "Epoch [31/100] Validation:\n",
      "  Loss: 0.3181, Accuracy: 92.85%, F1: 0.9280\n",
      "  Learning Rate: 3.13e-06\n",
      "------------------------------------------------------------\n"
     ]
    },
    {
     "name": "stderr",
     "output_type": "stream",
     "text": [
      "Epoch [32/100] Training: 100%|██████████| 189/189 [03:00<00:00,  1.04it/s, loss=0.0209, acc=97.1%]\n"
     ]
    },
    {
     "name": "stdout",
     "output_type": "stream",
     "text": [
      "Epoch [32/100] Training:\n",
      "  Loss: 0.0784, Accuracy: 97.12%, F1: 0.9712\n"
     ]
    },
    {
     "name": "stderr",
     "output_type": "stream",
     "text": [
      "Epoch [32/100] Validation: 100%|██████████| 32/32 [00:30<00:00,  1.06it/s, loss=1.2837, acc=92.9%]\n"
     ]
    },
    {
     "name": "stdout",
     "output_type": "stream",
     "text": [
      "Epoch [32/100] Validation:\n",
      "  Loss: 0.3118, Accuracy: 92.85%, F1: 0.9278\n",
      "  Learning Rate: 3.13e-06\n",
      "------------------------------------------------------------\n"
     ]
    },
    {
     "name": "stderr",
     "output_type": "stream",
     "text": [
      "Epoch [33/100] Training: 100%|██████████| 189/189 [03:01<00:00,  1.04it/s, loss=0.1161, acc=97.4%]\n"
     ]
    },
    {
     "name": "stdout",
     "output_type": "stream",
     "text": [
      "Epoch [33/100] Training:\n",
      "  Loss: 0.0683, Accuracy: 97.39%, F1: 0.9739\n"
     ]
    },
    {
     "name": "stderr",
     "output_type": "stream",
     "text": [
      "Epoch [33/100] Validation: 100%|██████████| 32/32 [00:29<00:00,  1.07it/s, loss=1.2990, acc=92.4%]\n"
     ]
    },
    {
     "name": "stdout",
     "output_type": "stream",
     "text": [
      "Epoch [33/100] Validation:\n",
      "  Loss: 0.3247, Accuracy: 92.41%, F1: 0.9231\n",
      "  Learning Rate: 1.56e-06\n",
      "------------------------------------------------------------\n"
     ]
    },
    {
     "name": "stderr",
     "output_type": "stream",
     "text": [
      "Epoch [34/100] Training: 100%|██████████| 189/189 [03:01<00:00,  1.04it/s, loss=0.0523, acc=97.4%]\n"
     ]
    },
    {
     "name": "stdout",
     "output_type": "stream",
     "text": [
      "Epoch [34/100] Training:\n",
      "  Loss: 0.0683, Accuracy: 97.44%, F1: 0.9743\n"
     ]
    },
    {
     "name": "stderr",
     "output_type": "stream",
     "text": [
      "Epoch [34/100] Validation: 100%|██████████| 32/32 [00:30<00:00,  1.06it/s, loss=1.3171, acc=92.6%]\n"
     ]
    },
    {
     "name": "stdout",
     "output_type": "stream",
     "text": [
      "Epoch [34/100] Validation:\n",
      "  Loss: 0.3243, Accuracy: 92.56%, F1: 0.9247\n",
      "  Learning Rate: 1.56e-06\n",
      "------------------------------------------------------------\n"
     ]
    },
    {
     "name": "stderr",
     "output_type": "stream",
     "text": [
      "Epoch [35/100] Training: 100%|██████████| 189/189 [03:00<00:00,  1.05it/s, loss=0.0053, acc=97.1%]\n"
     ]
    },
    {
     "name": "stdout",
     "output_type": "stream",
     "text": [
      "Epoch [35/100] Training:\n",
      "  Loss: 0.0823, Accuracy: 97.11%, F1: 0.9710\n"
     ]
    },
    {
     "name": "stderr",
     "output_type": "stream",
     "text": [
      "Epoch [35/100] Validation: 100%|██████████| 32/32 [00:29<00:00,  1.08it/s, loss=1.2955, acc=92.7%]\n"
     ]
    },
    {
     "name": "stdout",
     "output_type": "stream",
     "text": [
      "Epoch [35/100] Validation:\n",
      "  Loss: 0.3173, Accuracy: 92.66%, F1: 0.9256\n",
      "  Learning Rate: 1.56e-06\n",
      "------------------------------------------------------------\n"
     ]
    },
    {
     "name": "stderr",
     "output_type": "stream",
     "text": [
      "Epoch [36/100] Training: 100%|██████████| 189/189 [03:00<00:00,  1.04it/s, loss=0.1086, acc=97.6%]\n"
     ]
    },
    {
     "name": "stdout",
     "output_type": "stream",
     "text": [
      "Epoch [36/100] Training:\n",
      "  Loss: 0.0670, Accuracy: 97.62%, F1: 0.9762\n"
     ]
    },
    {
     "name": "stderr",
     "output_type": "stream",
     "text": [
      "Epoch [36/100] Validation: 100%|██████████| 32/32 [00:29<00:00,  1.08it/s, loss=1.2937, acc=92.5%]\n"
     ]
    },
    {
     "name": "stdout",
     "output_type": "stream",
     "text": [
      "Epoch [36/100] Validation:\n",
      "  Loss: 0.3169, Accuracy: 92.51%, F1: 0.9241\n",
      "  Learning Rate: 1.56e-06\n",
      "------------------------------------------------------------\n"
     ]
    },
    {
     "name": "stderr",
     "output_type": "stream",
     "text": [
      "Epoch [37/100] Training: 100%|██████████| 189/189 [03:01<00:00,  1.04it/s, loss=0.1291, acc=97.1%]\n"
     ]
    },
    {
     "name": "stdout",
     "output_type": "stream",
     "text": [
      "Epoch [37/100] Training:\n",
      "  Loss: 0.0769, Accuracy: 97.12%, F1: 0.9712\n"
     ]
    },
    {
     "name": "stderr",
     "output_type": "stream",
     "text": [
      "Epoch [37/100] Validation: 100%|██████████| 32/32 [00:29<00:00,  1.07it/s, loss=1.3350, acc=92.4%]\n"
     ]
    },
    {
     "name": "stdout",
     "output_type": "stream",
     "text": [
      "Epoch [37/100] Validation:\n",
      "  Loss: 0.3227, Accuracy: 92.41%, F1: 0.9231\n",
      "  Learning Rate: 7.81e-07\n",
      "------------------------------------------------------------\n"
     ]
    },
    {
     "name": "stderr",
     "output_type": "stream",
     "text": [
      "Epoch [38/100] Training: 100%|██████████| 189/189 [03:01<00:00,  1.04it/s, loss=0.0959, acc=97.3%]\n"
     ]
    },
    {
     "name": "stdout",
     "output_type": "stream",
     "text": [
      "Epoch [38/100] Training:\n",
      "  Loss: 0.0749, Accuracy: 97.26%, F1: 0.9725\n"
     ]
    },
    {
     "name": "stderr",
     "output_type": "stream",
     "text": [
      "Epoch [38/100] Validation: 100%|██████████| 32/32 [00:30<00:00,  1.05it/s, loss=1.3191, acc=92.6%]\n"
     ]
    },
    {
     "name": "stdout",
     "output_type": "stream",
     "text": [
      "Epoch [38/100] Validation:\n",
      "  Loss: 0.3208, Accuracy: 92.56%, F1: 0.9247\n",
      "  Learning Rate: 7.81e-07\n",
      "------------------------------------------------------------\n"
     ]
    },
    {
     "name": "stderr",
     "output_type": "stream",
     "text": [
      "Epoch [39/100] Training: 100%|██████████| 189/189 [03:00<00:00,  1.04it/s, loss=0.0427, acc=97.3%]\n"
     ]
    },
    {
     "name": "stdout",
     "output_type": "stream",
     "text": [
      "Epoch [39/100] Training:\n",
      "  Loss: 0.0752, Accuracy: 97.32%, F1: 0.9732\n"
     ]
    },
    {
     "name": "stderr",
     "output_type": "stream",
     "text": [
      "Epoch [39/100] Validation: 100%|██████████| 32/32 [00:30<00:00,  1.06it/s, loss=1.3218, acc=92.6%]\n"
     ]
    },
    {
     "name": "stdout",
     "output_type": "stream",
     "text": [
      "Epoch [39/100] Validation:\n",
      "  Loss: 0.3196, Accuracy: 92.56%, F1: 0.9246\n",
      "  Learning Rate: 7.81e-07\n",
      "------------------------------------------------------------\n"
     ]
    },
    {
     "name": "stderr",
     "output_type": "stream",
     "text": [
      "Epoch [40/100] Training: 100%|██████████| 189/189 [03:01<00:00,  1.04it/s, loss=0.0228, acc=97.4%]\n"
     ]
    },
    {
     "name": "stdout",
     "output_type": "stream",
     "text": [
      "Epoch [40/100] Training:\n",
      "  Loss: 0.0738, Accuracy: 97.40%, F1: 0.9740\n"
     ]
    },
    {
     "name": "stderr",
     "output_type": "stream",
     "text": [
      "Epoch [40/100] Validation: 100%|██████████| 32/32 [00:29<00:00,  1.07it/s, loss=1.3899, acc=92.6%]\n"
     ]
    },
    {
     "name": "stdout",
     "output_type": "stream",
     "text": [
      "Epoch [40/100] Validation:\n",
      "  Loss: 0.3260, Accuracy: 92.56%, F1: 0.9245\n",
      "  Learning Rate: 7.81e-07\n",
      "------------------------------------------------------------\n"
     ]
    },
    {
     "name": "stderr",
     "output_type": "stream",
     "text": [
      "Epoch [41/100] Training: 100%|██████████| 189/189 [03:01<00:00,  1.04it/s, loss=0.0093, acc=97.5%]\n"
     ]
    },
    {
     "name": "stdout",
     "output_type": "stream",
     "text": [
      "Epoch [41/100] Training:\n",
      "  Loss: 0.0701, Accuracy: 97.54%, F1: 0.9753\n"
     ]
    },
    {
     "name": "stderr",
     "output_type": "stream",
     "text": [
      "Epoch [41/100] Validation: 100%|██████████| 32/32 [00:29<00:00,  1.07it/s, loss=1.3516, acc=92.8%]\n"
     ]
    },
    {
     "name": "stdout",
     "output_type": "stream",
     "text": [
      "Epoch [41/100] Validation:\n",
      "  Loss: 0.3221, Accuracy: 92.75%, F1: 0.9267\n",
      "  Learning Rate: 3.91e-07\n",
      "------------------------------------------------------------\n"
     ]
    },
    {
     "name": "stderr",
     "output_type": "stream",
     "text": [
      "Epoch [42/100] Training: 100%|██████████| 189/189 [03:00<00:00,  1.05it/s, loss=0.0024, acc=97.4%]\n"
     ]
    },
    {
     "name": "stdout",
     "output_type": "stream",
     "text": [
      "Epoch [42/100] Training:\n",
      "  Loss: 0.0684, Accuracy: 97.40%, F1: 0.9740\n"
     ]
    },
    {
     "name": "stderr",
     "output_type": "stream",
     "text": [
      "Epoch [42/100] Validation: 100%|██████████| 32/32 [00:30<00:00,  1.05it/s, loss=1.2739, acc=92.8%]\n"
     ]
    },
    {
     "name": "stdout",
     "output_type": "stream",
     "text": [
      "Epoch [42/100] Validation:\n",
      "  Loss: 0.3187, Accuracy: 92.80%, F1: 0.9273\n",
      "  Learning Rate: 3.91e-07\n",
      "------------------------------------------------------------\n"
     ]
    },
    {
     "name": "stderr",
     "output_type": "stream",
     "text": [
      "Epoch [43/100] Training: 100%|██████████| 189/189 [03:00<00:00,  1.05it/s, loss=0.0048, acc=97.6%]\n"
     ]
    },
    {
     "name": "stdout",
     "output_type": "stream",
     "text": [
      "Epoch [43/100] Training:\n",
      "  Loss: 0.0664, Accuracy: 97.64%, F1: 0.9763\n"
     ]
    },
    {
     "name": "stderr",
     "output_type": "stream",
     "text": [
      "Epoch [43/100] Validation: 100%|██████████| 32/32 [00:30<00:00,  1.06it/s, loss=1.3012, acc=92.9%]\n"
     ]
    },
    {
     "name": "stdout",
     "output_type": "stream",
     "text": [
      "Epoch [43/100] Validation:\n",
      "  Loss: 0.3202, Accuracy: 92.85%, F1: 0.9278\n",
      "  Learning Rate: 3.91e-07\n",
      "------------------------------------------------------------\n"
     ]
    },
    {
     "name": "stderr",
     "output_type": "stream",
     "text": [
      "Epoch [44/100] Training: 100%|██████████| 189/189 [03:01<00:00,  1.04it/s, loss=0.0337, acc=97.4%]\n"
     ]
    },
    {
     "name": "stdout",
     "output_type": "stream",
     "text": [
      "Epoch [44/100] Training:\n",
      "  Loss: 0.0691, Accuracy: 97.37%, F1: 0.9737\n"
     ]
    },
    {
     "name": "stderr",
     "output_type": "stream",
     "text": [
      "Epoch [44/100] Validation: 100%|██████████| 32/32 [00:30<00:00,  1.06it/s, loss=1.3214, acc=92.9%]\n"
     ]
    },
    {
     "name": "stdout",
     "output_type": "stream",
     "text": [
      "Epoch [44/100] Validation:\n",
      "  Loss: 0.3221, Accuracy: 92.85%, F1: 0.9277\n",
      "  Learning Rate: 3.91e-07\n",
      "------------------------------------------------------------\n"
     ]
    },
    {
     "name": "stderr",
     "output_type": "stream",
     "text": [
      "Epoch [45/100] Training: 100%|██████████| 189/189 [03:00<00:00,  1.05it/s, loss=0.0140, acc=97.6%]\n"
     ]
    },
    {
     "name": "stdout",
     "output_type": "stream",
     "text": [
      "Epoch [45/100] Training:\n",
      "  Loss: 0.0669, Accuracy: 97.57%, F1: 0.9757\n"
     ]
    },
    {
     "name": "stderr",
     "output_type": "stream",
     "text": [
      "Epoch [45/100] Validation: 100%|██████████| 32/32 [00:29<00:00,  1.07it/s, loss=1.3184, acc=92.8%]\n"
     ]
    },
    {
     "name": "stdout",
     "output_type": "stream",
     "text": [
      "Epoch [45/100] Validation:\n",
      "  Loss: 0.3228, Accuracy: 92.80%, F1: 0.9272\n",
      "  Learning Rate: 1.95e-07\n",
      "------------------------------------------------------------\n"
     ]
    },
    {
     "name": "stderr",
     "output_type": "stream",
     "text": [
      "Epoch [46/100] Training: 100%|██████████| 189/189 [03:00<00:00,  1.05it/s, loss=0.0562, acc=97.8%]\n"
     ]
    },
    {
     "name": "stdout",
     "output_type": "stream",
     "text": [
      "Epoch [46/100] Training:\n",
      "  Loss: 0.0614, Accuracy: 97.82%, F1: 0.9781\n"
     ]
    },
    {
     "name": "stderr",
     "output_type": "stream",
     "text": [
      "Epoch [46/100] Validation: 100%|██████████| 32/32 [00:30<00:00,  1.06it/s, loss=1.3107, acc=92.8%]\n"
     ]
    },
    {
     "name": "stdout",
     "output_type": "stream",
     "text": [
      "Epoch [46/100] Validation:\n",
      "  Loss: 0.3230, Accuracy: 92.80%, F1: 0.9272\n",
      "  Learning Rate: 1.95e-07\n",
      "------------------------------------------------------------\n"
     ]
    },
    {
     "name": "stderr",
     "output_type": "stream",
     "text": [
      "Epoch [47/100] Training: 100%|██████████| 189/189 [03:00<00:00,  1.05it/s, loss=0.0039, acc=97.3%]\n"
     ]
    },
    {
     "name": "stdout",
     "output_type": "stream",
     "text": [
      "Epoch [47/100] Training:\n",
      "  Loss: 0.0733, Accuracy: 97.32%, F1: 0.9732\n"
     ]
    },
    {
     "name": "stderr",
     "output_type": "stream",
     "text": [
      "Epoch [47/100] Validation: 100%|██████████| 32/32 [00:30<00:00,  1.06it/s, loss=1.3478, acc=93.0%]\n"
     ]
    },
    {
     "name": "stdout",
     "output_type": "stream",
     "text": [
      "Epoch [47/100] Validation:\n",
      "  Loss: 0.3240, Accuracy: 92.95%, F1: 0.9287\n",
      "  Learning Rate: 1.95e-07\n",
      "------------------------------------------------------------\n"
     ]
    },
    {
     "name": "stderr",
     "output_type": "stream",
     "text": [
      "Epoch [48/100] Training: 100%|██████████| 189/189 [03:01<00:00,  1.04it/s, loss=0.0296, acc=97.7%]\n"
     ]
    },
    {
     "name": "stdout",
     "output_type": "stream",
     "text": [
      "Epoch [48/100] Training:\n",
      "  Loss: 0.0633, Accuracy: 97.65%, F1: 0.9765\n"
     ]
    },
    {
     "name": "stderr",
     "output_type": "stream",
     "text": [
      "Epoch [48/100] Validation: 100%|██████████| 32/32 [00:30<00:00,  1.06it/s, loss=1.3528, acc=92.8%]\n"
     ]
    },
    {
     "name": "stdout",
     "output_type": "stream",
     "text": [
      "Epoch [48/100] Validation:\n",
      "  Loss: 0.3246, Accuracy: 92.80%, F1: 0.9272\n",
      "  Learning Rate: 1.95e-07\n",
      "------------------------------------------------------------\n"
     ]
    },
    {
     "name": "stderr",
     "output_type": "stream",
     "text": [
      "Epoch [49/100] Training: 100%|██████████| 189/189 [03:01<00:00,  1.04it/s, loss=0.0443, acc=97.7%]\n"
     ]
    },
    {
     "name": "stdout",
     "output_type": "stream",
     "text": [
      "Epoch [49/100] Training:\n",
      "  Loss: 0.0630, Accuracy: 97.67%, F1: 0.9767\n"
     ]
    },
    {
     "name": "stderr",
     "output_type": "stream",
     "text": [
      "Epoch [49/100] Validation: 100%|██████████| 32/32 [00:30<00:00,  1.06it/s, loss=1.3494, acc=92.9%]\n"
     ]
    },
    {
     "name": "stdout",
     "output_type": "stream",
     "text": [
      "Epoch [49/100] Validation:\n",
      "  Loss: 0.3251, Accuracy: 92.90%, F1: 0.9282\n",
      "  Learning Rate: 9.77e-08\n",
      "------------------------------------------------------------\n",
      "Learning rate too small, stopping training.\n"
     ]
    },
    {
     "data": {
      "image/png": "[encoded data removed]",
      "text/plain": [
       "<Figure size 1200x400 with 2 Axes>"
      ]
     },
     "metadata": {},
     "output_type": "display_data"
    },
    {
     "name": "stdout",
     "output_type": "stream",
     "text": [
      "\n",
      "=== Training Complete ===\n",
      "Best validation loss: 0.2460\n",
      "Final training accuracy: 97.67%\n",
      "Final validation accuracy: 92.90%\n"
     ]
    }
   ],
   "source": [
    "import torch\n",
    "import torch.nn as nn\n",
    "import torch.optim as optim\n",
    "from tqdm import tqdm\n",
    "from sklearn.metrics import precision_recall_fscore_support\n",
    "import matplotlib.pyplot as plt\n",
    "\n",
    "# Check data distribution first\n",
    "print(\"=== Dataset Information ===\")\n",
    "print(f\"Training samples: {len(train_dataset)}\")\n",
    "print(f\"Validation samples: {len(val_dataset)}\")\n",
    "print(f\"Training classes: {train_dataset.class_names}\")\n",
    "print(f\"Validation classes: {val_dataset.class_names}\")\n",
    "\n",
    "# Count class distribution\n",
    "train_class_counts = {}\n",
    "for label in train_dataset.labels:\n",
    "    class_name = train_dataset.class_names[label]\n",
    "    train_class_counts[class_name] = train_class_counts.get(class_name, 0) + 1\n",
    "print(f\"Training class distribution: {train_class_counts}\")\n",
    "\n",
    "val_class_counts = {}\n",
    "for label in val_dataset.labels:\n",
    "    class_name = val_dataset.class_names[label]\n",
    "    val_class_counts[class_name] = val_class_counts.get(class_name, 0) + 1\n",
    "print(f\"Validation class distribution: {val_class_counts}\")\n",
    "\n",
    "# Setup device and model\n",
    "device = torch.device(\"cuda\" if torch.cuda.is_available() else \"cpu\")\n",
    "print(f\"Using device: {device}\")\n",
    "\n",
    "# Move model to device and ensure it's in training mode\n",
    "model.to(device)\n",
    "model.train()\n",
    "\n",
    "# Define loss function with class weights for imbalanced data\n",
    "total_train = len(train_dataset)\n",
    "class_weights = []\n",
    "for class_name in train_dataset.class_names:\n",
    "    class_count = train_class_counts.get(class_name, 1)\n",
    "    weight = total_train / (len(train_dataset.class_names) * class_count)\n",
    "    class_weights.append(weight)\n",
    "\n",
    "class_weights = torch.FloatTensor(class_weights).to(device)\n",
    "print(f\"Class weights: {class_weights}\")\n",
    "\n",
    "criterion = nn.CrossEntropyLoss(weight=class_weights)\n",
    "\n",
    "# Optimizer with lower learning rate\n",
    "optimizer = optim.AdamW(model.parameters(), lr=1e-4, weight_decay=0.01)\n",
    "\n",
    "# Learning rate scheduler\n",
    "scheduler = optim.lr_scheduler.ReduceLROnPlateau(\n",
    "    optimizer, mode='min', factor=0.5, patience=3, verbose=True\n",
    ")\n",
    "\n",
    "# Training parameters\n",
    "num_epochs = 100\n",
    "best_val_loss = float('inf')\n",
    "save_path = \"./best_model.pth\"\n",
    "\n",
    "# Lists to store training history\n",
    "train_losses = []\n",
    "val_losses = []\n",
    "train_accuracies = []\n",
    "val_accuracies = []\n",
    "\n",
    "print(\"\\n=== Starting Training ===\")\n",
    "\n",
    "for epoch in range(num_epochs):\n",
    "    # ====================================================================\n",
    "    #                            TRAINING LOOP\n",
    "    # ====================================================================\n",
    "    model.train()\n",
    "    epoch_loss = 0\n",
    "    correct_predictions = 0\n",
    "    total_samples = 0\n",
    "    all_targets = []\n",
    "    all_preds = []\n",
    "    \n",
    "    progress_bar = tqdm(train_loader, desc=f\"Epoch [{epoch+1}/{num_epochs}] Training\")\n",
    "    \n",
    "    for batch_idx, (inputs, targets) in enumerate(progress_bar):\n",
    "        inputs, targets = inputs.to(device), targets.to(device)\n",
    "        \n",
    "        # Zero gradients\n",
    "        optimizer.zero_grad()\n",
    "        \n",
    "        # Forward pass\n",
    "        outputs = model(inputs)\n",
    "        loss = criterion(outputs, targets)\n",
    "        \n",
    "        # Backward pass\n",
    "        loss.backward()\n",
    "        \n",
    "        # Gradient clipping to prevent exploding gradients\n",
    "        torch.nn.utils.clip_grad_norm_(model.parameters(), max_norm=1.0)\n",
    "        \n",
    "        # Update weights\n",
    "        optimizer.step()\n",
    "        \n",
    "        # Statistics\n",
    "        _, predicted = torch.max(outputs.data, 1)\n",
    "        total_samples += targets.size(0)\n",
    "        correct_predictions += (predicted == targets).sum().item()\n",
    "        \n",
    "        all_preds.extend(predicted.cpu().numpy())\n",
    "        all_targets.extend(targets.cpu().numpy())\n",
    "        \n",
    "        epoch_loss += loss.item()\n",
    "        \n",
    "        # Update progress bar\n",
    "        current_acc = 100.0 * correct_predictions / total_samples\n",
    "        progress_bar.set_postfix({\n",
    "            'loss': f'{loss.item():.4f}',\n",
    "            'acc': f'{current_acc:.1f}%'\n",
    "        })\n",
    "    \n",
    "    # Calculate training metrics\n",
    "    avg_train_loss = epoch_loss / len(train_loader)\n",
    "    train_accuracy = 100.0 * correct_predictions / total_samples\n",
    "    precision, recall, f1, _ = precision_recall_fscore_support(\n",
    "        all_targets, all_preds, average='weighted', zero_division=0\n",
    "    )\n",
    "    \n",
    "    train_losses.append(avg_train_loss)\n",
    "    train_accuracies.append(train_accuracy)\n",
    "    \n",
    "    print(f\"Epoch [{epoch+1}/{num_epochs}] Training:\")\n",
    "    print(f\"  Loss: {avg_train_loss:.4f}, Accuracy: {train_accuracy:.2f}%, F1: {f1:.4f}\")\n",
    "    \n",
    "    # ====================================================================\n",
    "    #                           VALIDATION LOOP\n",
    "    # ====================================================================\n",
    "    model.eval()\n",
    "    val_loss = 0\n",
    "    val_correct = 0\n",
    "    val_total = 0\n",
    "    all_val_targets = []\n",
    "    all_val_preds = []\n",
    "    \n",
    "    with torch.no_grad():\n",
    "        val_progress_bar = tqdm(val_loader, desc=f\"Epoch [{epoch+1}/{num_epochs}] Validation\")\n",
    "        for inputs, targets in val_progress_bar:\n",
    "            inputs, targets = inputs.to(device), targets.to(device)\n",
    "            \n",
    "            outputs = model(inputs)\n",
    "            loss = criterion(outputs, targets)\n",
    "            \n",
    "            val_loss += loss.item()\n",
    "            _, predicted = torch.max(outputs.data, 1)\n",
    "            val_total += targets.size(0)\n",
    "            val_correct += (predicted == targets).sum().item()\n",
    "            \n",
    "            all_val_preds.extend(predicted.cpu().numpy())\n",
    "            all_val_targets.extend(targets.cpu().numpy())\n",
    "            \n",
    "            # Update progress bar\n",
    "            current_val_acc = 100.0 * val_correct / val_total\n",
    "            val_progress_bar.set_postfix({\n",
    "                'loss': f'{loss.item():.4f}',\n",
    "                'acc': f'{current_val_acc:.1f}%'\n",
    "            })\n",
    "    \n",
    "    # Calculate validation metrics\n",
    "    avg_val_loss = val_loss / len(val_loader)\n",
    "    val_accuracy = 100.0 * val_correct / val_total\n",
    "    val_precision, val_recall, val_f1, _ = precision_recall_fscore_support(\n",
    "        all_val_targets, all_val_preds, average='weighted', zero_division=0\n",
    "    )\n",
    "    \n",
    "    val_losses.append(avg_val_loss)\n",
    "    val_accuracies.append(val_accuracy)\n",
    "    \n",
    "    print(f\"Epoch [{epoch+1}/{num_epochs}] Validation:\")\n",
    "    print(f\"  Loss: {avg_val_loss:.4f}, Accuracy: {val_accuracy:.2f}%, F1: {val_f1:.4f}\")\n",
    "    \n",
    "    # Save best model\n",
    "    if avg_val_loss < best_val_loss:\n",
    "        best_val_loss = avg_val_loss\n",
    "        torch.save(model.state_dict(), save_path)\n",
    "        print(f\"  ✅ Best model saved! Val Loss: {best_val_loss:.4f}\")\n",
    "    \n",
    "    # Learning rate scheduling\n",
    "    scheduler.step(avg_val_loss)\n",
    "    current_lr = optimizer.param_groups[0]['lr']\n",
    "    print(f\"  Learning Rate: {current_lr:.2e}\")\n",
    "    print(\"-\" * 60)\n",
    "    \n",
    "    # Early stopping if learning rate gets too small\n",
    "    if current_lr < 1e-7:\n",
    "        print(\"Learning rate too small, stopping training.\")\n",
    "        break\n",
    "\n",
    "# Save final model\n",
    "torch.save(model.state_dict(), \"./last_model.pth\")\n",
    "\n",
    "# Plot training history\n",
    "plt.figure(figsize=(12, 4))\n",
    "\n",
    "plt.subplot(1, 2, 1)\n",
    "plt.plot(train_losses, label='Training Loss', marker='o')\n",
    "plt.plot(val_losses, label='Validation Loss', marker='s')\n",
    "plt.title('Training and Validation Loss')\n",
    "plt.xlabel('Epoch')\n",
    "plt.ylabel('Loss')\n",
    "plt.legend()\n",
    "plt.grid(True)\n",
    "\n",
    "plt.subplot(1, 2, 2)\n",
    "plt.plot(train_accuracies, label='Training Accuracy', marker='o')\n",
    "plt.plot(val_accuracies, label='Validation Accuracy', marker='s')\n",
    "plt.title('Training and Validation Accuracy')\n",
    "plt.xlabel('Epoch')\n",
    "plt.ylabel('Accuracy (%)')\n",
    "plt.legend()\n",
    "plt.grid(True)\n",
    "\n",
    "plt.tight_layout()\n",
    "plt.savefig('training_history.png', dpi=150, bbox_inches='tight')\n",
    "plt.show()\n",
    "\n",
    "print(f\"\\n=== Training Complete ===\")\n",
    "print(f\"Best validation loss: {best_val_loss:.4f}\")\n",
    "print(f\"Final training accuracy: {train_accuracies[-1]:.2f}%\")\n",
    "print(f\"Final validation accuracy: {val_accuracies[-1]:.2f}%\")"
   ]
  },
  {
   "cell_type": "code",
   "execution_count": 13,
   "id": "45e9ef52",
   "metadata": {
    "execution": {
     "iopub.execute_input": "2025-09-23T10:43:55.101640Z",
     "iopub.status.busy": "2025-09-23T10:43:55.101156Z",
     "iopub.status.idle": "2025-09-23T10:44:24.530317Z",
     "shell.execute_reply": "2025-09-23T10:44:24.529403Z"
    },
    "papermill": {
     "duration": 30.386053,
     "end_time": "2025-09-23T10:44:24.531702",
     "exception": false,
     "start_time": "2025-09-23T10:43:54.145649",
     "status": "completed"
    },
    "tags": []
   },
   "outputs": [
    {
     "name": "stdout",
     "output_type": "stream",
     "text": [
      "✅ Loaded best_model.pth successfully.\n",
      "✅ Predictions saved to test_predictions.csv\n"
     ]
    }
   ],
   "source": [
    "import csv\n",
    "import os\n",
    "import torch\n",
    "import torch.nn as nn\n",
    "from torch.utils.data import DataLoader\n",
    "from torchvision.datasets import ImageFolder\n",
    "import timm\n",
    "\n",
    "# ==============================\n",
    "# CUSTOM DATASET WITH PATHS\n",
    "# ==============================\n",
    "class ImageFolderWithPaths(ImageFolder):\n",
    "    \"\"\"Custom dataset that includes image file paths.\"\"\"\n",
    "    def __getitem__(self, index):\n",
    "        # Normal ImageFolder return (img, label)\n",
    "        original_tuple = super().__getitem__(index)\n",
    "        path = self.samples[index][0]  # file path\n",
    "        return original_tuple + (path,)  # (img, label, path)\n",
    "\n",
    "# ==============================\n",
    "# DATASET & LOADER\n",
    "# ==============================\n",
    "transform = transforms.Compose([\n",
    "    transforms.Resize((224,224)),\n",
    "    transforms.ToTensor(),\n",
    "    transforms.Normalize(mean=[0.485, 0.456, 0.406],\n",
    "                         std=[0.229, 0.224, 0.225])\n",
    "])\n",
    "\n",
    "test_dataset = ImageFolderWithPaths(root=test_dir, transform=transform)\n",
    "test_loader = DataLoader(test_dataset, batch_size=32, shuffle=False)\n",
    "\n",
    "# ==============================\n",
    "# DEVICE\n",
    "# ==============================\n",
    "device = torch.device(\"cuda\" if torch.cuda.is_available() else \"cpu\")\n",
    "\n",
    "# ==============================\n",
    "# MODEL\n",
    "# ==============================\n",
    "model = timm.create_model(\n",
    "    model_name,\n",
    "    pretrained=True,\n",
    "    num_classes=5,\n",
    ")\n",
    "\n",
    "if torch.cuda.device_count() > 1:\n",
    "    model = nn.DataParallel(model)\n",
    "\n",
    "model.to(device)\n",
    "\n",
    "# ==============================\n",
    "# LOAD BEST MODEL\n",
    "# ==============================\n",
    "state_dict = torch.load(\"./best_model.pth\", map_location=device)\n",
    "model.load_state_dict(state_dict)\n",
    "#if isinstance(model, nn.DataParallel):\n",
    "#    model.module.load_state_dict(state_dict)\n",
    "#else:\n",
    "#    model.load_state_dict(state_dict)\n",
    "\n",
    "model.eval()\n",
    "print(\"✅ Loaded best_model.pth successfully.\")\n",
    "\n",
    "# ==============================\n",
    "# PREDICTION LOOP\n",
    "# ==============================\n",
    "results = []\n",
    "\n",
    "with torch.no_grad():\n",
    "    for inputs, _, paths in test_loader:\n",
    "        inputs = inputs.to(device)\n",
    "        outputs = model(inputs)\n",
    "        _, preds = torch.max(outputs, dim=1)\n",
    "\n",
    "        for path, pred in zip(paths, preds.cpu().numpy()):\n",
    "            filename = os.path.basename(path)\n",
    "\n",
    "            # ✅ Clean up Roboflow suffix like \".rf.xxxxx\"\n",
    "            if \".rf.\" in filename:\n",
    "                filename = filename.split(\".rf.\")[0]\n",
    "\n",
    "            results.append([filename, pred])\n",
    "\n",
    "# ==============================\n",
    "# SAVE CSV\n",
    "# ==============================\n",
    "csv_file = \"test_predictions.csv\"\n",
    "with open(csv_file, mode=\"w\", newline=\"\") as f:\n",
    "    writer = csv.writer(f)\n",
    "    writer.writerow([\"Id\", \"Predicted\"])  # header\n",
    "    writer.writerows(results)\n",
    "\n",
    "print(f\"✅ Predictions saved to {csv_file}\")\n"
   ]
  },
  {
   "cell_type": "code",
   "execution_count": null,
   "id": "401950ea",
   "metadata": {
    "papermill": {
     "duration": 1.081585,
     "end_time": "2025-09-23T10:44:26.643101",
     "exception": false,
     "start_time": "2025-09-23T10:44:25.561516",
     "status": "completed"
    },
    "tags": []
   },
   "outputs": [],
   "source": []
  }
 ],
 "metadata": {
  "kaggle": {
   "accelerator": "nvidiaTeslaT4",
   "dataSources": [],
   "dockerImageVersionId": 31090,
   "isGpuEnabled": true,
   "isInternetEnabled": true,
   "language": "python",
   "sourceType": "notebook"
  },
  "kernelspec": {
   "display_name": "Python 3",
   "language": "python",
   "name": "python3"
  },
  "language_info": {
   "codemirror_mode": {
    "name": "ipython",
    "version": 3
   },
   "file_extension": ".py",
   "mimetype": "text/x-python",
   "name": "python",
   "nbconvert_exporter": "python",
   "pygments_lexer": "ipython3",
   "version": "3.11.13"
  },
  "papermill": {
   "default_parameters": {},
   "duration": 10449.561053,
   "end_time": "2025-09-23T10:44:30.792779",
   "environment_variables": {},
   "exception": null,
   "input_path": "__notebook__.ipynb",
   "output_path": "__notebook__.ipynb",
   "parameters": {},
   "start_time": "2025-09-23T07:50:21.231726",
   "version": "2.6.0"
  },
  "widgets": {
   "application/vnd.jupyter.widget-state+json": {
    "state": {
     "05966c3013e24381a7b6940f89ab4315": {
      "model_module": "@jupyter-widgets/base",
      "model_module_version": "2.0.0",
      "model_name": "LayoutModel",
      "state": {
       "_model_module": "@jupyter-widgets/base",
       "_model_module_version": "2.0.0",
       "_model_name": "LayoutModel",
       "_view_count": null,
       "_view_module": "@jupyter-widgets/base",
       "_view_module_version": "2.0.0",
       "_view_name": "LayoutView",
       "align_content": null,
       "align_items": null,
       "align_self": null,
       "border_bottom": null,
       "border_left": null,
       "border_right": null,
       "border_top": null,
       "bottom": null,
       "display": null,
       "flex": null,
       "flex_flow": null,
       "grid_area": null,
       "grid_auto_columns": null,
       "grid_auto_flow": null,
       "grid_auto_rows": null,
       "grid_column": null,
       "grid_gap": null,
       "grid_row": null,
       "grid_template_areas": null,
       "grid_template_columns": null,
       "grid_template_rows": null,
       "height": null,
       "justify_content": null,
       "justify_items": null,
       "left": null,
       "margin": null,
       "max_height": null,
       "max_width": null,
       "min_height": null,
       "min_width": null,
       "object_fit": null,
       "object_position": null,
       "order": null,
       "overflow": null,
       "padding": null,
       "right": null,
       "top": null,
       "visibility": null,
       "width": null
      }
     },
     "174dd0ed835d463aa594e3942659293e": {
      "model_module": "@jupyter-widgets/controls",
      "model_module_version": "2.0.0",
      "model_name": "HTMLStyleModel",
      "state": {
       "_model_module": "@jupyter-widgets/controls",
       "_model_module_version": "2.0.0",
       "_model_name": "HTMLStyleModel",
       "_view_count": null,
       "_view_module": "@jupyter-widgets/base",
       "_view_module_version": "2.0.0",
       "_view_name": "StyleView",
       "background": null,
       "description_width": "",
       "font_size": null,
       "text_color": null
      }
     },
     "68d4f49a6a2d4ceeb1a2e7c7486c7c09": {
      "model_module": "@jupyter-widgets/controls",
      "model_module_version": "2.0.0",
      "model_name": "HTMLStyleModel",
      "state": {
       "_model_module": "@jupyter-widgets/controls",
       "_model_module_version": "2.0.0",
       "_model_name": "HTMLStyleModel",
       "_view_count": null,
       "_view_module": "@jupyter-widgets/base",
       "_view_module_version": "2.0.0",
       "_view_name": "StyleView",
       "background": null,
       "description_width": "",
       "font_size": null,
       "text_color": null
      }
     },
     "6dc86ceb4cce4a1eab39b8f10679ee2e": {
      "model_module": "@jupyter-widgets/controls",
      "model_module_version": "2.0.0",
      "model_name": "ProgressStyleModel",
      "state": {
       "_model_module": "@jupyter-widgets/controls",
       "_model_module_version": "2.0.0",
       "_model_name": "ProgressStyleModel",
       "_view_count": null,
       "_view_module": "@jupyter-widgets/base",
       "_view_module_version": "2.0.0",
       "_view_name": "StyleView",
       "bar_color": null,
       "description_width": ""
      }
     },
     "73e66845904a4f739d1300a401be4475": {
      "model_module": "@jupyter-widgets/base",
      "model_module_version": "2.0.0",
      "model_name": "LayoutModel",
      "state": {
       "_model_module": "@jupyter-widgets/base",
       "_model_module_version": "2.0.0",
       "_model_name": "LayoutModel",
       "_view_count": null,
       "_view_module": "@jupyter-widgets/base",
       "_view_module_version": "2.0.0",
       "_view_name": "LayoutView",
       "align_content": null,
       "align_items": null,
       "align_self": null,
       "border_bottom": null,
       "border_left": null,
       "border_right": null,
       "border_top": null,
       "bottom": null,
       "display": null,
       "flex": null,
       "flex_flow": null,
       "grid_area": null,
       "grid_auto_columns": null,
       "grid_auto_flow": null,
       "grid_auto_rows": null,
       "grid_column": null,
       "grid_gap": null,
       "grid_row": null,
       "grid_template_areas": null,
       "grid_template_columns": null,
       "grid_template_rows": null,
       "height": null,
       "justify_content": null,
       "justify_items": null,
       "left": null,
       "margin": null,
       "max_height": null,
       "max_width": null,
       "min_height": null,
       "min_width": null,
       "object_fit": null,
       "object_position": null,
       "order": null,
       "overflow": null,
       "padding": null,
       "right": null,
       "top": null,
       "visibility": null,
       "width": null
      }
     },
     "8d5bb5a33cc745e29d512ff2f331f3e3": {
      "model_module": "@jupyter-widgets/controls",
      "model_module_version": "2.0.0",
      "model_name": "HBoxModel",
      "state": {
       "_dom_classes": [],
       "_model_module": "@jupyter-widgets/controls",
       "_model_module_version": "2.0.0",
       "_model_name": "HBoxModel",
       "_view_count": null,
       "_view_module": "@jupyter-widgets/controls",
       "_view_module_version": "2.0.0",
       "_view_name": "HBoxView",
       "box_style": "",
       "children": [
        "IPY_MODEL_b72b7f0cddd6493bad571c9a378f090f",
        "IPY_MODEL_d9c74a310f9b428582b2f795b73ac1cf",
        "IPY_MODEL_db30c71d0de74a6d934bf05283603f0b"
       ],
       "layout": "IPY_MODEL_ed72b1f5a1b64d69a851178c246e0531",
       "tabbable": null,
       "tooltip": null
      }
     },
     "b72b7f0cddd6493bad571c9a378f090f": {
      "model_module": "@jupyter-widgets/controls",
      "model_module_version": "2.0.0",
      "model_name": "HTMLModel",
      "state": {
       "_dom_classes": [],
       "_model_module": "@jupyter-widgets/controls",
       "_model_module_version": "2.0.0",
       "_model_name": "HTMLModel",
       "_view_count": null,
       "_view_module": "@jupyter-widgets/controls",
       "_view_module_version": "2.0.0",
       "_view_name": "HTMLView",
       "description": "",
       "description_allow_html": false,
       "layout": "IPY_MODEL_d87239381f4647a5b62e086dba19f12e",
       "placeholder": "​",
       "style": "IPY_MODEL_174dd0ed835d463aa594e3942659293e",
       "tabbable": null,
       "tooltip": null,
       "value": "model.safetensors: 100%"
      }
     },
     "d87239381f4647a5b62e086dba19f12e": {
      "model_module": "@jupyter-widgets/base",
      "model_module_version": "2.0.0",
      "model_name": "LayoutModel",
      "state": {
       "_model_module": "@jupyter-widgets/base",
       "_model_module_version": "2.0.0",
       "_model_name": "LayoutModel",
       "_view_count": null,
       "_view_module": "@jupyter-widgets/base",
       "_view_module_version": "2.0.0",
       "_view_name": "LayoutView",
       "align_content": null,
       "align_items": null,
       "align_self": null,
       "border_bottom": null,
       "border_left": null,
       "border_right": null,
       "border_top": null,
       "bottom": null,
       "display": null,
       "flex": null,
       "flex_flow": null,
       "grid_area": null,
       "grid_auto_columns": null,
       "grid_auto_flow": null,
       "grid_auto_rows": null,
       "grid_column": null,
       "grid_gap": null,
       "grid_row": null,
       "grid_template_areas": null,
       "grid_template_columns": null,
       "grid_template_rows": null,
       "height": null,
       "justify_content": null,
       "justify_items": null,
       "left": null,
       "margin": null,
       "max_height": null,
       "max_width": null,
       "min_height": null,
       "min_width": null,
       "object_fit": null,
       "object_position": null,
       "order": null,
       "overflow": null,
       "padding": null,
       "right": null,
       "top": null,
       "visibility": null,
       "width": null
      }
     },
     "d9c74a310f9b428582b2f795b73ac1cf": {
      "model_module": "@jupyter-widgets/controls",
      "model_module_version": "2.0.0",
      "model_name": "FloatProgressModel",
      "state": {
       "_dom_classes": [],
       "_model_module": "@jupyter-widgets/controls",
       "_model_module_version": "2.0.0",
       "_model_name": "FloatProgressModel",
       "_view_count": null,
       "_view_module": "@jupyter-widgets/controls",
       "_view_module_version": "2.0.0",
       "_view_name": "ProgressView",
       "bar_style": "success",
       "description": "",
       "description_allow_html": false,
       "layout": "IPY_MODEL_73e66845904a4f739d1300a401be4475",
       "max": 349367122.0,
       "min": 0.0,
       "orientation": "horizontal",
       "style": "IPY_MODEL_6dc86ceb4cce4a1eab39b8f10679ee2e",
       "tabbable": null,
       "tooltip": null,
       "value": 349367122.0
      }
     },
     "db30c71d0de74a6d934bf05283603f0b": {
      "model_module": "@jupyter-widgets/controls",
      "model_module_version": "2.0.0",
      "model_name": "HTMLModel",
      "state": {
       "_dom_classes": [],
       "_model_module": "@jupyter-widgets/controls",
       "_model_module_version": "2.0.0",
       "_model_name": "HTMLModel",
       "_view_count": null,
       "_view_module": "@jupyter-widgets/controls",
       "_view_module_version": "2.0.0",
       "_view_name": "HTMLView",
       "description": "",
       "description_allow_html": false,
       "layout": "IPY_MODEL_05966c3013e24381a7b6940f89ab4315",
       "placeholder": "​",
       "style": "IPY_MODEL_68d4f49a6a2d4ceeb1a2e7c7486c7c09",
       "tabbable": null,
       "tooltip": null,
       "value": " 349M/349M [00:01&lt;00:00, 318MB/s]"
      }
     },
     "ed72b1f5a1b64d69a851178c246e0531": {
      "model_module": "@jupyter-widgets/base",
      "model_module_version": "2.0.0",
      "model_name": "LayoutModel",
      "state": {
       "_model_module": "@jupyter-widgets/base",
       "_model_module_version": "2.0.0",
       "_model_name": "LayoutModel",
       "_view_count": null,
       "_view_module": "@jupyter-widgets/base",
       "_view_module_version": "2.0.0",
       "_view_name": "LayoutView",
       "align_content": null,
       "align_items": null,
       "align_self": null,
       "border_bottom": null,
       "border_left": null,
       "border_right": null,
       "border_top": null,
       "bottom": null,
       "display": null,
       "flex": null,
       "flex_flow": null,
       "grid_area": null,
       "grid_auto_columns": null,
       "grid_auto_flow": null,
       "grid_auto_rows": null,
       "grid_column": null,
       "grid_gap": null,
       "grid_row": null,
       "grid_template_areas": null,
       "grid_template_columns": null,
       "grid_template_rows": null,
       "height": null,
       "justify_content": null,
       "justify_items": null,
       "left": null,
       "margin": null,
       "max_height": null,
       "max_width": null,
       "min_height": null,
       "min_width": null,
       "object_fit": null,
       "object_position": null,
       "order": null,
       "overflow": null,
       "padding": null,
       "right": null,
       "top": null,
       "visibility": null,
       "width": null
      }
     }
    },
    "version_major": 2,
    "version_minor": 0
   }
  }
 },
 "nbformat": 4,
 "nbformat_minor": 5
}
